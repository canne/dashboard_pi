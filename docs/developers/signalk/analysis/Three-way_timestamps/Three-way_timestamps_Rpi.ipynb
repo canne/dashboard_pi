{
 "cells": [
  {
   "cell_type": "markdown",
   "metadata": {},
   "source": [
    "# Comparison of timestamps in three alternative NMEA data paths"
   ]
  },
  {
   "cell_type": "markdown",
   "metadata": {},
   "source": [
    "## Rasbian \"Buster\" - OpenCPN v5.0.0 - Signal K v1.17.0 - DashT v.0.5.2 "
   ]
  },
  {
   "cell_type": "markdown",
   "metadata": {},
   "source": [
    "We observe a five minute sampling period stored in InfluxDB database for each of the use case for single value of Apparent Wind Angle:\n",
    "\n",
    "1. data via Signal K delta TCP channel with Signal K timestamps at its own reception\n",
    "\n",
    "2. data via Signal K to NMEA-0183 via TCP channel timestamps at reception at the InfluxDB instruments\n",
    "\n",
    "3. data directly from USB to OpenCPN\n",
    "\n",
    "In all above cases the USB is set to 115200 baud at reception on Rasbian \"Buster\" (Raspberry Pi 4B 4GB) running OpenCPN v5.0.0. Data is originated from Raymarine SeaTalk (4800 baud) and converted to USB in MiniPlex II multiplexer - about 40 values per second are transmitted through this channel but only True Wind Angle timestamp behaviour is observed in this test."
   ]
  },
  {
   "cell_type": "markdown",
   "metadata": {},
   "source": [
    "![2019-10-05_224016_3x_data_series_overview_Rpi.png](2019-10-05_224016_3x_data_series_overview_Rpi.png) [(zoom)](img/2019-10-05_224016_3x_data_series_overview_Rpi.png)"
   ]
  },
  {
   "cell_type": "markdown",
   "metadata": {},
   "source": [
    "<hr />"
   ]
  },
  {
   "cell_type": "markdown",
   "metadata": {},
   "source": [
    "## Numerical comparison"
   ]
  },
  {
   "cell_type": "code",
   "execution_count": 33,
   "metadata": {},
   "outputs": [],
   "source": [
    "import numpy as np\n",
    "import pandas as pd"
   ]
  },
  {
   "cell_type": "markdown",
   "metadata": {},
   "source": [
    "### Data via Signal K delta TCP channel"
   ]
  },
  {
   "cell_type": "markdown",
   "metadata": {},
   "source": [
    "![2019-10-05_224308_SignalK_delta_zoom_Rpi.png](2019-10-05_224308_SignalK_delta_zoom_Rpi.png) [(zoom)](img/2019-10-05_224308_SignalK_delta_zoom_Rpi.png)"
   ]
  },
  {
   "cell_type": "code",
   "execution_count": 34,
   "metadata": {},
   "outputs": [],
   "source": [
    "df = pd.read_csv(\"2019-10-05_224308_SignalK_delta_zoom_Rpi.csv\", sep=',', header=3)"
   ]
  },
  {
   "cell_type": "code",
   "execution_count": 35,
   "metadata": {},
   "outputs": [
    {
     "data": {
      "text/html": [
       "<div>\n",
       "<style scoped>\n",
       "    .dataframe tbody tr th:only-of-type {\n",
       "        vertical-align: middle;\n",
       "    }\n",
       "\n",
       "    .dataframe tbody tr th {\n",
       "        vertical-align: top;\n",
       "    }\n",
       "\n",
       "    .dataframe thead th {\n",
       "        text-align: right;\n",
       "    }\n",
       "</style>\n",
       "<table border=\"1\" class=\"dataframe\">\n",
       "  <thead>\n",
       "    <tr style=\"text-align: right;\">\n",
       "      <th></th>\n",
       "      <th>Unnamed: 0</th>\n",
       "      <th>result</th>\n",
       "      <th>table</th>\n",
       "      <th>_start</th>\n",
       "      <th>_stop</th>\n",
       "      <th>_time</th>\n",
       "      <th>_value</th>\n",
       "      <th>_field</th>\n",
       "      <th>_measurement</th>\n",
       "      <th>prop1</th>\n",
       "    </tr>\n",
       "  </thead>\n",
       "  <tbody>\n",
       "    <tr>\n",
       "      <td>0</td>\n",
       "      <td>NaN</td>\n",
       "      <td>NaN</td>\n",
       "      <td>0</td>\n",
       "      <td>2019-10-05T16:14:00Z</td>\n",
       "      <td>2019-10-05T16:19:00Z</td>\n",
       "      <td>2019-10-05T16:14:01.169Z</td>\n",
       "      <td>-28.1</td>\n",
       "      <td>angleTrue</td>\n",
       "      <td>environment</td>\n",
       "      <td>wind</td>\n",
       "    </tr>\n",
       "    <tr>\n",
       "      <td>1</td>\n",
       "      <td>NaN</td>\n",
       "      <td>NaN</td>\n",
       "      <td>0</td>\n",
       "      <td>2019-10-05T16:14:00Z</td>\n",
       "      <td>2019-10-05T16:19:00Z</td>\n",
       "      <td>2019-10-05T16:14:03.106Z</td>\n",
       "      <td>-26.6</td>\n",
       "      <td>angleTrue</td>\n",
       "      <td>environment</td>\n",
       "      <td>wind</td>\n",
       "    </tr>\n",
       "    <tr>\n",
       "      <td>2</td>\n",
       "      <td>NaN</td>\n",
       "      <td>NaN</td>\n",
       "      <td>0</td>\n",
       "      <td>2019-10-05T16:14:00Z</td>\n",
       "      <td>2019-10-05T16:19:00Z</td>\n",
       "      <td>2019-10-05T16:14:05.045Z</td>\n",
       "      <td>-26.1</td>\n",
       "      <td>angleTrue</td>\n",
       "      <td>environment</td>\n",
       "      <td>wind</td>\n",
       "    </tr>\n",
       "    <tr>\n",
       "      <td>3</td>\n",
       "      <td>NaN</td>\n",
       "      <td>NaN</td>\n",
       "      <td>0</td>\n",
       "      <td>2019-10-05T16:14:00Z</td>\n",
       "      <td>2019-10-05T16:19:00Z</td>\n",
       "      <td>2019-10-05T16:14:06.049Z</td>\n",
       "      <td>-30.1</td>\n",
       "      <td>angleTrue</td>\n",
       "      <td>environment</td>\n",
       "      <td>wind</td>\n",
       "    </tr>\n",
       "    <tr>\n",
       "      <td>4</td>\n",
       "      <td>NaN</td>\n",
       "      <td>NaN</td>\n",
       "      <td>0</td>\n",
       "      <td>2019-10-05T16:14:00Z</td>\n",
       "      <td>2019-10-05T16:19:00Z</td>\n",
       "      <td>2019-10-05T16:14:07.956Z</td>\n",
       "      <td>-33.1</td>\n",
       "      <td>angleTrue</td>\n",
       "      <td>environment</td>\n",
       "      <td>wind</td>\n",
       "    </tr>\n",
       "  </tbody>\n",
       "</table>\n",
       "</div>"
      ],
      "text/plain": [
       "   Unnamed: 0  result  table                _start                 _stop  \\\n",
       "0         NaN     NaN      0  2019-10-05T16:14:00Z  2019-10-05T16:19:00Z   \n",
       "1         NaN     NaN      0  2019-10-05T16:14:00Z  2019-10-05T16:19:00Z   \n",
       "2         NaN     NaN      0  2019-10-05T16:14:00Z  2019-10-05T16:19:00Z   \n",
       "3         NaN     NaN      0  2019-10-05T16:14:00Z  2019-10-05T16:19:00Z   \n",
       "4         NaN     NaN      0  2019-10-05T16:14:00Z  2019-10-05T16:19:00Z   \n",
       "\n",
       "                      _time  _value     _field _measurement prop1  \n",
       "0  2019-10-05T16:14:01.169Z   -28.1  angleTrue  environment  wind  \n",
       "1  2019-10-05T16:14:03.106Z   -26.6  angleTrue  environment  wind  \n",
       "2  2019-10-05T16:14:05.045Z   -26.1  angleTrue  environment  wind  \n",
       "3  2019-10-05T16:14:06.049Z   -30.1  angleTrue  environment  wind  \n",
       "4  2019-10-05T16:14:07.956Z   -33.1  angleTrue  environment  wind  "
      ]
     },
     "execution_count": 35,
     "metadata": {},
     "output_type": "execute_result"
    }
   ],
   "source": [
    "df.head()"
   ]
  },
  {
   "cell_type": "code",
   "execution_count": 36,
   "metadata": {},
   "outputs": [
    {
     "data": {
      "text/plain": [
       "count    166.000000\n",
       "mean     -21.151807\n",
       "std       11.759992\n",
       "min      -46.600000\n",
       "25%      -28.975000\n",
       "50%      -22.100000\n",
       "75%      -14.725000\n",
       "max       26.500000\n",
       "Name: _value, dtype: float64"
      ]
     },
     "execution_count": 36,
     "metadata": {},
     "output_type": "execute_result"
    }
   ],
   "source": [
    "df._value.describe()"
   ]
  },
  {
   "cell_type": "code",
   "execution_count": 37,
   "metadata": {},
   "outputs": [],
   "source": [
    "df1 = pd.to_datetime(df['_time'])"
   ]
  },
  {
   "cell_type": "code",
   "execution_count": 38,
   "metadata": {},
   "outputs": [
    {
     "data": {
      "text/plain": [
       "count                                  166\n",
       "unique                                 166\n",
       "top       2019-10-05 16:15:40.881000+00:00\n",
       "freq                                     1\n",
       "first     2019-10-05 16:14:01.169000+00:00\n",
       "last      2019-10-05 16:18:59.339000+00:00\n",
       "Name: _time, dtype: object"
      ]
     },
     "execution_count": 38,
     "metadata": {},
     "output_type": "execute_result"
    }
   ],
   "source": [
    "df1.describe()"
   ]
  },
  {
   "cell_type": "code",
   "execution_count": 39,
   "metadata": {},
   "outputs": [],
   "source": [
    "df2 = df1.astype(np.int64).div(1e6)"
   ]
  },
  {
   "cell_type": "code",
   "execution_count": 40,
   "metadata": {},
   "outputs": [],
   "source": [
    "df3 = df2.diff()"
   ]
  },
  {
   "cell_type": "code",
   "execution_count": 41,
   "metadata": {},
   "outputs": [
    {
     "data": {
      "text/plain": [
       "count     165.000000\n",
       "mean     1807.090909\n",
       "std       313.462833\n",
       "min      1000.000000\n",
       "25%      1863.000000\n",
       "50%      1931.000000\n",
       "75%      1942.999756\n",
       "max      2225.000000\n",
       "Name: _time, dtype: float64"
      ]
     },
     "execution_count": 41,
     "metadata": {},
     "output_type": "execute_result"
    }
   ],
   "source": [
    "df3.describe()"
   ]
  },
  {
   "cell_type": "markdown",
   "metadata": {},
   "source": [
    "### Data via Signal K to NMEA-0183 converter TCP channel"
   ]
  },
  {
   "cell_type": "markdown",
   "metadata": {},
   "source": [
    "![2019-10-05_224509_SignalK_NMEA_TCP_zoom_Rpi.png](2019-10-05_224509_SignalK_NMEA_TCP_zoom_Rpi.png) [(zoom)](img/2019-10-05_224509_SignalK_NMEA_TCP_zoom_Rpi.png)"
   ]
  },
  {
   "cell_type": "code",
   "execution_count": 42,
   "metadata": {},
   "outputs": [],
   "source": [
    "nf = pd.read_csv(\"2019-10-05_224509_SignalK_NMEA_TCP_zoom_Rpi.csv\", sep=',', header=3)"
   ]
  },
  {
   "cell_type": "code",
   "execution_count": 43,
   "metadata": {},
   "outputs": [
    {
     "data": {
      "text/html": [
       "<div>\n",
       "<style scoped>\n",
       "    .dataframe tbody tr th:only-of-type {\n",
       "        vertical-align: middle;\n",
       "    }\n",
       "\n",
       "    .dataframe tbody tr th {\n",
       "        vertical-align: top;\n",
       "    }\n",
       "\n",
       "    .dataframe thead th {\n",
       "        text-align: right;\n",
       "    }\n",
       "</style>\n",
       "<table border=\"1\" class=\"dataframe\">\n",
       "  <thead>\n",
       "    <tr style=\"text-align: right;\">\n",
       "      <th></th>\n",
       "      <th>Unnamed: 0</th>\n",
       "      <th>result</th>\n",
       "      <th>table</th>\n",
       "      <th>_start</th>\n",
       "      <th>_stop</th>\n",
       "      <th>_time</th>\n",
       "      <th>_value</th>\n",
       "      <th>_field</th>\n",
       "      <th>_measurement</th>\n",
       "      <th>prop1</th>\n",
       "    </tr>\n",
       "  </thead>\n",
       "  <tbody>\n",
       "    <tr>\n",
       "      <td>0</td>\n",
       "      <td>NaN</td>\n",
       "      <td>NaN</td>\n",
       "      <td>0</td>\n",
       "      <td>2019-10-05T16:23:00Z</td>\n",
       "      <td>2019-10-05T16:28:00Z</td>\n",
       "      <td>2019-10-05T16:23:00.423Z</td>\n",
       "      <td>19.6</td>\n",
       "      <td>angleTrue</td>\n",
       "      <td>environment</td>\n",
       "      <td>wind</td>\n",
       "    </tr>\n",
       "    <tr>\n",
       "      <td>1</td>\n",
       "      <td>NaN</td>\n",
       "      <td>NaN</td>\n",
       "      <td>0</td>\n",
       "      <td>2019-10-05T16:23:00Z</td>\n",
       "      <td>2019-10-05T16:28:00Z</td>\n",
       "      <td>2019-10-05T16:23:02.379Z</td>\n",
       "      <td>26.6</td>\n",
       "      <td>angleTrue</td>\n",
       "      <td>environment</td>\n",
       "      <td>wind</td>\n",
       "    </tr>\n",
       "    <tr>\n",
       "      <td>2</td>\n",
       "      <td>NaN</td>\n",
       "      <td>NaN</td>\n",
       "      <td>0</td>\n",
       "      <td>2019-10-05T16:23:00Z</td>\n",
       "      <td>2019-10-05T16:28:00Z</td>\n",
       "      <td>2019-10-05T16:23:04.295Z</td>\n",
       "      <td>26.1</td>\n",
       "      <td>angleTrue</td>\n",
       "      <td>environment</td>\n",
       "      <td>wind</td>\n",
       "    </tr>\n",
       "    <tr>\n",
       "      <td>3</td>\n",
       "      <td>NaN</td>\n",
       "      <td>NaN</td>\n",
       "      <td>0</td>\n",
       "      <td>2019-10-05T16:23:00Z</td>\n",
       "      <td>2019-10-05T16:28:00Z</td>\n",
       "      <td>2019-10-05T16:23:05.38Z</td>\n",
       "      <td>26.1</td>\n",
       "      <td>angleTrue</td>\n",
       "      <td>environment</td>\n",
       "      <td>wind</td>\n",
       "    </tr>\n",
       "    <tr>\n",
       "      <td>4</td>\n",
       "      <td>NaN</td>\n",
       "      <td>NaN</td>\n",
       "      <td>0</td>\n",
       "      <td>2019-10-05T16:23:00Z</td>\n",
       "      <td>2019-10-05T16:28:00Z</td>\n",
       "      <td>2019-10-05T16:23:07.104Z</td>\n",
       "      <td>40.6</td>\n",
       "      <td>angleTrue</td>\n",
       "      <td>environment</td>\n",
       "      <td>wind</td>\n",
       "    </tr>\n",
       "  </tbody>\n",
       "</table>\n",
       "</div>"
      ],
      "text/plain": [
       "   Unnamed: 0  result  table                _start                 _stop  \\\n",
       "0         NaN     NaN      0  2019-10-05T16:23:00Z  2019-10-05T16:28:00Z   \n",
       "1         NaN     NaN      0  2019-10-05T16:23:00Z  2019-10-05T16:28:00Z   \n",
       "2         NaN     NaN      0  2019-10-05T16:23:00Z  2019-10-05T16:28:00Z   \n",
       "3         NaN     NaN      0  2019-10-05T16:23:00Z  2019-10-05T16:28:00Z   \n",
       "4         NaN     NaN      0  2019-10-05T16:23:00Z  2019-10-05T16:28:00Z   \n",
       "\n",
       "                      _time  _value     _field _measurement prop1  \n",
       "0  2019-10-05T16:23:00.423Z    19.6  angleTrue  environment  wind  \n",
       "1  2019-10-05T16:23:02.379Z    26.6  angleTrue  environment  wind  \n",
       "2  2019-10-05T16:23:04.295Z    26.1  angleTrue  environment  wind  \n",
       "3   2019-10-05T16:23:05.38Z    26.1  angleTrue  environment  wind  \n",
       "4  2019-10-05T16:23:07.104Z    40.6  angleTrue  environment  wind  "
      ]
     },
     "execution_count": 43,
     "metadata": {},
     "output_type": "execute_result"
    }
   ],
   "source": [
    "nf.head()"
   ]
  },
  {
   "cell_type": "code",
   "execution_count": 44,
   "metadata": {},
   "outputs": [
    {
     "data": {
      "text/plain": [
       "count    188.000000\n",
       "mean      21.622872\n",
       "std        9.844945\n",
       "min        0.500000\n",
       "25%       13.850000\n",
       "50%       22.850000\n",
       "75%       29.600000\n",
       "max       41.200000\n",
       "Name: _value, dtype: float64"
      ]
     },
     "execution_count": 44,
     "metadata": {},
     "output_type": "execute_result"
    }
   ],
   "source": [
    "nf._value.describe()"
   ]
  },
  {
   "cell_type": "code",
   "execution_count": 45,
   "metadata": {},
   "outputs": [],
   "source": [
    "nf1 = pd.to_datetime(nf['_time'])"
   ]
  },
  {
   "cell_type": "code",
   "execution_count": 46,
   "metadata": {},
   "outputs": [
    {
     "data": {
      "text/plain": [
       "count                                  188\n",
       "unique                                 188\n",
       "top       2019-10-05 16:24:50.701000+00:00\n",
       "freq                                     1\n",
       "first     2019-10-05 16:23:00.423000+00:00\n",
       "last      2019-10-05 16:27:59.431000+00:00\n",
       "Name: _time, dtype: object"
      ]
     },
     "execution_count": 46,
     "metadata": {},
     "output_type": "execute_result"
    }
   ],
   "source": [
    "nf1.describe()"
   ]
  },
  {
   "cell_type": "code",
   "execution_count": 47,
   "metadata": {},
   "outputs": [],
   "source": [
    "nf2 = nf1.astype(np.int64).div(1e6)"
   ]
  },
  {
   "cell_type": "code",
   "execution_count": 48,
   "metadata": {},
   "outputs": [],
   "source": [
    "nf3 = nf2.diff()"
   ]
  },
  {
   "cell_type": "code",
   "execution_count": 49,
   "metadata": {},
   "outputs": [
    {
     "data": {
      "text/plain": [
       "count     187.000000\n",
       "mean     1598.973262\n",
       "std       422.940687\n",
       "min      1000.000000\n",
       "25%      1026.500000\n",
       "50%      1877.000000\n",
       "75%      1928.000000\n",
       "max      2036.000000\n",
       "Name: _time, dtype: float64"
      ]
     },
     "execution_count": 49,
     "metadata": {},
     "output_type": "execute_result"
    }
   ],
   "source": [
    "nf3.describe()"
   ]
  },
  {
   "cell_type": "markdown",
   "metadata": {},
   "source": [
    "### Data without Signal K directly from USB"
   ]
  },
  {
   "cell_type": "markdown",
   "metadata": {},
   "source": [
    "![2019-10-05_224657_USB_to_O_zoom_Rpi.png](2019-10-05_224657_USB_to_O_zoom_Rpi.png) [(zoom)](img/2019-10-05_224657_USB_to_O_zoom_Rpi.png)"
   ]
  },
  {
   "cell_type": "code",
   "execution_count": 50,
   "metadata": {},
   "outputs": [],
   "source": [
    "of = pd.read_csv(\"2019-10-05_224657_USB_to_O_zoom_Rpi.csv\", sep=',', header=3)"
   ]
  },
  {
   "cell_type": "code",
   "execution_count": 51,
   "metadata": {},
   "outputs": [
    {
     "data": {
      "text/html": [
       "<div>\n",
       "<style scoped>\n",
       "    .dataframe tbody tr th:only-of-type {\n",
       "        vertical-align: middle;\n",
       "    }\n",
       "\n",
       "    .dataframe tbody tr th {\n",
       "        vertical-align: top;\n",
       "    }\n",
       "\n",
       "    .dataframe thead th {\n",
       "        text-align: right;\n",
       "    }\n",
       "</style>\n",
       "<table border=\"1\" class=\"dataframe\">\n",
       "  <thead>\n",
       "    <tr style=\"text-align: right;\">\n",
       "      <th></th>\n",
       "      <th>Unnamed: 0</th>\n",
       "      <th>result</th>\n",
       "      <th>table</th>\n",
       "      <th>_start</th>\n",
       "      <th>_stop</th>\n",
       "      <th>_time</th>\n",
       "      <th>_value</th>\n",
       "      <th>_field</th>\n",
       "      <th>_measurement</th>\n",
       "      <th>prop1</th>\n",
       "    </tr>\n",
       "  </thead>\n",
       "  <tbody>\n",
       "    <tr>\n",
       "      <td>0</td>\n",
       "      <td>NaN</td>\n",
       "      <td>NaN</td>\n",
       "      <td>0</td>\n",
       "      <td>2019-10-05T16:34:00Z</td>\n",
       "      <td>2019-10-05T16:39:00Z</td>\n",
       "      <td>2019-10-05T16:34:01.719Z</td>\n",
       "      <td>8.1</td>\n",
       "      <td>angleTrue</td>\n",
       "      <td>environment</td>\n",
       "      <td>wind</td>\n",
       "    </tr>\n",
       "    <tr>\n",
       "      <td>1</td>\n",
       "      <td>NaN</td>\n",
       "      <td>NaN</td>\n",
       "      <td>0</td>\n",
       "      <td>2019-10-05T16:34:00Z</td>\n",
       "      <td>2019-10-05T16:39:00Z</td>\n",
       "      <td>2019-10-05T16:34:03.658Z</td>\n",
       "      <td>9.1</td>\n",
       "      <td>angleTrue</td>\n",
       "      <td>environment</td>\n",
       "      <td>wind</td>\n",
       "    </tr>\n",
       "    <tr>\n",
       "      <td>2</td>\n",
       "      <td>NaN</td>\n",
       "      <td>NaN</td>\n",
       "      <td>0</td>\n",
       "      <td>2019-10-05T16:34:00Z</td>\n",
       "      <td>2019-10-05T16:39:00Z</td>\n",
       "      <td>2019-10-05T16:34:05.585Z</td>\n",
       "      <td>4.1</td>\n",
       "      <td>angleTrue</td>\n",
       "      <td>environment</td>\n",
       "      <td>wind</td>\n",
       "    </tr>\n",
       "    <tr>\n",
       "      <td>3</td>\n",
       "      <td>NaN</td>\n",
       "      <td>NaN</td>\n",
       "      <td>0</td>\n",
       "      <td>2019-10-05T16:34:00Z</td>\n",
       "      <td>2019-10-05T16:39:00Z</td>\n",
       "      <td>2019-10-05T16:34:07.545Z</td>\n",
       "      <td>1.6</td>\n",
       "      <td>angleTrue</td>\n",
       "      <td>environment</td>\n",
       "      <td>wind</td>\n",
       "    </tr>\n",
       "    <tr>\n",
       "      <td>4</td>\n",
       "      <td>NaN</td>\n",
       "      <td>NaN</td>\n",
       "      <td>0</td>\n",
       "      <td>2019-10-05T16:34:00Z</td>\n",
       "      <td>2019-10-05T16:39:00Z</td>\n",
       "      <td>2019-10-05T16:34:09.462Z</td>\n",
       "      <td>7.6</td>\n",
       "      <td>angleTrue</td>\n",
       "      <td>environment</td>\n",
       "      <td>wind</td>\n",
       "    </tr>\n",
       "  </tbody>\n",
       "</table>\n",
       "</div>"
      ],
      "text/plain": [
       "   Unnamed: 0  result  table                _start                 _stop  \\\n",
       "0         NaN     NaN      0  2019-10-05T16:34:00Z  2019-10-05T16:39:00Z   \n",
       "1         NaN     NaN      0  2019-10-05T16:34:00Z  2019-10-05T16:39:00Z   \n",
       "2         NaN     NaN      0  2019-10-05T16:34:00Z  2019-10-05T16:39:00Z   \n",
       "3         NaN     NaN      0  2019-10-05T16:34:00Z  2019-10-05T16:39:00Z   \n",
       "4         NaN     NaN      0  2019-10-05T16:34:00Z  2019-10-05T16:39:00Z   \n",
       "\n",
       "                      _time  _value     _field _measurement prop1  \n",
       "0  2019-10-05T16:34:01.719Z     8.1  angleTrue  environment  wind  \n",
       "1  2019-10-05T16:34:03.658Z     9.1  angleTrue  environment  wind  \n",
       "2  2019-10-05T16:34:05.585Z     4.1  angleTrue  environment  wind  \n",
       "3  2019-10-05T16:34:07.545Z     1.6  angleTrue  environment  wind  \n",
       "4  2019-10-05T16:34:09.462Z     7.6  angleTrue  environment  wind  "
      ]
     },
     "execution_count": 51,
     "metadata": {},
     "output_type": "execute_result"
    }
   ],
   "source": [
    "of.head()"
   ]
  },
  {
   "cell_type": "code",
   "execution_count": 52,
   "metadata": {},
   "outputs": [
    {
     "data": {
      "text/plain": [
       "count    172.000000\n",
       "mean      16.232558\n",
       "std       10.655020\n",
       "min        0.500000\n",
       "25%        7.900000\n",
       "50%       15.600000\n",
       "75%       22.225000\n",
       "max       52.100000\n",
       "Name: _value, dtype: float64"
      ]
     },
     "execution_count": 52,
     "metadata": {},
     "output_type": "execute_result"
    }
   ],
   "source": [
    "of._value.describe()"
   ]
  },
  {
   "cell_type": "code",
   "execution_count": 53,
   "metadata": {},
   "outputs": [],
   "source": [
    "of1 = pd.to_datetime(of['_time'])"
   ]
  },
  {
   "cell_type": "code",
   "execution_count": 54,
   "metadata": {},
   "outputs": [
    {
     "data": {
      "text/plain": [
       "count                                  172\n",
       "unique                                 172\n",
       "top       2019-10-05 16:36:01.753000+00:00\n",
       "freq                                     1\n",
       "first     2019-10-05 16:34:01.719000+00:00\n",
       "last      2019-10-05 16:38:58.943000+00:00\n",
       "Name: _time, dtype: object"
      ]
     },
     "execution_count": 54,
     "metadata": {},
     "output_type": "execute_result"
    }
   ],
   "source": [
    "of1.describe()"
   ]
  },
  {
   "cell_type": "code",
   "execution_count": 55,
   "metadata": {},
   "outputs": [],
   "source": [
    "of2 = of1.astype(np.int64).div(1e6)"
   ]
  },
  {
   "cell_type": "code",
   "execution_count": 56,
   "metadata": {},
   "outputs": [],
   "source": [
    "of3 = of2.diff()"
   ]
  },
  {
   "cell_type": "code",
   "execution_count": 57,
   "metadata": {},
   "outputs": [
    {
     "data": {
      "text/plain": [
       "count     171.000000\n",
       "mean     1738.152047\n",
       "std       366.632300\n",
       "min      1000.000000\n",
       "25%      1825.499634\n",
       "50%      1925.000000\n",
       "75%      1942.500000\n",
       "max      2025.999756\n",
       "Name: _time, dtype: float64"
      ]
     },
     "execution_count": 57,
     "metadata": {},
     "output_type": "execute_result"
    }
   ],
   "source": [
    "of3.describe()"
   ]
  },
  {
   "cell_type": "markdown",
   "metadata": {},
   "source": [
    "<hr/>"
   ]
  },
  {
   "cell_type": "markdown",
   "metadata": {},
   "source": [
    "## Graphical comparison"
   ]
  },
  {
   "cell_type": "markdown",
   "metadata": {},
   "source": [
    "[GNU Octave v5.1](https://www.gnu.org/software/octave/)/MATLAB script [jitterplots.m](jitterplots.m) was developed to present the jitter in graphical plot format, including the cumulative difference. The datafiles were truncated to hold 150 measurement points each. A helper script [raspberryjitter.m](raspberryjitter.m) was used to produce the following plots."
   ]
  },
  {
   "cell_type": "markdown",
   "metadata": {},
   "source": [
    "![raspberryjitter.png](raspberryjitter.png) [(zoom)](img/raspberryjitter.png)"
   ]
  },
  {
   "cell_type": "markdown",
   "metadata": {},
   "source": [
    "<hr/>"
   ]
  },
  {
   "cell_type": "markdown",
   "metadata": {},
   "source": [
    "## Miscellaneous observations"
   ]
  },
  {
   "cell_type": "markdown",
   "metadata": {},
   "source": [
    "### Applying moving average"
   ]
  },
  {
   "cell_type": "markdown",
   "metadata": {},
   "source": [
    "![2019-10-05_224657_USB_to_O_zoom_Rpi_moving_average.png](2019-10-05_224657_USB_to_O_zoom_Rpi_moving_average.png) [(zoom)](img/2019-10-05_224657_USB_to_O_zoom_Rpi_moving_average.png)"
   ]
  },
  {
   "cell_type": "code",
   "execution_count": 58,
   "metadata": {},
   "outputs": [],
   "source": [
    "af = pd.read_csv(\"2019-10-05_224657_USB_to_O_zoom_Rpi_moving_average.csv\", sep=',', header=3)"
   ]
  },
  {
   "cell_type": "code",
   "execution_count": 59,
   "metadata": {},
   "outputs": [
    {
     "data": {
      "text/html": [
       "<div>\n",
       "<style scoped>\n",
       "    .dataframe tbody tr th:only-of-type {\n",
       "        vertical-align: middle;\n",
       "    }\n",
       "\n",
       "    .dataframe tbody tr th {\n",
       "        vertical-align: top;\n",
       "    }\n",
       "\n",
       "    .dataframe thead th {\n",
       "        text-align: right;\n",
       "    }\n",
       "</style>\n",
       "<table border=\"1\" class=\"dataframe\">\n",
       "  <thead>\n",
       "    <tr style=\"text-align: right;\">\n",
       "      <th></th>\n",
       "      <th>Unnamed: 0</th>\n",
       "      <th>result</th>\n",
       "      <th>table</th>\n",
       "      <th>_start</th>\n",
       "      <th>_stop</th>\n",
       "      <th>_time</th>\n",
       "      <th>_value</th>\n",
       "      <th>_field</th>\n",
       "      <th>_measurement</th>\n",
       "      <th>prop1</th>\n",
       "    </tr>\n",
       "  </thead>\n",
       "  <tbody>\n",
       "    <tr>\n",
       "      <td>0</td>\n",
       "      <td>NaN</td>\n",
       "      <td>NaN</td>\n",
       "      <td>0</td>\n",
       "      <td>2019-10-05T16:34:00Z</td>\n",
       "      <td>2019-10-05T16:39:00Z</td>\n",
       "      <td>2019-10-05T16:34:33.669Z</td>\n",
       "      <td>18.570</td>\n",
       "      <td>angleTrue</td>\n",
       "      <td>environment</td>\n",
       "      <td>wind</td>\n",
       "    </tr>\n",
       "    <tr>\n",
       "      <td>1</td>\n",
       "      <td>NaN</td>\n",
       "      <td>NaN</td>\n",
       "      <td>0</td>\n",
       "      <td>2019-10-05T16:34:00Z</td>\n",
       "      <td>2019-10-05T16:39:00Z</td>\n",
       "      <td>2019-10-05T16:34:35.605Z</td>\n",
       "      <td>18.795</td>\n",
       "      <td>angleTrue</td>\n",
       "      <td>environment</td>\n",
       "      <td>wind</td>\n",
       "    </tr>\n",
       "    <tr>\n",
       "      <td>2</td>\n",
       "      <td>NaN</td>\n",
       "      <td>NaN</td>\n",
       "      <td>0</td>\n",
       "      <td>2019-10-05T16:34:00Z</td>\n",
       "      <td>2019-10-05T16:39:00Z</td>\n",
       "      <td>2019-10-05T16:34:37.541Z</td>\n",
       "      <td>18.745</td>\n",
       "      <td>angleTrue</td>\n",
       "      <td>environment</td>\n",
       "      <td>wind</td>\n",
       "    </tr>\n",
       "    <tr>\n",
       "      <td>3</td>\n",
       "      <td>NaN</td>\n",
       "      <td>NaN</td>\n",
       "      <td>0</td>\n",
       "      <td>2019-10-05T16:34:00Z</td>\n",
       "      <td>2019-10-05T16:39:00Z</td>\n",
       "      <td>2019-10-05T16:34:39.468Z</td>\n",
       "      <td>18.995</td>\n",
       "      <td>angleTrue</td>\n",
       "      <td>environment</td>\n",
       "      <td>wind</td>\n",
       "    </tr>\n",
       "    <tr>\n",
       "      <td>4</td>\n",
       "      <td>NaN</td>\n",
       "      <td>NaN</td>\n",
       "      <td>0</td>\n",
       "      <td>2019-10-05T16:34:00Z</td>\n",
       "      <td>2019-10-05T16:39:00Z</td>\n",
       "      <td>2019-10-05T16:34:41.444Z</td>\n",
       "      <td>19.365</td>\n",
       "      <td>angleTrue</td>\n",
       "      <td>environment</td>\n",
       "      <td>wind</td>\n",
       "    </tr>\n",
       "  </tbody>\n",
       "</table>\n",
       "</div>"
      ],
      "text/plain": [
       "   Unnamed: 0  result  table                _start                 _stop  \\\n",
       "0         NaN     NaN      0  2019-10-05T16:34:00Z  2019-10-05T16:39:00Z   \n",
       "1         NaN     NaN      0  2019-10-05T16:34:00Z  2019-10-05T16:39:00Z   \n",
       "2         NaN     NaN      0  2019-10-05T16:34:00Z  2019-10-05T16:39:00Z   \n",
       "3         NaN     NaN      0  2019-10-05T16:34:00Z  2019-10-05T16:39:00Z   \n",
       "4         NaN     NaN      0  2019-10-05T16:34:00Z  2019-10-05T16:39:00Z   \n",
       "\n",
       "                      _time  _value     _field _measurement prop1  \n",
       "0  2019-10-05T16:34:33.669Z  18.570  angleTrue  environment  wind  \n",
       "1  2019-10-05T16:34:35.605Z  18.795  angleTrue  environment  wind  \n",
       "2  2019-10-05T16:34:37.541Z  18.745  angleTrue  environment  wind  \n",
       "3  2019-10-05T16:34:39.468Z  18.995  angleTrue  environment  wind  \n",
       "4  2019-10-05T16:34:41.444Z  19.365  angleTrue  environment  wind  "
      ]
     },
     "execution_count": 59,
     "metadata": {},
     "output_type": "execute_result"
    }
   ],
   "source": [
    "af.head()"
   ]
  },
  {
   "cell_type": "code",
   "execution_count": 60,
   "metadata": {},
   "outputs": [
    {
     "data": {
      "text/plain": [
       "count    153.000000\n",
       "mean      16.781928\n",
       "std        5.240853\n",
       "min        5.600000\n",
       "25%       13.300000\n",
       "50%       17.200000\n",
       "75%       20.085000\n",
       "max       27.700000\n",
       "Name: _value, dtype: float64"
      ]
     },
     "execution_count": 60,
     "metadata": {},
     "output_type": "execute_result"
    }
   ],
   "source": [
    "af._value.describe()"
   ]
  },
  {
   "cell_type": "markdown",
   "metadata": {},
   "source": [
    "<hr/>"
   ]
  },
  {
   "cell_type": "markdown",
   "metadata": {},
   "source": [
    "## Summary of results"
   ]
  },
  {
   "cell_type": "markdown",
   "metadata": {},
   "source": [
    "| data path | timestamp | standard deviation | maximum time difference |\n",
    "| --------- | --------- | :----------------: | :---------------------: |\n",
    "| 1 Signal K delta | at source | 313 ms | 2225 ms |\n",
    "| 2 Signal K NMEA TCP | at reception | 423 ms | 2036 ms | \n",
    "| 3 USB to OpenCPN | at reception | 367 ms | 2025 ms |"
   ]
  },
  {
   "cell_type": "markdown",
   "metadata": {},
   "source": [
    "## Conclusion "
   ]
  },
  {
   "cell_type": "markdown",
   "metadata": {},
   "source": [
    "Judged by a human eye there is no difference between the three methods - the needles and values are jumping back and forth as always!"
   ]
  },
  {
   "cell_type": "markdown",
   "metadata": {},
   "source": [
    "The difference will come apparent when we want to eliminate that jumping by applying some statistical and continuous algorithms on the received time series data. The accuracy of the time stamps is, of course important for any time series analysis."
   ]
  },
  {
   "cell_type": "markdown",
   "metadata": {},
   "source": [
    ">Based on the graphs we make an assumption that the upstream system, the Miniplex multiplexer receives the wind data from SeaTalk with $1Hz$ ($1/s$) frequency and that it adds some jitter into the system but that jitter is not possible to measure. However, that particular jitter source is the same to all three methods observed, allowing the comparison"
   ]
  },
  {
   "cell_type": "markdown",
   "metadata": {},
   "source": [
    "On Raspberry with Raspian Linux we can observe:"
   ]
  },
  {
   "cell_type": "markdown",
   "metadata": {},
   "source": [
    "1. Signal K NMEA-0183 conversion and TCP/IP feed to OpenCPN which the passes the data to the plug-in loses less packages than the other two solutions - it receives more packages in a period. However, jitter-wise it the worst of the three - about every other second a data frame is missed.\n",
    "\n",
    "2. Somewhat surprisingly, the direct connection of OpenCPN to the USB source is performing more badly than when it receives the data indirectly through Signal K using TCP/IP. The jitter is less important, however.\n",
    "\n",
    "3. Jitter-wise, the direct connection to the Signal K is the best, as expected. However, on this platform it is losing more packages than the two other methods. This can be explained partly by the low performance of the CPU on this platform - there is probably a saturation either on the npm-thread on Signal K side sending the delta-values or the on the POSIX communication thread of the Dashboard-Tactics plug-in receiving them, or on both."
   ]
  },
  {
   "cell_type": "markdown",
   "metadata": {},
   "source": [
    "On this platform the Signal K TCP feed to OpenCPN is the method to use if the number of samples is preferred, wxWidgets and OpenCPN TCP/IP implementation works very well here."
   ]
  },
  {
   "cell_type": "markdown",
   "metadata": {},
   "source": [
    "The direct Signal K connection's advantage is the reduced jitter also in this platform, not to mention the functional enhancements it provides. It can be used together with the Signal K TCP/IP feed since the requirement was precisely to reduce jitter for the key parameters."
   ]
  },
  {
   "cell_type": "markdown",
   "metadata": {},
   "source": [
    "Albeit the OpenCPN direct USB connection on a modest Rasberry Pi 4B board allows similar performances than more powerful i7 CPU based processor under Window 10, a similar level of jitter with lesser performance would suggest to prefer the usage of Signal K and TCP/IP. Of course, a direct TCP/IP connection to the Miniplex multiplexer is possible but not studied. Performance-wise this can be expected to provide similar results but since there is no performance penalty by using Signal K it would be pity not to profit from the extra functionality it provides."
   ]
  },
  {
   "cell_type": "markdown",
   "metadata": {},
   "source": [
    "Finally, let's consider the following statement from _Numerical Recipes In C: The Art of Scientific Computing (ISBN 0-521-43108-5)_ concerning irregularly sampled data, where the values $f_i$ are not uniformly spaced in time:"
   ]
  },
  {
   "cell_type": "markdown",
   "metadata": {},
   "source": [
    "> If the change in $f$ across the full width of the $N = nL + nR + 1$ point window is less than $\\sqrt{N/2}$ times the measurement noise on a single point, then the cheap method can be used."
   ]
  },
  {
   "cell_type": "markdown",
   "metadata": {},
   "source": [
    "The \"_cheap method_\" is to ignore the jitter. But as the above graphics illustrates, were are constantly switching, here for the wind data, between $1 Hz$ and $0.5 Hz$ for $f_i$!"
   ]
  }
 ],
 "metadata": {
  "kernelspec": {
   "display_name": "Python 3",
   "language": "python",
   "name": "python3"
  },
  "language_info": {
   "codemirror_mode": {
    "name": "ipython",
    "version": 3
   },
   "file_extension": ".py",
   "mimetype": "text/x-python",
   "name": "python",
   "nbconvert_exporter": "python",
   "pygments_lexer": "ipython3",
   "version": "3.8.2"
  }
 },
 "nbformat": 4,
 "nbformat_minor": 4
}
