{
 "cells": [
  {
   "cell_type": "markdown",
   "metadata": {},
   "source": [
    "# Analyze DashT data off-line"
   ]
  },
  {
   "cell_type": "markdown",
   "metadata": {},
   "source": [
    "<img src=\"img/by-nc.png\" alt=\"Attribution 4.0 International (CC BY 4.0)\" width=\"100\"> [Attribution 4.0 International (CC BY 4.0)](https://creativecommons.org/licenses/by-nc/4.0/) 2021-07-10 by [canne](https://github.com/canne)"
   ]
  },
  {
   "cell_type": "markdown",
   "metadata": {},
   "source": [
    "This paper studies different methods to work off-line with the data stored by [DashT, an OpenCPN chartplotter plug-in](https://dashboard-tactics-pi.readthedocs.io/) in view of analyzing data sets collected in long period of time, like during long legs of an offshore race."
   ]
  },
  {
   "cell_type": "markdown",
   "metadata": {},
   "source": [
    "We are studying the way synchronize datasets where the data is coming from various instruments having their own, asynchronous data rate. This error was mentioned in the tutorial  [1_TWA_TWS_STW_from_InfluxDBv2_calc_perf.ipynb](1_TWA_TWS_STW_from_InfluxDBv2_calc_perf.ipynb) addressing a simplified use case of a short regatta leg. It is therefore recommended to study that document first. "
   ]
  },
  {
   "cell_type": "markdown",
   "metadata": {},
   "source": [
    "## Using time reference instead of index"
   ]
  },
  {
   "cell_type": "markdown",
   "metadata": {},
   "source": [
    "When analysing data for a short period of time, say on a single leg of a coastal regatta one can quite safely simply the life and ignore the time domain in the data and use the index of various dataframe columns and compare the dataframes between each other. This is what one is basically doing underway, with a graphical data analysis tool like [Grafana](https://dashboard-tactics-pi.readthedocs.io/en/latest/influxdb/influxdb.html#Grafana). "
   ]
  },
  {
   "cell_type": "markdown",
   "metadata": {},
   "source": [
    "But if we want to analyze numerically data which is collected during a long period of time, like in a long offshore leg, let's give this approach a second thought by first looking at the data acquisition method used:"
   ]
  },
  {
   "cell_type": "markdown",
   "metadata": {},
   "source": [
    "_DastT_ contains Tactics algorithms, which are used to produce many data parameters, like the TWA/TWS used in the example below. As soon as one starts to mix calculated data (which is fast and more or less regular if the CPU-load is low) with the data captured from the boat's databus - the STW data used in the example below - one cannot consider that two data values present their values at the same moment in time."
   ]
  },
  {
   "cell_type": "markdown",
   "metadata": {},
   "source": [
    "This is true also for the data which is purely collected from boat's databus since the bus and the data on it is by definition asynchronous, since various instruments and sensors producing data are not synchronized by a clock tick and the bus in general is multimastered, so that the data producers can talk and send their data once they have it available."
   ]
  },
  {
   "cell_type": "markdown",
   "metadata": {},
   "source": [
    ">**Underway data plotting** and **Offline data analysis** are two different worlds: When underway, _DashT_'s Tactics algorithms do not suffer from this problem too much since they deal with the incoming data as soon as they arrive, maybe keeping a few tens of items from the past for the exponential smoothing. This happens without consider the the time delay between the two data since only a very limited number of buffered data is used in algorithms. Most of the algorithms are implementing exponential smoothing (_La Viola_) which attenuates all signals to the point that it is not a major concern of having, say two input values of AWA and HDG arriving one second interval between the two."
   ]
  },
  {
   "cell_type": "markdown",
   "metadata": {},
   "source": [
    "In off-line analysis of a time series of data we can do better by simply fact that we can observe at any point not only the recent history but also the future (from the observed moment point of view). Or actually, we **have to do better** if there are thousands of data points from various sources. The difference in time of the data points, if purely based on each data set index would introduce errors in the calculations since we would compare TWA/TWS data at one point in time to the STW data which had occurred, actually already earlier in time - there are more STW data points than there is TWA/TWS data: if you loop with index, you are going to deviate from the actual STW value at that moment of time."
   ]
  },
  {
   "cell_type": "markdown",
   "metadata": {},
   "source": [
    "In this example we are going to study time based approach to the _DashT_ data analysis."
   ]
  },
  {
   "cell_type": "markdown",
   "metadata": {},
   "source": [
    "## Retrieve TWA, TWS and STW from InfluxDB v2.0 and make time based fit"
   ]
  },
  {
   "cell_type": "markdown",
   "metadata": {},
   "source": [
    "In this example we analyze the data which has been collected in a past event into the InfluxDB v2.0 time series database using DashT database streamer."
   ]
  },
  {
   "cell_type": "markdown",
   "metadata": {},
   "source": [
    "We retrieve True Wind data for speed and angle (TWS and TWA) and speed through water data (STW) from the database during a period of interest."
   ]
  },
  {
   "cell_type": "markdown",
   "metadata": {},
   "source": [
    "The objective is to extract data from that set of data in a format which would allow us to compare the performance against the currently used polar file, in order to consider can we improve it - or shall we improve our sailing instead..."
   ]
  },
  {
   "cell_type": "markdown",
   "metadata": {},
   "source": [
    "The secondary objective is to demonstrate how the data within the same time window does not have same index and time correlation but that we have to use the _time_ in time series database to combine the data from different sources."
   ]
  },
  {
   "cell_type": "markdown",
   "metadata": {},
   "source": [
    "There are two ways of doing the data combining:"
   ]
  },
  {
   "cell_type": "markdown",
   "metadata": {},
   "source": [
    "1. Ask all data individually, only reasonably aggregated with original timestamps and then combine the data using the platform's tools and available methods ;\n",
    "1. Ask all data in one query and let the database and the platform dependent query routine to build the data structure with unique timestamps."
   ]
  },
  {
   "cell_type": "markdown",
   "metadata": {},
   "source": [
    "We will study the two methods below before starting the actual combining work."
   ]
  },
  {
   "cell_type": "markdown",
   "metadata": {},
   "source": [
    "## Retrieve individual values and align the time base"
   ]
  },
  {
   "cell_type": "markdown",
   "metadata": {},
   "source": [
    "In order to be able to deal with very large datasets, statistical methods must be used. First, directly on the database server to return a reasonably smoothed signal and later to fit a curve on those dataset points which are already smoothed by the database API functions."
   ]
  },
  {
   "cell_type": "markdown",
   "metadata": {},
   "source": [
    "Another method is to make all calculations from the pure raw data but as we can see from the rational presented below there is absolutely nothing to gain in this approach but both the CPU and the development time will be just wasted."
   ]
  },
  {
   "cell_type": "markdown",
   "metadata": {},
   "source": [
    "This example is executed on the data imported from a training session in 2018, analyzed in 2021: the timestamps are artificial, created from the GPS data synchronized time. Therefore the effective resolution of the data is in seconds not in milliseconds (albeit millisecond EPOCH timestamps are still used). We will be aiming to that resolution in the synchronization."
   ]
  },
  {
   "cell_type": "markdown",
   "metadata": {},
   "source": [
    "I have previously visualized the data on InfluxDB v2.0 web interface explorer and determined that the efficient sail time with a search for performance was from `2018-09-28T08:03:00Z` to `2018-09-28T09:22:00Z` :"
   ]
  },
  {
   "cell_type": "markdown",
   "metadata": {},
   "source": [
    ">It is good idea to record, while sailing the interesting time period. If you did not remember to it, you can use the InfluxDB's data explorer to find a suitable timeframe region of interest. In this example the Flux query to visualize the TWS data built with InfluxDB 2.0 data explorer user interface is:"
   ]
  },
  {
   "cell_type": "markdown",
   "metadata": {},
   "source": [
    "```\n",
    "from(bucket: \"nmea\")\n",
    "  |> range(start: 2018-09-28T08:03:00Z, stop: 2018-09-28T09:22:00Z)\n",
    "  |> filter(fn: (r) => r[\"_measurement\"] == \"navigation\")\n",
    "  |> filter(fn: (r) => r[\"_field\"] == \"speedThroughWater\")\n",
    "  |> aggregateWindow(every: v.15s, fn: mean, createEmpty: false)\n",
    "  |> yield(name: \"mean\")\n",
    "\n",
    "```"
   ]
  },
  {
   "cell_type": "markdown",
   "metadata": {},
   "source": [
    "<img src=\"img/s_2_stw_mean_15s.png\"\n",
    "alt=\"InfluxDB showing STW in 15s windows fn: mean\" width=\"500\">[(zoom)](img/2_stw_mean_15s.png)"
   ]
  },
  {
   "cell_type": "markdown",
   "metadata": {},
   "source": [
    "The above is convenient for an eye, but we probably want more points. For example, we may want to use statistical analysis later on. Let's take a look with InfluxDB v2.0 how the curve look with no _mean()_ smoothened window chunks, we remove the _aggregateWindow()_ line from the query:"
   ]
  },
  {
   "cell_type": "markdown",
   "metadata": {},
   "source": [
    "<img src=\"img/s_2_stw_all_datapoints.png\"\n",
    "alt=\"InfluxDB showing STW all points, no aggregation functions\" width=\"500\">[(zoom)](img/2_stw_all_datapoints.png)"
   ]
  },
  {
   "cell_type": "markdown",
   "metadata": {},
   "source": [
    "That's a lot of datapoints! But we probably need to apply some type of smoothening, like the one DashT's _Tactics_ algorithms are using, exponential sliding averaging. Why not ask the InfluxDB v2.0 server apply it before returning us the dataset, here for the 20 points at a time:"
   ]
  },
  {
   "cell_type": "markdown",
   "metadata": {},
   "source": [
    "<img src=\"img/s_2_stw_exp_movAvg_n20.png\"\n",
    "alt=\"InfluxDB showing STW, aggregation expopentialMovingAverage()\" width=\"500\">[(zoom)](img/2_stw_exp_movAvg_n20.png)"
   ]
  },
  {
   "cell_type": "markdown",
   "metadata": {},
   "source": [
    "Let's try with a non-exponential moving average, which is probably a bit faster, otherwise the same as above:"
   ]
  },
  {
   "cell_type": "markdown",
   "metadata": {},
   "source": [
    "<img src=\"img/s_2_stw_movAvg_n20.png\"\n",
    "alt=\"InfluxDB showing STW, aggregation movingAverage(n:20)\" width=\"500\">[(zoom)](img/2_stw_movAvg_n20.png)"
   ]
  },
  {
   "cell_type": "markdown",
   "metadata": {},
   "source": [
    "It looks good! It has even less ripple than the exponential version, so let's use _movingAverage()_ to pre-process the values returned for each dataset."
   ]
  },
  {
   "cell_type": "markdown",
   "metadata": {},
   "source": [
    "Let's try to increase the n=50"
   ]
  },
  {
   "cell_type": "markdown",
   "metadata": {},
   "source": [
    "<img src=\"img/s_2_stw_movAvg_n50.png\"\n",
    "alt=\"InfluxDB showing STW, aggregation movingAverage(n: 50)\" width=\"500\">[(zoom)](img/2_stw_movAvg_n50.png)"
   ]
  },
  {
   "cell_type": "markdown",
   "metadata": {},
   "source": [
    "## Python example data retrieval"
   ]
  },
  {
   "cell_type": "markdown",
   "metadata": {},
   "source": [
    "Here we use a simple https://github.com/influxdata/influxdb-client-python#queries method."
   ]
  },
  {
   "cell_type": "markdown",
   "metadata": {},
   "source": [
    "This example is executed with Jupyter 2.2.8 and thus with Python 3, making connection to the InfluxDB v2.0 server where the above data is located."
   ]
  },
  {
   "cell_type": "markdown",
   "metadata": {},
   "source": [
    "When opened on an external data retrieval system, this `.ipynb` file would not execute but shows only the code:"
   ]
  },
  {
   "cell_type": "markdown",
   "metadata": {},
   "source": [
    "* There is a PDF-printout of a run of code, with the plots: [2_TWA_TWS_STW_from_InfluxDBv2_collect_data_for_polar.pdf](2_TWA_TWS_STW_from_InfluxDBv2_collect_data_for_polar.pdf)\n",
    "* The Python code does not require Jupyter - it is used for development and documentation purposes"
   ]
  },
  {
   "cell_type": "code",
   "execution_count": 1,
   "metadata": {},
   "outputs": [],
   "source": [
    "import os\n",
    "import sys\n",
    "\n",
    "sys.path.insert(0, os.path.abspath('../'))"
   ]
  },
  {
   "cell_type": "markdown",
   "metadata": {},
   "source": [
    "### Python tools"
   ]
  },
  {
   "cell_type": "markdown",
   "metadata": {},
   "source": [
    "Needed to install:\n",
    "```\n",
    "pip install influxdb_client\n",
    "pip install matplotlib\n",
    "pip install numpy\n",
    "pip install gekko\n",
    "pip install scipy\n",
    "```"
   ]
  },
  {
   "cell_type": "code",
   "execution_count": 2,
   "metadata": {},
   "outputs": [],
   "source": [
    "import math\n",
    "import matplotlib.pyplot as plt\n",
    "import pandas as pd\n",
    "import numpy as np\n",
    "from gekko import GEKKO"
   ]
  },
  {
   "cell_type": "markdown",
   "metadata": {},
   "source": [
    "The following plotting library used for fancy plots has a name suitable for the subject!"
   ]
  },
  {
   "cell_type": "markdown",
   "metadata": {},
   "source": [
    "```\n",
    "pip install seaborn\n",
    "```"
   ]
  },
  {
   "cell_type": "code",
   "execution_count": 3,
   "metadata": {},
   "outputs": [],
   "source": [
    "import seaborn as sns"
   ]
  },
  {
   "cell_type": "markdown",
   "metadata": {},
   "source": [
    "### InfluxDB Client API"
   ]
  },
  {
   "cell_type": "code",
   "execution_count": 4,
   "metadata": {},
   "outputs": [],
   "source": [
    "from influxdb_client import InfluxDBClient, Point, Dialect\n",
    "from influxdb_client.client.write_api import SYNCHRONOUS"
   ]
  },
  {
   "cell_type": "markdown",
   "metadata": {},
   "source": [
    "### InfluxDB Out streamer settings"
   ]
  },
  {
   "cell_type": "code",
   "execution_count": 5,
   "metadata": {},
   "outputs": [],
   "source": [
    "client = InfluxDBClient(url='http://127.0.0.1:9999', token='4YSbLAg1cWasJqDt6_BSsBsD472SAsRKWgCDN_xZfEDliruk9CgT7lYqk6bvJsIR9PaRHEdsU2nGUGnDOAoO9A==', org='myboat')"
   ]
  },
  {
   "cell_type": "markdown",
   "metadata": {},
   "source": [
    "### Data range and aggregation"
   ]
  },
  {
   "cell_type": "code",
   "execution_count": 6,
   "metadata": {},
   "outputs": [],
   "source": [
    "start_time = '2018-09-28T08:03:00Z'\n",
    "stop_time = '2018-09-28T09:22:00Z'\n",
    "aggregate_function = 'movingAverage'\n",
    "aggregate_items = '50'"
   ]
  },
  {
   "cell_type": "code",
   "execution_count": 7,
   "metadata": {},
   "outputs": [],
   "source": [
    "query_api = client.query_api()"
   ]
  },
  {
   "cell_type": "markdown",
   "metadata": {},
   "source": [
    "#### Flux True Wind Speed Data"
   ]
  },
  {
   "cell_type": "code",
   "execution_count": 8,
   "metadata": {},
   "outputs": [],
   "source": [
    "tws_flux = '''\n",
    "    from(bucket: \"nmea\")\n",
    "        |> range\n",
    "''' +   '(start: ' + start_time + ', stop: ' + stop_time + ')' + '''\n",
    "        |> filter(fn: (r) => r[\"_measurement\"] == \"environment\")\n",
    "        |> filter(fn: (r) => r[\"_field\"] == \"wind\")\n",
    "        |> filter(fn: (r) => r[\"prop1\"] == \"speedTrueGround\")\n",
    "        |> filter(fn: (r) => r[\"prop2\"] == \"tws\")\n",
    "        |> keep(columns: [\"_time\", \"_value\"])\n",
    "        |> \n",
    "''' +     aggregate_function + '(n: ' + aggregate_items + ')'"
   ]
  },
  {
   "cell_type": "markdown",
   "metadata": {},
   "source": [
    "Record format query, this mainly for debugging, thus commented:"
   ]
  },
  {
   "cell_type": "code",
   "execution_count": 9,
   "metadata": {},
   "outputs": [],
   "source": [
    "# tws_flux"
   ]
  },
  {
   "cell_type": "code",
   "execution_count": 10,
   "metadata": {},
   "outputs": [],
   "source": [
    "# records = query_api.query_stream( tws_flux )"
   ]
  },
  {
   "cell_type": "code",
   "execution_count": 11,
   "metadata": {},
   "outputs": [],
   "source": [
    "#i = 1\n",
    "#for record in records:\n",
    "#    print(f'{i}: TWS in {record[\"_time\"]} is {record[\"_value\"]}')\n",
    "#    i = i + 1"
   ]
  },
  {
   "cell_type": "markdown",
   "metadata": {},
   "source": [
    "For the record, the above example query returns 2873 rows of data for the 79 minutes of window of interest, which equals approximately 36 data rows per minute, and 0.6 samples per second. This corresponds the rate observed on this NMEA-0183 sentence based data acquisition system."
   ]
  },
  {
   "cell_type": "markdown",
   "metadata": {},
   "source": [
    "Instead of an array of records above, we retrieve the query in a **Panda DataFrame**:"
   ]
  },
  {
   "cell_type": "code",
   "execution_count": 12,
   "metadata": {},
   "outputs": [],
   "source": [
    "tws_df = query_api.query_data_frame( tws_flux )"
   ]
  },
  {
   "cell_type": "code",
   "execution_count": 13,
   "metadata": {},
   "outputs": [
    {
     "data": {
      "text/html": [
       "<div>\n",
       "<style scoped>\n",
       "    .dataframe tbody tr th:only-of-type {\n",
       "        vertical-align: middle;\n",
       "    }\n",
       "\n",
       "    .dataframe tbody tr th {\n",
       "        vertical-align: top;\n",
       "    }\n",
       "\n",
       "    .dataframe thead th {\n",
       "        text-align: right;\n",
       "    }\n",
       "</style>\n",
       "<table border=\"1\" class=\"dataframe\">\n",
       "  <thead>\n",
       "    <tr style=\"text-align: right;\">\n",
       "      <th></th>\n",
       "      <th>result</th>\n",
       "      <th>table</th>\n",
       "      <th>_time</th>\n",
       "      <th>_value</th>\n",
       "    </tr>\n",
       "  </thead>\n",
       "  <tbody>\n",
       "    <tr>\n",
       "      <th>0</th>\n",
       "      <td>_result</td>\n",
       "      <td>0</td>\n",
       "      <td>2018-09-28 08:04:47.156000+00:00</td>\n",
       "      <td>9.593657</td>\n",
       "    </tr>\n",
       "    <tr>\n",
       "      <th>1</th>\n",
       "      <td>_result</td>\n",
       "      <td>0</td>\n",
       "      <td>2018-09-28 08:04:49.137000+00:00</td>\n",
       "      <td>9.577177</td>\n",
       "    </tr>\n",
       "    <tr>\n",
       "      <th>2</th>\n",
       "      <td>_result</td>\n",
       "      <td>0</td>\n",
       "      <td>2018-09-28 08:04:50.299000+00:00</td>\n",
       "      <td>9.561069</td>\n",
       "    </tr>\n",
       "    <tr>\n",
       "      <th>3</th>\n",
       "      <td>_result</td>\n",
       "      <td>0</td>\n",
       "      <td>2018-09-28 08:04:51.442000+00:00</td>\n",
       "      <td>9.514141</td>\n",
       "    </tr>\n",
       "    <tr>\n",
       "      <th>4</th>\n",
       "      <td>_result</td>\n",
       "      <td>0</td>\n",
       "      <td>2018-09-28 08:04:52.458000+00:00</td>\n",
       "      <td>9.463630</td>\n",
       "    </tr>\n",
       "  </tbody>\n",
       "</table>\n",
       "</div>"
      ],
      "text/plain": [
       "    result table                            _time    _value\n",
       "0  _result     0 2018-09-28 08:04:47.156000+00:00  9.593657\n",
       "1  _result     0 2018-09-28 08:04:49.137000+00:00  9.577177\n",
       "2  _result     0 2018-09-28 08:04:50.299000+00:00  9.561069\n",
       "3  _result     0 2018-09-28 08:04:51.442000+00:00  9.514141\n",
       "4  _result     0 2018-09-28 08:04:52.458000+00:00  9.463630"
      ]
     },
     "execution_count": 13,
     "metadata": {},
     "output_type": "execute_result"
    }
   ],
   "source": [
    "tws_df.head()"
   ]
  },
  {
   "cell_type": "code",
   "execution_count": 14,
   "metadata": {},
   "outputs": [
    {
     "data": {
      "text/html": [
       "<div>\n",
       "<style scoped>\n",
       "    .dataframe tbody tr th:only-of-type {\n",
       "        vertical-align: middle;\n",
       "    }\n",
       "\n",
       "    .dataframe tbody tr th {\n",
       "        vertical-align: top;\n",
       "    }\n",
       "\n",
       "    .dataframe thead th {\n",
       "        text-align: right;\n",
       "    }\n",
       "</style>\n",
       "<table border=\"1\" class=\"dataframe\">\n",
       "  <thead>\n",
       "    <tr style=\"text-align: right;\">\n",
       "      <th></th>\n",
       "      <th>result</th>\n",
       "      <th>table</th>\n",
       "      <th>_time</th>\n",
       "      <th>_value</th>\n",
       "    </tr>\n",
       "  </thead>\n",
       "  <tbody>\n",
       "    <tr>\n",
       "      <th>2868</th>\n",
       "      <td>_result</td>\n",
       "      <td>0</td>\n",
       "      <td>2018-09-28 09:21:04.219000+00:00</td>\n",
       "      <td>9.169290</td>\n",
       "    </tr>\n",
       "    <tr>\n",
       "      <th>2869</th>\n",
       "      <td>_result</td>\n",
       "      <td>0</td>\n",
       "      <td>2018-09-28 09:21:06.031000+00:00</td>\n",
       "      <td>9.155120</td>\n",
       "    </tr>\n",
       "    <tr>\n",
       "      <th>2870</th>\n",
       "      <td>_result</td>\n",
       "      <td>0</td>\n",
       "      <td>2018-09-28 09:21:07.234000+00:00</td>\n",
       "      <td>9.133253</td>\n",
       "    </tr>\n",
       "    <tr>\n",
       "      <th>2871</th>\n",
       "      <td>_result</td>\n",
       "      <td>0</td>\n",
       "      <td>2018-09-28 09:21:08.297000+00:00</td>\n",
       "      <td>9.080272</td>\n",
       "    </tr>\n",
       "    <tr>\n",
       "      <th>2872</th>\n",
       "      <td>_result</td>\n",
       "      <td>0</td>\n",
       "      <td>2018-09-28 09:21:09.414000+00:00</td>\n",
       "      <td>9.043691</td>\n",
       "    </tr>\n",
       "  </tbody>\n",
       "</table>\n",
       "</div>"
      ],
      "text/plain": [
       "       result table                            _time    _value\n",
       "2868  _result     0 2018-09-28 09:21:04.219000+00:00  9.169290\n",
       "2869  _result     0 2018-09-28 09:21:06.031000+00:00  9.155120\n",
       "2870  _result     0 2018-09-28 09:21:07.234000+00:00  9.133253\n",
       "2871  _result     0 2018-09-28 09:21:08.297000+00:00  9.080272\n",
       "2872  _result     0 2018-09-28 09:21:09.414000+00:00  9.043691"
      ]
     },
     "execution_count": 14,
     "metadata": {},
     "output_type": "execute_result"
    }
   ],
   "source": [
    "tws_df.tail()"
   ]
  },
  {
   "cell_type": "code",
   "execution_count": 15,
   "metadata": {},
   "outputs": [
    {
     "data": {
      "image/png": "[encoded data removed]",
      "text/plain": [
       "<Figure size 432x288 with 1 Axes>"
      ]
     },
     "metadata": {
      "needs_background": "light"
     },
     "output_type": "display_data"
    }
   ],
   "source": [
    "tws_df.plot(x='_time',y='_value', label='TWS')\n",
    "plt.ylabel('TWS[kn]')\n",
    "plt.xlabel('time (UTC)')\n",
    "plt.legend()\n",
    "plt.show()"
   ]
  },
  {
   "cell_type": "markdown",
   "metadata": {},
   "source": [
    "### Flux True Wind Angle Data"
   ]
  },
  {
   "cell_type": "code",
   "execution_count": 16,
   "metadata": {},
   "outputs": [],
   "source": [
    "twa_flux = '''\n",
    "    from(bucket: \"nmea\")\n",
    "        |> range\n",
    "''' +   '(start: ' + start_time + ', stop: ' + stop_time + ')' + '''\n",
    "        |> filter(fn: (r) => r[\"_measurement\"] == \"environment\")\n",
    "        |> filter(fn: (r) => r[\"_field\"] == \"wind\")\n",
    "        |> filter(fn: (r) => r[\"prop1\"] == \"angleTrue\")\n",
    "        |> keep(columns: [\"_time\", \"_value\"])\n",
    "        |> \n",
    "''' +     aggregate_function + '(n: ' + aggregate_items + ')'"
   ]
  },
  {
   "cell_type": "code",
   "execution_count": 17,
   "metadata": {},
   "outputs": [],
   "source": [
    "twa_df = query_api.query_data_frame( twa_flux )"
   ]
  },
  {
   "cell_type": "code",
   "execution_count": 18,
   "metadata": {},
   "outputs": [
    {
     "data": {
      "text/html": [
       "<div>\n",
       "<style scoped>\n",
       "    .dataframe tbody tr th:only-of-type {\n",
       "        vertical-align: middle;\n",
       "    }\n",
       "\n",
       "    .dataframe tbody tr th {\n",
       "        vertical-align: top;\n",
       "    }\n",
       "\n",
       "    .dataframe thead th {\n",
       "        text-align: right;\n",
       "    }\n",
       "</style>\n",
       "<table border=\"1\" class=\"dataframe\">\n",
       "  <thead>\n",
       "    <tr style=\"text-align: right;\">\n",
       "      <th></th>\n",
       "      <th>result</th>\n",
       "      <th>table</th>\n",
       "      <th>_time</th>\n",
       "      <th>_value</th>\n",
       "    </tr>\n",
       "  </thead>\n",
       "  <tbody>\n",
       "    <tr>\n",
       "      <th>0</th>\n",
       "      <td>_result</td>\n",
       "      <td>0</td>\n",
       "      <td>2018-09-28 08:04:47.156000+00:00</td>\n",
       "      <td>87.712212</td>\n",
       "    </tr>\n",
       "    <tr>\n",
       "      <th>1</th>\n",
       "      <td>_result</td>\n",
       "      <td>0</td>\n",
       "      <td>2018-09-28 08:04:49.137000+00:00</td>\n",
       "      <td>87.598977</td>\n",
       "    </tr>\n",
       "    <tr>\n",
       "      <th>2</th>\n",
       "      <td>_result</td>\n",
       "      <td>0</td>\n",
       "      <td>2018-09-28 08:04:50.299000+00:00</td>\n",
       "      <td>87.767316</td>\n",
       "    </tr>\n",
       "    <tr>\n",
       "      <th>3</th>\n",
       "      <td>_result</td>\n",
       "      <td>0</td>\n",
       "      <td>2018-09-28 08:04:51.442000+00:00</td>\n",
       "      <td>87.927717</td>\n",
       "    </tr>\n",
       "    <tr>\n",
       "      <th>4</th>\n",
       "      <td>_result</td>\n",
       "      <td>0</td>\n",
       "      <td>2018-09-28 08:04:52.458000+00:00</td>\n",
       "      <td>87.609268</td>\n",
       "    </tr>\n",
       "  </tbody>\n",
       "</table>\n",
       "</div>"
      ],
      "text/plain": [
       "    result table                            _time     _value\n",
       "0  _result     0 2018-09-28 08:04:47.156000+00:00  87.712212\n",
       "1  _result     0 2018-09-28 08:04:49.137000+00:00  87.598977\n",
       "2  _result     0 2018-09-28 08:04:50.299000+00:00  87.767316\n",
       "3  _result     0 2018-09-28 08:04:51.442000+00:00  87.927717\n",
       "4  _result     0 2018-09-28 08:04:52.458000+00:00  87.609268"
      ]
     },
     "execution_count": 18,
     "metadata": {},
     "output_type": "execute_result"
    }
   ],
   "source": [
    "twa_df.head()"
   ]
  },
  {
   "cell_type": "code",
   "execution_count": 19,
   "metadata": {},
   "outputs": [
    {
     "data": {
      "text/html": [
       "<div>\n",
       "<style scoped>\n",
       "    .dataframe tbody tr th:only-of-type {\n",
       "        vertical-align: middle;\n",
       "    }\n",
       "\n",
       "    .dataframe tbody tr th {\n",
       "        vertical-align: top;\n",
       "    }\n",
       "\n",
       "    .dataframe thead th {\n",
       "        text-align: right;\n",
       "    }\n",
       "</style>\n",
       "<table border=\"1\" class=\"dataframe\">\n",
       "  <thead>\n",
       "    <tr style=\"text-align: right;\">\n",
       "      <th></th>\n",
       "      <th>result</th>\n",
       "      <th>table</th>\n",
       "      <th>_time</th>\n",
       "      <th>_value</th>\n",
       "    </tr>\n",
       "  </thead>\n",
       "  <tbody>\n",
       "    <tr>\n",
       "      <th>2868</th>\n",
       "      <td>_result</td>\n",
       "      <td>0</td>\n",
       "      <td>2018-09-28 09:21:04.219000+00:00</td>\n",
       "      <td>106.388855</td>\n",
       "    </tr>\n",
       "    <tr>\n",
       "      <th>2869</th>\n",
       "      <td>_result</td>\n",
       "      <td>0</td>\n",
       "      <td>2018-09-28 09:21:06.031000+00:00</td>\n",
       "      <td>106.425194</td>\n",
       "    </tr>\n",
       "    <tr>\n",
       "      <th>2870</th>\n",
       "      <td>_result</td>\n",
       "      <td>0</td>\n",
       "      <td>2018-09-28 09:21:07.234000+00:00</td>\n",
       "      <td>106.142250</td>\n",
       "    </tr>\n",
       "    <tr>\n",
       "      <th>2871</th>\n",
       "      <td>_result</td>\n",
       "      <td>0</td>\n",
       "      <td>2018-09-28 09:21:08.297000+00:00</td>\n",
       "      <td>105.700211</td>\n",
       "    </tr>\n",
       "    <tr>\n",
       "      <th>2872</th>\n",
       "      <td>_result</td>\n",
       "      <td>0</td>\n",
       "      <td>2018-09-28 09:21:09.414000+00:00</td>\n",
       "      <td>105.475321</td>\n",
       "    </tr>\n",
       "  </tbody>\n",
       "</table>\n",
       "</div>"
      ],
      "text/plain": [
       "       result table                            _time      _value\n",
       "2868  _result     0 2018-09-28 09:21:04.219000+00:00  106.388855\n",
       "2869  _result     0 2018-09-28 09:21:06.031000+00:00  106.425194\n",
       "2870  _result     0 2018-09-28 09:21:07.234000+00:00  106.142250\n",
       "2871  _result     0 2018-09-28 09:21:08.297000+00:00  105.700211\n",
       "2872  _result     0 2018-09-28 09:21:09.414000+00:00  105.475321"
      ]
     },
     "execution_count": 19,
     "metadata": {},
     "output_type": "execute_result"
    }
   ],
   "source": [
    "twa_df.tail()"
   ]
  },
  {
   "cell_type": "markdown",
   "metadata": {},
   "source": [
    "So far, so good for those who want or need to do only index based calculations and ignore the time aspect. The TWA and TWS are calculated values, provided by the _DashT_ Tactics algorithms. Their values are generated at the same time at the arrival of other wind data, such as AWA and/or AWS. Therefore the timestamps remains close to each other and the number of samples remain the same."
   ]
  },
  {
   "cell_type": "code",
   "execution_count": 20,
   "metadata": {},
   "outputs": [
    {
     "data": {
      "image/png": "[encoded data removed]",
      "text/plain": [
       "<Figure size 432x288 with 1 Axes>"
      ]
     },
     "metadata": {
      "needs_background": "light"
     },
     "output_type": "display_data"
    }
   ],
   "source": [
    "twa_df.plot(x='_time',y='_value', label='TWA')\n",
    "plt.ylabel('TWA[deg]')\n",
    "plt.xlabel('time (UTC)')\n",
    "plt.legend()\n",
    "plt.show()"
   ]
  },
  {
   "cell_type": "markdown",
   "metadata": {},
   "source": [
    "### Flux Speed through the water"
   ]
  },
  {
   "cell_type": "code",
   "execution_count": 21,
   "metadata": {},
   "outputs": [],
   "source": [
    "stw_flux = '''\n",
    "    from(bucket: \"nmea\")\n",
    "        |> range\n",
    "''' +   '(start: ' + start_time + ', stop: ' + stop_time + ')' + '''\n",
    "        |> filter(fn: (r) => r[\"_measurement\"] == \"navigation\")\n",
    "        |> filter(fn: (r) => r[\"_field\"] == \"speedThroughWater\")\n",
    "        |> keep(columns: [\"_time\", \"_value\"])\n",
    "        |> \n",
    "''' +     aggregate_function + '(n: ' + aggregate_items + ')'"
   ]
  },
  {
   "cell_type": "code",
   "execution_count": 22,
   "metadata": {},
   "outputs": [],
   "source": [
    "stw_df = query_api.query_data_frame( stw_flux )"
   ]
  },
  {
   "cell_type": "code",
   "execution_count": 23,
   "metadata": {},
   "outputs": [
    {
     "data": {
      "text/html": [
       "<div>\n",
       "<style scoped>\n",
       "    .dataframe tbody tr th:only-of-type {\n",
       "        vertical-align: middle;\n",
       "    }\n",
       "\n",
       "    .dataframe tbody tr th {\n",
       "        vertical-align: top;\n",
       "    }\n",
       "\n",
       "    .dataframe thead th {\n",
       "        text-align: right;\n",
       "    }\n",
       "</style>\n",
       "<table border=\"1\" class=\"dataframe\">\n",
       "  <thead>\n",
       "    <tr style=\"text-align: right;\">\n",
       "      <th></th>\n",
       "      <th>result</th>\n",
       "      <th>table</th>\n",
       "      <th>_time</th>\n",
       "      <th>_value</th>\n",
       "    </tr>\n",
       "  </thead>\n",
       "  <tbody>\n",
       "    <tr>\n",
       "      <th>0</th>\n",
       "      <td>_result</td>\n",
       "      <td>0</td>\n",
       "      <td>2018-09-28 08:04:47.186000+00:00</td>\n",
       "      <td>4.9568</td>\n",
       "    </tr>\n",
       "    <tr>\n",
       "      <th>1</th>\n",
       "      <td>_result</td>\n",
       "      <td>0</td>\n",
       "      <td>2018-09-28 08:04:49.168000+00:00</td>\n",
       "      <td>4.9784</td>\n",
       "    </tr>\n",
       "    <tr>\n",
       "      <th>2</th>\n",
       "      <td>_result</td>\n",
       "      <td>0</td>\n",
       "      <td>2018-09-28 08:04:50.331000+00:00</td>\n",
       "      <td>4.9972</td>\n",
       "    </tr>\n",
       "    <tr>\n",
       "      <th>3</th>\n",
       "      <td>_result</td>\n",
       "      <td>0</td>\n",
       "      <td>2018-09-28 08:04:52.061000+00:00</td>\n",
       "      <td>5.0162</td>\n",
       "    </tr>\n",
       "    <tr>\n",
       "      <th>4</th>\n",
       "      <td>_result</td>\n",
       "      <td>0</td>\n",
       "      <td>2018-09-28 08:04:54.200000+00:00</td>\n",
       "      <td>5.0192</td>\n",
       "    </tr>\n",
       "  </tbody>\n",
       "</table>\n",
       "</div>"
      ],
      "text/plain": [
       "    result table                            _time  _value\n",
       "0  _result     0 2018-09-28 08:04:47.186000+00:00  4.9568\n",
       "1  _result     0 2018-09-28 08:04:49.168000+00:00  4.9784\n",
       "2  _result     0 2018-09-28 08:04:50.331000+00:00  4.9972\n",
       "3  _result     0 2018-09-28 08:04:52.061000+00:00  5.0162\n",
       "4  _result     0 2018-09-28 08:04:54.200000+00:00  5.0192"
      ]
     },
     "execution_count": 23,
     "metadata": {},
     "output_type": "execute_result"
    }
   ],
   "source": [
    "stw_df.head()"
   ]
  },
  {
   "cell_type": "code",
   "execution_count": 24,
   "metadata": {},
   "outputs": [
    {
     "data": {
      "text/html": [
       "<div>\n",
       "<style scoped>\n",
       "    .dataframe tbody tr th:only-of-type {\n",
       "        vertical-align: middle;\n",
       "    }\n",
       "\n",
       "    .dataframe tbody tr th {\n",
       "        vertical-align: top;\n",
       "    }\n",
       "\n",
       "    .dataframe thead th {\n",
       "        text-align: right;\n",
       "    }\n",
       "</style>\n",
       "<table border=\"1\" class=\"dataframe\">\n",
       "  <thead>\n",
       "    <tr style=\"text-align: right;\">\n",
       "      <th></th>\n",
       "      <th>result</th>\n",
       "      <th>table</th>\n",
       "      <th>_time</th>\n",
       "      <th>_value</th>\n",
       "    </tr>\n",
       "  </thead>\n",
       "  <tbody>\n",
       "    <tr>\n",
       "      <th>2869</th>\n",
       "      <td>_result</td>\n",
       "      <td>0</td>\n",
       "      <td>2018-09-28 09:20:37.140000+00:00</td>\n",
       "      <td>4.1352</td>\n",
       "    </tr>\n",
       "    <tr>\n",
       "      <th>2870</th>\n",
       "      <td>_result</td>\n",
       "      <td>0</td>\n",
       "      <td>2018-09-28 09:20:40.015000+00:00</td>\n",
       "      <td>4.1164</td>\n",
       "    </tr>\n",
       "    <tr>\n",
       "      <th>2871</th>\n",
       "      <td>_result</td>\n",
       "      <td>0</td>\n",
       "      <td>2018-09-28 09:20:41.313000+00:00</td>\n",
       "      <td>4.1034</td>\n",
       "    </tr>\n",
       "    <tr>\n",
       "      <th>2872</th>\n",
       "      <td>_result</td>\n",
       "      <td>0</td>\n",
       "      <td>2018-09-28 09:20:43.422000+00:00</td>\n",
       "      <td>4.1076</td>\n",
       "    </tr>\n",
       "    <tr>\n",
       "      <th>2873</th>\n",
       "      <td>_result</td>\n",
       "      <td>0</td>\n",
       "      <td>2018-09-28 09:20:45.109000+00:00</td>\n",
       "      <td>4.0860</td>\n",
       "    </tr>\n",
       "    <tr>\n",
       "      <th>2874</th>\n",
       "      <td>_result</td>\n",
       "      <td>0</td>\n",
       "      <td>2018-09-28 09:20:46.250000+00:00</td>\n",
       "      <td>4.0824</td>\n",
       "    </tr>\n",
       "    <tr>\n",
       "      <th>2875</th>\n",
       "      <td>_result</td>\n",
       "      <td>0</td>\n",
       "      <td>2018-09-28 09:20:49.141000+00:00</td>\n",
       "      <td>4.0682</td>\n",
       "    </tr>\n",
       "    <tr>\n",
       "      <th>2876</th>\n",
       "      <td>_result</td>\n",
       "      <td>0</td>\n",
       "      <td>2018-09-28 09:20:51.110000+00:00</td>\n",
       "      <td>4.0660</td>\n",
       "    </tr>\n",
       "    <tr>\n",
       "      <th>2877</th>\n",
       "      <td>_result</td>\n",
       "      <td>0</td>\n",
       "      <td>2018-09-28 09:20:52.187000+00:00</td>\n",
       "      <td>4.0540</td>\n",
       "    </tr>\n",
       "    <tr>\n",
       "      <th>2878</th>\n",
       "      <td>_result</td>\n",
       "      <td>0</td>\n",
       "      <td>2018-09-28 09:20:53.344000+00:00</td>\n",
       "      <td>4.0516</td>\n",
       "    </tr>\n",
       "    <tr>\n",
       "      <th>2879</th>\n",
       "      <td>_result</td>\n",
       "      <td>0</td>\n",
       "      <td>2018-09-28 09:20:55.250000+00:00</td>\n",
       "      <td>4.0464</td>\n",
       "    </tr>\n",
       "    <tr>\n",
       "      <th>2880</th>\n",
       "      <td>_result</td>\n",
       "      <td>0</td>\n",
       "      <td>2018-09-28 09:20:56.391000+00:00</td>\n",
       "      <td>4.0522</td>\n",
       "    </tr>\n",
       "    <tr>\n",
       "      <th>2881</th>\n",
       "      <td>_result</td>\n",
       "      <td>0</td>\n",
       "      <td>2018-09-28 09:20:58.078000+00:00</td>\n",
       "      <td>4.0522</td>\n",
       "    </tr>\n",
       "    <tr>\n",
       "      <th>2882</th>\n",
       "      <td>_result</td>\n",
       "      <td>0</td>\n",
       "      <td>2018-09-28 09:21:00.015000+00:00</td>\n",
       "      <td>4.0602</td>\n",
       "    </tr>\n",
       "    <tr>\n",
       "      <th>2883</th>\n",
       "      <td>_result</td>\n",
       "      <td>0</td>\n",
       "      <td>2018-09-28 09:21:01.031000+00:00</td>\n",
       "      <td>4.0564</td>\n",
       "    </tr>\n",
       "    <tr>\n",
       "      <th>2884</th>\n",
       "      <td>_result</td>\n",
       "      <td>0</td>\n",
       "      <td>2018-09-28 09:21:03.016000+00:00</td>\n",
       "      <td>4.0518</td>\n",
       "    </tr>\n",
       "    <tr>\n",
       "      <th>2885</th>\n",
       "      <td>_result</td>\n",
       "      <td>0</td>\n",
       "      <td>2018-09-28 09:21:04.016000+00:00</td>\n",
       "      <td>4.0270</td>\n",
       "    </tr>\n",
       "    <tr>\n",
       "      <th>2886</th>\n",
       "      <td>_result</td>\n",
       "      <td>0</td>\n",
       "      <td>2018-09-28 09:21:06.188000+00:00</td>\n",
       "      <td>4.0330</td>\n",
       "    </tr>\n",
       "    <tr>\n",
       "      <th>2887</th>\n",
       "      <td>_result</td>\n",
       "      <td>0</td>\n",
       "      <td>2018-09-28 09:21:08.047000+00:00</td>\n",
       "      <td>4.0162</td>\n",
       "    </tr>\n",
       "    <tr>\n",
       "      <th>2888</th>\n",
       "      <td>_result</td>\n",
       "      <td>0</td>\n",
       "      <td>2018-09-28 09:21:09.094000+00:00</td>\n",
       "      <td>3.9908</td>\n",
       "    </tr>\n",
       "  </tbody>\n",
       "</table>\n",
       "</div>"
      ],
      "text/plain": [
       "       result table                            _time  _value\n",
       "2869  _result     0 2018-09-28 09:20:37.140000+00:00  4.1352\n",
       "2870  _result     0 2018-09-28 09:20:40.015000+00:00  4.1164\n",
       "2871  _result     0 2018-09-28 09:20:41.313000+00:00  4.1034\n",
       "2872  _result     0 2018-09-28 09:20:43.422000+00:00  4.1076\n",
       "2873  _result     0 2018-09-28 09:20:45.109000+00:00  4.0860\n",
       "2874  _result     0 2018-09-28 09:20:46.250000+00:00  4.0824\n",
       "2875  _result     0 2018-09-28 09:20:49.141000+00:00  4.0682\n",
       "2876  _result     0 2018-09-28 09:20:51.110000+00:00  4.0660\n",
       "2877  _result     0 2018-09-28 09:20:52.187000+00:00  4.0540\n",
       "2878  _result     0 2018-09-28 09:20:53.344000+00:00  4.0516\n",
       "2879  _result     0 2018-09-28 09:20:55.250000+00:00  4.0464\n",
       "2880  _result     0 2018-09-28 09:20:56.391000+00:00  4.0522\n",
       "2881  _result     0 2018-09-28 09:20:58.078000+00:00  4.0522\n",
       "2882  _result     0 2018-09-28 09:21:00.015000+00:00  4.0602\n",
       "2883  _result     0 2018-09-28 09:21:01.031000+00:00  4.0564\n",
       "2884  _result     0 2018-09-28 09:21:03.016000+00:00  4.0518\n",
       "2885  _result     0 2018-09-28 09:21:04.016000+00:00  4.0270\n",
       "2886  _result     0 2018-09-28 09:21:06.188000+00:00  4.0330\n",
       "2887  _result     0 2018-09-28 09:21:08.047000+00:00  4.0162\n",
       "2888  _result     0 2018-09-28 09:21:09.094000+00:00  3.9908"
      ]
     },
     "execution_count": 24,
     "metadata": {},
     "output_type": "execute_result"
    }
   ],
   "source": [
    "stw_df.tail(20)"
   ]
  },
  {
   "cell_type": "markdown",
   "metadata": {},
   "source": [
    "We can observe that for STW we have 15 samples more than for the TWA and TWS, which have 2873 samples. The time shift in the end of STW compared to other two is 26 seconds, if we compare the time in STW sample number 2872 to the TWA and TWS counterparts."
   ]
  },
  {
   "cell_type": "markdown",
   "metadata": {},
   "source": [
    "Even it it not that much on the water, it would be more significant if we would have recorded data, say for a few more hours. Anyway, 26 seconds shift in a dataset is as a good reason to use the timestamps as reference and not the index of the dataset. Let's plot the STW data:"
   ]
  },
  {
   "cell_type": "code",
   "execution_count": 25,
   "metadata": {},
   "outputs": [
    {
     "data": {
      "image/png": "[encoded data removed]",
      "text/plain": [
       "<Figure size 432x288 with 1 Axes>"
      ]
     },
     "metadata": {
      "needs_background": "light"
     },
     "output_type": "display_data"
    }
   ],
   "source": [
    "stw_df.plot(x='_time',y='_value', label='STW')\n",
    "plt.ylabel('STW[kn]')\n",
    "plt.xlabel('time (UTC)')\n",
    "plt.legend()\n",
    "plt.show()"
   ]
  },
  {
   "cell_type": "markdown",
   "metadata": {},
   "source": [
    "### Flux Heading True"
   ]
  },
  {
   "cell_type": "markdown",
   "metadata": {},
   "source": [
    "To further demonstrate the need of the time based analysis instead of index based strolling through the data, let's take a look at the True Heading data collected during the same period (this is given by the boat's databus):"
   ]
  },
  {
   "cell_type": "code",
   "execution_count": 26,
   "metadata": {},
   "outputs": [],
   "source": [
    "hdg_flux = '''\n",
    "    from(bucket: \"nmea\")\n",
    "        |> range\n",
    "''' +   '(start: ' + start_time + ', stop: ' + stop_time + ')' + '''\n",
    "        |> filter(fn: (r) => r[\"_measurement\"] == \"navigation\")\n",
    "        |> filter(fn: (r) => r[\"_field\"] == \"headingTrue\")\n",
    "        |> keep(columns: [\"_time\", \"_value\"])\n",
    "        |> \n",
    "''' +     aggregate_function + '(n: ' + aggregate_items + ')'"
   ]
  },
  {
   "cell_type": "code",
   "execution_count": 27,
   "metadata": {},
   "outputs": [],
   "source": [
    "hdg_df = query_api.query_data_frame( hdg_flux )"
   ]
  },
  {
   "cell_type": "code",
   "execution_count": 28,
   "metadata": {},
   "outputs": [
    {
     "data": {
      "text/html": [
       "<div>\n",
       "<style scoped>\n",
       "    .dataframe tbody tr th:only-of-type {\n",
       "        vertical-align: middle;\n",
       "    }\n",
       "\n",
       "    .dataframe tbody tr th {\n",
       "        vertical-align: top;\n",
       "    }\n",
       "\n",
       "    .dataframe thead th {\n",
       "        text-align: right;\n",
       "    }\n",
       "</style>\n",
       "<table border=\"1\" class=\"dataframe\">\n",
       "  <thead>\n",
       "    <tr style=\"text-align: right;\">\n",
       "      <th></th>\n",
       "      <th>result</th>\n",
       "      <th>table</th>\n",
       "      <th>_time</th>\n",
       "      <th>_value</th>\n",
       "    </tr>\n",
       "  </thead>\n",
       "  <tbody>\n",
       "    <tr>\n",
       "      <th>0</th>\n",
       "      <td>_result</td>\n",
       "      <td>0</td>\n",
       "      <td>2018-09-28 08:04:30.280000+00:00</td>\n",
       "      <td>69.06</td>\n",
       "    </tr>\n",
       "    <tr>\n",
       "      <th>1</th>\n",
       "      <td>_result</td>\n",
       "      <td>0</td>\n",
       "      <td>2018-09-28 08:04:31.437000+00:00</td>\n",
       "      <td>69.10</td>\n",
       "    </tr>\n",
       "    <tr>\n",
       "      <th>2</th>\n",
       "      <td>_result</td>\n",
       "      <td>0</td>\n",
       "      <td>2018-09-28 08:04:33.235000+00:00</td>\n",
       "      <td>69.10</td>\n",
       "    </tr>\n",
       "    <tr>\n",
       "      <th>3</th>\n",
       "      <td>_result</td>\n",
       "      <td>0</td>\n",
       "      <td>2018-09-28 08:04:34.235000+00:00</td>\n",
       "      <td>69.12</td>\n",
       "    </tr>\n",
       "    <tr>\n",
       "      <th>4</th>\n",
       "      <td>_result</td>\n",
       "      <td>0</td>\n",
       "      <td>2018-09-28 08:04:35.297000+00:00</td>\n",
       "      <td>69.10</td>\n",
       "    </tr>\n",
       "  </tbody>\n",
       "</table>\n",
       "</div>"
      ],
      "text/plain": [
       "    result table                            _time  _value\n",
       "0  _result     0 2018-09-28 08:04:30.280000+00:00   69.06\n",
       "1  _result     0 2018-09-28 08:04:31.437000+00:00   69.10\n",
       "2  _result     0 2018-09-28 08:04:33.235000+00:00   69.10\n",
       "3  _result     0 2018-09-28 08:04:34.235000+00:00   69.12\n",
       "4  _result     0 2018-09-28 08:04:35.297000+00:00   69.10"
      ]
     },
     "execution_count": 28,
     "metadata": {},
     "output_type": "execute_result"
    }
   ],
   "source": [
    "hdg_df.head()"
   ]
  },
  {
   "cell_type": "code",
   "execution_count": 29,
   "metadata": {},
   "outputs": [
    {
     "data": {
      "text/html": [
       "<div>\n",
       "<style scoped>\n",
       "    .dataframe tbody tr th:only-of-type {\n",
       "        vertical-align: middle;\n",
       "    }\n",
       "\n",
       "    .dataframe tbody tr th {\n",
       "        vertical-align: top;\n",
       "    }\n",
       "\n",
       "    .dataframe thead th {\n",
       "        text-align: right;\n",
       "    }\n",
       "</style>\n",
       "<table border=\"1\" class=\"dataframe\">\n",
       "  <thead>\n",
       "    <tr style=\"text-align: right;\">\n",
       "      <th></th>\n",
       "      <th>result</th>\n",
       "      <th>table</th>\n",
       "      <th>_time</th>\n",
       "      <th>_value</th>\n",
       "    </tr>\n",
       "  </thead>\n",
       "  <tbody>\n",
       "    <tr>\n",
       "      <th>3410</th>\n",
       "      <td>_result</td>\n",
       "      <td>0</td>\n",
       "      <td>2018-09-28 09:21:04.281000+00:00</td>\n",
       "      <td>49.14</td>\n",
       "    </tr>\n",
       "    <tr>\n",
       "      <th>3411</th>\n",
       "      <td>_result</td>\n",
       "      <td>0</td>\n",
       "      <td>2018-09-28 09:21:06.141000+00:00</td>\n",
       "      <td>49.09</td>\n",
       "    </tr>\n",
       "    <tr>\n",
       "      <th>3412</th>\n",
       "      <td>_result</td>\n",
       "      <td>0</td>\n",
       "      <td>2018-09-28 09:21:07.328000+00:00</td>\n",
       "      <td>49.05</td>\n",
       "    </tr>\n",
       "    <tr>\n",
       "      <th>3413</th>\n",
       "      <td>_result</td>\n",
       "      <td>0</td>\n",
       "      <td>2018-09-28 09:21:09.047000+00:00</td>\n",
       "      <td>49.00</td>\n",
       "    </tr>\n",
       "    <tr>\n",
       "      <th>3414</th>\n",
       "      <td>_result</td>\n",
       "      <td>0</td>\n",
       "      <td>2018-09-28 09:21:10.140000+00:00</td>\n",
       "      <td>48.98</td>\n",
       "    </tr>\n",
       "  </tbody>\n",
       "</table>\n",
       "</div>"
      ],
      "text/plain": [
       "       result table                            _time  _value\n",
       "3410  _result     0 2018-09-28 09:21:04.281000+00:00   49.14\n",
       "3411  _result     0 2018-09-28 09:21:06.141000+00:00   49.09\n",
       "3412  _result     0 2018-09-28 09:21:07.328000+00:00   49.05\n",
       "3413  _result     0 2018-09-28 09:21:09.047000+00:00   49.00\n",
       "3414  _result     0 2018-09-28 09:21:10.140000+00:00   48.98"
      ]
     },
     "execution_count": 29,
     "metadata": {},
     "output_type": "execute_result"
    }
   ],
   "source": [
    "hdg_df.tail()"
   ]
  },
  {
   "cell_type": "markdown",
   "metadata": {},
   "source": [
    "It goes without saying that the number of samples being much larger than the TWA/TWS or even STW it is necessary to use time based analysis with this data, not sample index based."
   ]
  },
  {
   "cell_type": "markdown",
   "metadata": {},
   "source": [
    "### Flux - Can I get them all?"
   ]
  },
  {
   "cell_type": "markdown",
   "metadata": {},
   "source": [
    "This section demonstrates the effect of requesting all data at one go, _i.e._ not only making the smoothing of a signal using the database's algorithms for it but also requesting it to provide unified timestamps for the smoothed data."
   ]
  },
  {
   "cell_type": "code",
   "execution_count": 30,
   "metadata": {},
   "outputs": [],
   "source": [
    "all_flux = '''\n",
    "    from(bucket: \"nmea\")\n",
    "        |> range\n",
    "''' +   '(start: ' + start_time + ', stop: ' + stop_time + ')' + '''\n",
    "        |> filter(fn: (r) =>\n",
    "           r[\"_measurement\"] == \"navigation\" or\n",
    "           r[\"_measurement\"] == \"environment\")\n",
    "        |> filter(fn: (r) =>\n",
    "           (r[\"_field\"] == \"wind\" and\n",
    "           (r[\"prop1\"] == \"speedTrueGround\" or r[\"prop1\"] == \"angleTrue\")) or\n",
    "           r[\"_field\"] == \"speedThroughWater\")\n",
    "        |> drop(columns: [\"_start\", \"_stop\"])\n",
    "        |> \n",
    "''' +     aggregate_function + '(n: ' + aggregate_items + ')'"
   ]
  },
  {
   "cell_type": "code",
   "execution_count": 31,
   "metadata": {},
   "outputs": [],
   "source": [
    "all_df = query_api.query_data_frame( all_flux )"
   ]
  },
  {
   "cell_type": "code",
   "execution_count": 32,
   "metadata": {},
   "outputs": [
    {
     "name": "stdout",
     "output_type": "stream",
     "text": [
      "[       result table                            _time  _value  \\\n",
      "0     _result     0 2018-09-28 08:04:47.186000+00:00  4.9568   \n",
      "1     _result     0 2018-09-28 08:04:49.168000+00:00  4.9784   \n",
      "2     _result     0 2018-09-28 08:04:50.331000+00:00  4.9972   \n",
      "3     _result     0 2018-09-28 08:04:52.061000+00:00  5.0162   \n",
      "4     _result     0 2018-09-28 08:04:54.200000+00:00  5.0192   \n",
      "...       ...   ...                              ...     ...   \n",
      "2884  _result     0 2018-09-28 09:21:03.016000+00:00  4.0518   \n",
      "2885  _result     0 2018-09-28 09:21:04.016000+00:00  4.0270   \n",
      "2886  _result     0 2018-09-28 09:21:06.188000+00:00  4.0330   \n",
      "2887  _result     0 2018-09-28 09:21:08.047000+00:00  4.0162   \n",
      "2888  _result     0 2018-09-28 09:21:09.094000+00:00  3.9908   \n",
      "\n",
      "                 _field _measurement  \n",
      "0     speedThroughWater   navigation  \n",
      "1     speedThroughWater   navigation  \n",
      "2     speedThroughWater   navigation  \n",
      "3     speedThroughWater   navigation  \n",
      "4     speedThroughWater   navigation  \n",
      "...                 ...          ...  \n",
      "2884  speedThroughWater   navigation  \n",
      "2885  speedThroughWater   navigation  \n",
      "2886  speedThroughWater   navigation  \n",
      "2887  speedThroughWater   navigation  \n",
      "2888  speedThroughWater   navigation  \n",
      "\n",
      "[2889 rows x 6 columns],        result table                            _time      _value _field  \\\n",
      "0     _result     1 2018-09-28 08:04:47.156000+00:00   87.712212   wind   \n",
      "1     _result     1 2018-09-28 08:04:49.137000+00:00   87.598977   wind   \n",
      "2     _result     1 2018-09-28 08:04:50.299000+00:00   87.767316   wind   \n",
      "3     _result     1 2018-09-28 08:04:51.442000+00:00   87.927717   wind   \n",
      "4     _result     1 2018-09-28 08:04:52.458000+00:00   87.609268   wind   \n",
      "...       ...   ...                              ...         ...    ...   \n",
      "2868  _result     1 2018-09-28 09:21:04.219000+00:00  106.388855   wind   \n",
      "2869  _result     1 2018-09-28 09:21:06.031000+00:00  106.425194   wind   \n",
      "2870  _result     1 2018-09-28 09:21:07.234000+00:00  106.142250   wind   \n",
      "2871  _result     1 2018-09-28 09:21:08.297000+00:00  105.700211   wind   \n",
      "2872  _result     1 2018-09-28 09:21:09.414000+00:00  105.475321   wind   \n",
      "\n",
      "     _measurement      prop1  \n",
      "0     environment  angleTrue  \n",
      "1     environment  angleTrue  \n",
      "2     environment  angleTrue  \n",
      "3     environment  angleTrue  \n",
      "4     environment  angleTrue  \n",
      "...           ...        ...  \n",
      "2868  environment  angleTrue  \n",
      "2869  environment  angleTrue  \n",
      "2870  environment  angleTrue  \n",
      "2871  environment  angleTrue  \n",
      "2872  environment  angleTrue  \n",
      "\n",
      "[2873 rows x 7 columns],        result table                            _time    _value _field  \\\n",
      "0     _result     2 2018-09-28 08:04:47.156000+00:00  9.593657   wind   \n",
      "1     _result     2 2018-09-28 08:04:49.137000+00:00  9.577177   wind   \n",
      "2     _result     2 2018-09-28 08:04:50.299000+00:00  9.561069   wind   \n",
      "3     _result     2 2018-09-28 08:04:51.442000+00:00  9.514141   wind   \n",
      "4     _result     2 2018-09-28 08:04:52.458000+00:00  9.463630   wind   \n",
      "...       ...   ...                              ...       ...    ...   \n",
      "2868  _result     2 2018-09-28 09:21:04.219000+00:00  9.169290   wind   \n",
      "2869  _result     2 2018-09-28 09:21:06.031000+00:00  9.155120   wind   \n",
      "2870  _result     2 2018-09-28 09:21:07.234000+00:00  9.133253   wind   \n",
      "2871  _result     2 2018-09-28 09:21:08.297000+00:00  9.080272   wind   \n",
      "2872  _result     2 2018-09-28 09:21:09.414000+00:00  9.043691   wind   \n",
      "\n",
      "     _measurement            prop1 prop2  \n",
      "0     environment  speedTrueGround   tws  \n",
      "1     environment  speedTrueGround   tws  \n",
      "2     environment  speedTrueGround   tws  \n",
      "3     environment  speedTrueGround   tws  \n",
      "4     environment  speedTrueGround   tws  \n",
      "...           ...              ...   ...  \n",
      "2868  environment  speedTrueGround   tws  \n",
      "2869  environment  speedTrueGround   tws  \n",
      "2870  environment  speedTrueGround   tws  \n",
      "2871  environment  speedTrueGround   tws  \n",
      "2872  environment  speedTrueGround   tws  \n",
      "\n",
      "[2873 rows x 8 columns]]\n"
     ]
    }
   ],
   "source": [
    "print( all_df )"
   ]
  },
  {
   "cell_type": "markdown",
   "metadata": {},
   "source": [
    "The test demonstrates that t is possible to create a complex, and actually quite well performing query thanks to _DashT_ database schema, the returning data format reveals the following information:"
   ]
  },
  {
   "cell_type": "markdown",
   "metadata": {},
   "source": [
    "1. The data is not in a single Pandas DataFrame but in multiple tables ;\n",
    "1. Tables have different number of items - just like the individual queries ;\n",
    "1. The data timestamps are not unified (see above) - there is no \"time smoothing\" or synchronization but original timestamps are retained as expected."
   ]
  },
  {
   "cell_type": "markdown",
   "metadata": {},
   "source": [
    "Albeit it is technically possible to make a single query, it does not make sense to save time in the query alone, unless one plans some underway application which should show data in real time and query performance has its importance. But then Python script and Pandas are not probably the right tool in the case the complex data structure which results still needs to be decomposed and restructured in quasi-real time. For off-line analysis and for graphical on-line analysis it is totally justified to make the inquiry of individual simple tables, synchronize them and build from them a 2D Pandas DataFrame without adding an extra step to this process."
   ]
  },
  {
   "cell_type": "markdown",
   "metadata": {},
   "source": [
    "### Close database streaming connection"
   ]
  },
  {
   "cell_type": "code",
   "execution_count": 33,
   "metadata": {},
   "outputs": [],
   "source": [
    "client.close()"
   ]
  },
  {
   "cell_type": "markdown",
   "metadata": {},
   "source": [
    "## Fitting curve methods"
   ]
  },
  {
   "cell_type": "markdown",
   "metadata": {},
   "source": [
    "In this section we study different curve fitting methods on above datasets in order to select the one for the implementation."
   ]
  },
  {
   "cell_type": "markdown",
   "metadata": {},
   "source": [
    "### Gekko "
   ]
  },
  {
   "cell_type": "markdown",
   "metadata": {},
   "source": [
    "We study the usage of  `gekko` Python package for machine learning and optimization, specializing in time series https://github.com/BYU-PRISM/GEKKO - see also http://apmonitor.com/wiki/index.php/Main/GekkoPythonOptimization for learning. Documentation: https://gekko.readthedocs.io/en/latest/index.html"
   ]
  },
  {
   "cell_type": "markdown",
   "metadata": {},
   "source": [
    "##### STW Gekko spline()"
   ]
  },
  {
   "cell_type": "markdown",
   "metadata": {},
   "source": [
    "We use a remote problem resolver (see http://apmonitor.com), so one needs a network connection. "
   ]
  },
  {
   "cell_type": "code",
   "execution_count": 34,
   "metadata": {},
   "outputs": [],
   "source": [
    "m = GEKKO(remote=True)"
   ]
  },
  {
   "cell_type": "markdown",
   "metadata": {},
   "source": [
    "convert Panda DataFrame colums to Numpy array(s):"
   ]
  },
  {
   "cell_type": "code",
   "execution_count": 35,
   "metadata": {},
   "outputs": [
    {
     "data": {
      "text/plain": [
       "Index(['result', 'table', '_time', '_value'], dtype='object')"
      ]
     },
     "execution_count": 35,
     "metadata": {},
     "output_type": "execute_result"
    }
   ],
   "source": [
    "stw_df.columns"
   ]
  },
  {
   "cell_type": "code",
   "execution_count": 36,
   "metadata": {},
   "outputs": [],
   "source": [
    "stw_datetime = pd.to_datetime(stw_df['_time'], unit='ms')"
   ]
  },
  {
   "cell_type": "code",
   "execution_count": 37,
   "metadata": {},
   "outputs": [
    {
     "data": {
      "text/plain": [
       "<bound method NDFrame.describe of 0      2018-09-28 08:04:47.186000+00:00\n",
       "1      2018-09-28 08:04:49.168000+00:00\n",
       "2      2018-09-28 08:04:50.331000+00:00\n",
       "3      2018-09-28 08:04:52.061000+00:00\n",
       "4      2018-09-28 08:04:54.200000+00:00\n",
       "                     ...               \n",
       "2884   2018-09-28 09:21:03.016000+00:00\n",
       "2885   2018-09-28 09:21:04.016000+00:00\n",
       "2886   2018-09-28 09:21:06.188000+00:00\n",
       "2887   2018-09-28 09:21:08.047000+00:00\n",
       "2888   2018-09-28 09:21:09.094000+00:00\n",
       "Name: _time, Length: 2889, dtype: datetime64[ns, tzutc()]>"
      ]
     },
     "execution_count": 37,
     "metadata": {},
     "output_type": "execute_result"
    }
   ],
   "source": [
    "stw_datetime.describe"
   ]
  },
  {
   "cell_type": "markdown",
   "metadata": {},
   "source": [
    "Convert DateTime to numerical (Epoch) value in _s_"
   ]
  },
  {
   "cell_type": "code",
   "execution_count": 38,
   "metadata": {},
   "outputs": [],
   "source": [
    "stw_time_int64 = stw_datetime.astype(np.int64).div(1e9)"
   ]
  },
  {
   "cell_type": "code",
   "execution_count": 39,
   "metadata": {},
   "outputs": [
    {
     "data": {
      "text/plain": [
       "<bound method NDFrame.describe of 0       1.538122e+09\n",
       "1       1.538122e+09\n",
       "2       1.538122e+09\n",
       "3       1.538122e+09\n",
       "4       1.538122e+09\n",
       "            ...     \n",
       "2884    1.538126e+09\n",
       "2885    1.538126e+09\n",
       "2886    1.538126e+09\n",
       "2887    1.538126e+09\n",
       "2888    1.538126e+09\n",
       "Name: _time, Length: 2889, dtype: float64>"
      ]
     },
     "execution_count": 39,
     "metadata": {},
     "output_type": "execute_result"
    }
   ],
   "source": [
    "stw_time_int64.describe"
   ]
  },
  {
   "cell_type": "markdown",
   "metadata": {},
   "source": [
    "Scale down so that x-origin (Epoch) would be in zero"
   ]
  },
  {
   "cell_type": "code",
   "execution_count": 40,
   "metadata": {},
   "outputs": [
    {
     "data": {
      "text/plain": [
       "1538121887.1859999"
      ]
     },
     "execution_count": 40,
     "metadata": {},
     "output_type": "execute_result"
    }
   ],
   "source": [
    "stw_time_int64[0]"
   ]
  },
  {
   "cell_type": "code",
   "execution_count": 41,
   "metadata": {},
   "outputs": [],
   "source": [
    "stw_time_int64 = stw_time_int64.sub(stw_time_int64[0])"
   ]
  },
  {
   "cell_type": "code",
   "execution_count": 42,
   "metadata": {},
   "outputs": [
    {
     "data": {
      "text/plain": [
       "<bound method NDFrame.describe of 0          0.000\n",
       "1          1.982\n",
       "2          3.145\n",
       "3          4.875\n",
       "4          7.014\n",
       "          ...   \n",
       "2884    4575.830\n",
       "2885    4576.830\n",
       "2886    4579.002\n",
       "2887    4580.861\n",
       "2888    4581.908\n",
       "Name: _time, Length: 2889, dtype: float64>"
      ]
     },
     "execution_count": 42,
     "metadata": {},
     "output_type": "execute_result"
    }
   ],
   "source": [
    "stw_time_int64.describe"
   ]
  },
  {
   "cell_type": "code",
   "execution_count": 43,
   "metadata": {},
   "outputs": [],
   "source": [
    "stw_time_value = stw_time_int64.to_numpy()"
   ]
  },
  {
   "cell_type": "code",
   "execution_count": 44,
   "metadata": {},
   "outputs": [
    {
     "data": {
      "text/plain": [
       "array([0.00000000e+00, 1.98200011e+00, 3.14500022e+00, ...,\n",
       "       4.57900200e+03, 4.58086100e+03, 4.58190800e+03])"
      ]
     },
     "execution_count": 44,
     "metadata": {},
     "output_type": "execute_result"
    }
   ],
   "source": [
    "stw_time_value"
   ]
  },
  {
   "cell_type": "code",
   "execution_count": 45,
   "metadata": {},
   "outputs": [],
   "source": [
    "stw_value = stw_df['_value'].to_numpy()"
   ]
  },
  {
   "cell_type": "code",
   "execution_count": 46,
   "metadata": {},
   "outputs": [
    {
     "data": {
      "text/plain": [
       "array([4.9568, 4.9784, 4.9972, ..., 4.033 , 4.0162, 3.9908])"
      ]
     },
     "execution_count": 46,
     "metadata": {},
     "output_type": "execute_result"
    }
   ],
   "source": [
    "stw_value"
   ]
  },
  {
   "cell_type": "code",
   "execution_count": 47,
   "metadata": {},
   "outputs": [],
   "source": [
    "stw_time_short = stw_time_value[:10]"
   ]
  },
  {
   "cell_type": "code",
   "execution_count": 48,
   "metadata": {},
   "outputs": [
    {
     "data": {
      "text/plain": [
       "array([ 0.        ,  1.98200011,  3.14500022,  4.875     ,  7.01400018,\n",
       "        8.19400024, 10.03800011, 11.82900023, 13.11600018, 14.16799998])"
      ]
     },
     "execution_count": 48,
     "metadata": {},
     "output_type": "execute_result"
    }
   ],
   "source": [
    "stw_time_short"
   ]
  },
  {
   "cell_type": "code",
   "execution_count": 49,
   "metadata": {},
   "outputs": [],
   "source": [
    "stw_value_short = stw_value[:10]"
   ]
  },
  {
   "cell_type": "code",
   "execution_count": 50,
   "metadata": {},
   "outputs": [
    {
     "data": {
      "text/plain": [
       "array([4.9568, 4.9784, 4.9972, 5.0162, 5.0192, 5.0154, 5.0278, 5.04  ,\n",
       "       5.0472, 5.064 ])"
      ]
     },
     "execution_count": 50,
     "metadata": {},
     "output_type": "execute_result"
    }
   ],
   "source": [
    "stw_value_short"
   ]
  },
  {
   "cell_type": "code",
   "execution_count": 51,
   "metadata": {},
   "outputs": [],
   "source": [
    "# define Spline function\n",
    "m.x = m.Param(value=np.linspace(-1,15))\n",
    "m.y = m.Var()\n",
    "m.options.IMODE=2\n",
    "m.cspline(m.x,m.y,stw_time_short,stw_value_short)\n",
    "m.solve(disp=False)"
   ]
  },
  {
   "cell_type": "code",
   "execution_count": 52,
   "metadata": {},
   "outputs": [
    {
     "data": {
      "image/png": "[encoded data removed]",
      "text/plain": [
       "<Figure size 432x288 with 1 Axes>"
      ]
     },
     "metadata": {
      "needs_background": "light"
     },
     "output_type": "display_data"
    }
   ],
   "source": [
    "plt.plot(stw_time_short,stw_value_short,'bo',label='data')\n",
    "plt.plot(m.x.value,m.y.value,'r--',label='cubic spline')\n",
    "plt.legend(loc='best')\n",
    "plt.show()"
   ]
  },
  {
   "cell_type": "markdown",
   "metadata": {},
   "source": [
    "Looks great! We probably do not want to read a plot, though. How to get a value of y when the `y` is known?"
   ]
  },
  {
   "cell_type": "code",
   "execution_count": 53,
   "metadata": {},
   "outputs": [],
   "source": [
    "p = GEKKO(remote=True)"
   ]
  },
  {
   "cell_type": "code",
   "execution_count": 54,
   "metadata": {},
   "outputs": [],
   "source": [
    "p.x = p.Param(value=4)\n",
    "p.y = p.Var()\n",
    "p.options.IMODE=3\n",
    "p.cspline(p.x,p.y,stw_time_short,stw_value_short)\n",
    "p.Obj(-p.y)\n",
    "p.solve(disp=False)"
   ]
  },
  {
   "cell_type": "code",
   "execution_count": 55,
   "metadata": {},
   "outputs": [
    {
     "data": {
      "text/plain": [
       "[5.0086814804]"
      ]
     },
     "execution_count": 55,
     "metadata": {},
     "output_type": "execute_result"
    }
   ],
   "source": [
    "p.y"
   ]
  },
  {
   "cell_type": "code",
   "execution_count": 56,
   "metadata": {},
   "outputs": [
    {
     "data": {
      "image/png": "[encoded data removed]",
      "text/plain": [
       "<Figure size 432x288 with 1 Axes>"
      ]
     },
     "metadata": {
      "needs_background": "light"
     },
     "output_type": "display_data"
    }
   ],
   "source": [
    "plt.plot(stw_time_short,stw_value_short,'bo',label='data')\n",
    "plt.plot(m.x.value,m.y.value,'r--',label='cubic spline')\n",
    "plt.plot(p.x.value,p.y.value,'ko',label='calc')\n",
    "plt.legend(loc='best')\n",
    "plt.show()"
   ]
  },
  {
   "cell_type": "markdown",
   "metadata": {},
   "source": [
    "Let's see how we can get values from spline function, say every second? Note that you have to set the `IMODE=2` to get an array back, see https://gekko.readthedocs.io/en/latest/imode.html#mpu. Above, where we are looking for a single value, `IMODE=3`, see https://gekko.readthedocs.io/en/latest/imode.html#rto (default)."
   ]
  },
  {
   "cell_type": "code",
   "execution_count": 57,
   "metadata": {},
   "outputs": [],
   "source": [
    "xtime_points = np.array([1,2,3,4,5,6,7,8,9,10])"
   ]
  },
  {
   "cell_type": "code",
   "execution_count": 58,
   "metadata": {},
   "outputs": [],
   "source": [
    "p.x = p.Param(xtime_points)\n",
    "p.y = p.Var()\n",
    "p.options.IMODE=2\n",
    "p.cspline(p.x,p.y,stw_time_short,stw_value_short)\n",
    "p.Obj(-p.y)\n",
    "p.solve(disp=False)"
   ]
  },
  {
   "cell_type": "code",
   "execution_count": 59,
   "metadata": {},
   "outputs": [
    {
     "data": {
      "text/plain": [
       "[4.9660868097, 4.9786656322, 4.9949298527, 5.0086814804, 5.0171099676, 5.0211515941, 5.0192695202, 5.0155248562, 5.0183811716, 5.0274301564]"
      ]
     },
     "execution_count": 59,
     "metadata": {},
     "output_type": "execute_result"
    }
   ],
   "source": [
    "p.y"
   ]
  },
  {
   "cell_type": "code",
   "execution_count": 60,
   "metadata": {},
   "outputs": [
    {
     "data": {
      "image/png": "[encoded data removed]",
      "text/plain": [
       "<Figure size 432x288 with 1 Axes>"
      ]
     },
     "metadata": {
      "needs_background": "light"
     },
     "output_type": "display_data"
    }
   ],
   "source": [
    "plt.plot(stw_time_short,stw_value_short,'bo',label='data')\n",
    "plt.plot(m.x.value,m.y.value,'r--',label='cubic spline')\n",
    "plt.plot(p.x.value,p.y.value,'X',label='calc')\n",
    "plt.legend(loc='best')\n",
    "plt.show()"
   ]
  },
  {
   "cell_type": "markdown",
   "metadata": {},
   "source": [
    "Ok, let's try now with a bit more points (we try 100, 500 and then all data points which is shown below)"
   ]
  },
  {
   "cell_type": "code",
   "execution_count": 61,
   "metadata": {},
   "outputs": [],
   "source": [
    "stw_time_short = stw_time_value[:-1]"
   ]
  },
  {
   "cell_type": "code",
   "execution_count": 62,
   "metadata": {},
   "outputs": [],
   "source": [
    "stw_value_short = stw_value[:-1]"
   ]
  },
  {
   "cell_type": "code",
   "execution_count": 63,
   "metadata": {},
   "outputs": [],
   "source": [
    "m.x = m.Param(value=np.linspace(-1,1.558*stw_time_short.size))\n",
    "m.y = m.Var()\n",
    "m.options.IMODE=2\n",
    "m.cspline(m.x,m.y,stw_time_short,stw_value_short)\n",
    "m.solve(disp=False)"
   ]
  },
  {
   "cell_type": "code",
   "execution_count": 64,
   "metadata": {},
   "outputs": [
    {
     "data": {
      "image/png": "[encoded data removed]",
      "text/plain": [
       "<Figure size 432x288 with 1 Axes>"
      ]
     },
     "metadata": {
      "needs_background": "light"
     },
     "output_type": "display_data"
    }
   ],
   "source": [
    "plt.plot(stw_time_short,stw_value_short,'bo',label='data')\n",
    "plt.plot(m.x.value,m.y.value,'r--',label='cubic spline')\n",
    "plt.legend(loc='best')\n",
    "plt.show()"
   ]
  },
  {
   "cell_type": "markdown",
   "metadata": {},
   "source": [
    "This is pretty good estimation of the STW, taking away the noise. The sole problem I see is that coefficient above (`1.558`) which is purely experimental: with `1.6` there is an overshoot, otherwise there is always an undershoot, which cannot be completely eliminated. One need to stop the analysis a little bit before the time scale end (at 4000 seconds)."
   ]
  },
  {
   "cell_type": "markdown",
   "metadata": {},
   "source": [
    ">**NOTE**: The STW data is coming from a paddle wheel (in this case, and quite usually). If you have ever a possibility to drive with a motor on very calm waters with little or no current and you record the STW data it will be surprisingly ripple free. The noise in the sailing conditions like above are coming from the turbulent water flow in addition to the waves and other changes in the relative water speed."
   ]
  },
  {
   "cell_type": "markdown",
   "metadata": {},
   "source": [
    "Second problem is that we do not have enough data points: as defined above, there seems to be an issue if the number of values given are getting larger. Let's see what is the current x-axis values:"
   ]
  },
  {
   "cell_type": "code",
   "execution_count": 65,
   "metadata": {},
   "outputs": [
    {
     "data": {
      "text/plain": [
       "[-1.0, 90.847020408, 182.69404082, 274.54106122, 366.38808163, 458.23510204, 550.08212245, 641.92914286, 733.77616327, 825.62318367, 917.47020408, 1009.3172245, 1101.1642449, 1193.0112653, 1284.8582857, 1376.7053061, 1468.5523265, 1560.3993469, 1652.2463673, 1744.0933878, 1835.9404082, 1927.7874286, 2019.634449, 2111.4814694, 2203.3284898, 2295.1755102, 2387.0225306, 2478.869551, 2570.7165714, 2662.5635918, 2754.4106122, 2846.2576327, 2938.1046531, 3029.9516735, 3121.7986939, 3213.6457143, 3305.4927347, 3397.3397551, 3489.1867755, 3581.0337959, 3672.8808163, 3764.7278367, 3856.5748571, 3948.4218776, 4040.268898, 4132.1159184, 4223.9629388, 4315.8099592, 4407.6569796, 4499.504]"
      ]
     },
     "execution_count": 65,
     "metadata": {},
     "output_type": "execute_result"
    }
   ],
   "source": [
    "m.x"
   ]
  },
  {
   "cell_type": "markdown",
   "metadata": {},
   "source": [
    "Not that many points, and not arranged regularly. Let's try with NumPy.arange() function to see which are the limits for the number of points in x-axis: (-1,202,1) ; (-1,502,1):OK/FAIL ; (-1,1002,1):FAIL"
   ]
  },
  {
   "cell_type": "code",
   "execution_count": 66,
   "metadata": {},
   "outputs": [],
   "source": [
    "p.x = p.Param(np.arange(-1,202,1))\n",
    "p.y = p.Var()\n",
    "p.options.IMODE=2\n",
    "p.cspline(p.x,p.y,stw_time_short,stw_value_short)\n",
    "p.Obj(-p.y)\n",
    "p.solve(disp=False)"
   ]
  },
  {
   "cell_type": "code",
   "execution_count": 67,
   "metadata": {},
   "outputs": [
    {
     "data": {
      "image/png": "[encoded data removed]",
      "text/plain": [
       "<Figure size 432x288 with 1 Axes>"
      ]
     },
     "metadata": {
      "needs_background": "light"
     },
     "output_type": "display_data"
    }
   ],
   "source": [
    "plt.plot(stw_time_short,stw_value_short,'bo',label='data')\n",
    "plt.plot(p.x.value,p.y.value,'r--',label='cubic spline')\n",
    "plt.legend(loc='best')\n",
    "plt.show()"
   ]
  },
  {
   "cell_type": "markdown",
   "metadata": {},
   "source": [
    "Not enough points can be obtained if resolution is set back to one second!"
   ]
  },
  {
   "cell_type": "markdown",
   "metadata": {},
   "source": [
    "#### Conclusion on Gekko spline method"
   ]
  },
  {
   "cell_type": "markdown",
   "metadata": {},
   "source": [
    "The GEKKO library has _modes_ which are difficult to understand, the same library behaves differently in different modes. I think that modes are bad for any library. Anyway, this library is addressing clearly a different usage than this, a quite simple one we are looking for. The service is server based, local or remote. It is certainly an advantage for large scale statistical calculations to have a remote, optimized server. But for some reason, I cannot give it around 2000 - 3000 points and give me a one second interval points (4000 points). Only about 200 points maximum are possible, I found. Maybe some server parameter, the settings are quite complicated, so I give up for now. "
   ]
  },
  {
   "cell_type": "markdown",
   "metadata": {},
   "source": [
    "### Pandas DataFrame / SciPy solution"
   ]
  },
  {
   "cell_type": "markdown",
   "metadata": {},
   "source": [
    "We use the [pandas.DataFrame.interpolate()](https://pandas.pydata.org/pandas-docs/stable/reference/api/pandas.DataFrame.interpolate.html): the plan is simple:"
   ]
  },
  {
   "cell_type": "markdown",
   "metadata": {},
   "source": [
    "1. Create a new dataframe where one has full second values with NaN + the collected data\n",
    "1. Interpolate the data points with NaN using SciPy signal spline function"
   ]
  },
  {
   "cell_type": "markdown",
   "metadata": {},
   "source": [
    "#### STW DataFrame modification"
   ]
  },
  {
   "cell_type": "markdown",
   "metadata": {},
   "source": [
    "Ok, this is going to be a bit slow (for a Pandas DataFrames which are vectorized and thus can be faster) since we are going to loop throug each dataset. There is certainly a better way to do it, like writing some [C-extensions for Python](https://cython.org) like somebody is boasting in [this discussion of Stackoverflow](https://stackoverflow.com/questions/16476924/how-to-iterate-over-rows-in-a-dataframe-in-pandas) - but that's a bit overkilling since here we have time and we just want to test the interpolate methods."
   ]
  },
  {
   "cell_type": "markdown",
   "metadata": {},
   "source": [
    "We use copy of one Pandas DataFrame items to another, knowing what we do but this creates warning in Python. See this [discussion in Stackoverflow](https://stackoverflow.com/questions/47182183/pandas-chained-assignment-warning-exception-handling). For now we ignore the warning."
   ]
  },
  {
   "cell_type": "code",
   "execution_count": 68,
   "metadata": {},
   "outputs": [],
   "source": [
    "pd.options.mode.chained_assignment = None"
   ]
  },
  {
   "cell_type": "code",
   "execution_count": 69,
   "metadata": {},
   "outputs": [
    {
     "data": {
      "text/plain": [
       "Index(['result', 'table', '_time', '_value'], dtype='object')"
      ]
     },
     "execution_count": 69,
     "metadata": {},
     "output_type": "execute_result"
    }
   ],
   "source": [
    "stw_df.columns"
   ]
  },
  {
   "cell_type": "code",
   "execution_count": 70,
   "metadata": {},
   "outputs": [],
   "source": [
    "s_columns = ['_time','_value','floored']"
   ]
  },
  {
   "cell_type": "code",
   "execution_count": 71,
   "metadata": {},
   "outputs": [],
   "source": [
    "stw_prev_s = stw_df['_time'][0].floor(freq='S')"
   ]
  },
  {
   "cell_type": "code",
   "execution_count": 72,
   "metadata": {},
   "outputs": [
    {
     "data": {
      "text/plain": [
       "Timestamp('2018-09-28 08:04:47+0000', tz='tzutc()')"
      ]
     },
     "execution_count": 72,
     "metadata": {},
     "output_type": "execute_result"
    }
   ],
   "source": [
    "stw_prev_s"
   ]
  },
  {
   "cell_type": "code",
   "execution_count": 73,
   "metadata": {},
   "outputs": [],
   "source": [
    "stw_df_s_filler = pd.DataFrame([[stw_prev_s, np.nan, True]], columns = s_columns)"
   ]
  },
  {
   "cell_type": "code",
   "execution_count": 74,
   "metadata": {},
   "outputs": [
    {
     "data": {
      "text/html": [
       "<div>\n",
       "<style scoped>\n",
       "    .dataframe tbody tr th:only-of-type {\n",
       "        vertical-align: middle;\n",
       "    }\n",
       "\n",
       "    .dataframe tbody tr th {\n",
       "        vertical-align: top;\n",
       "    }\n",
       "\n",
       "    .dataframe thead th {\n",
       "        text-align: right;\n",
       "    }\n",
       "</style>\n",
       "<table border=\"1\" class=\"dataframe\">\n",
       "  <thead>\n",
       "    <tr style=\"text-align: right;\">\n",
       "      <th></th>\n",
       "      <th>_time</th>\n",
       "      <th>_value</th>\n",
       "      <th>floored</th>\n",
       "    </tr>\n",
       "  </thead>\n",
       "  <tbody>\n",
       "    <tr>\n",
       "      <th>0</th>\n",
       "      <td>2018-09-28 08:04:47+00:00</td>\n",
       "      <td>NaN</td>\n",
       "      <td>True</td>\n",
       "    </tr>\n",
       "  </tbody>\n",
       "</table>\n",
       "</div>"
      ],
      "text/plain": [
       "                      _time  _value  floored\n",
       "0 2018-09-28 08:04:47+00:00     NaN     True"
      ]
     },
     "execution_count": 74,
     "metadata": {},
     "output_type": "execute_result"
    }
   ],
   "source": [
    "stw_df_s_filler"
   ]
  },
  {
   "cell_type": "code",
   "execution_count": 75,
   "metadata": {},
   "outputs": [
    {
     "data": {
      "text/plain": [
       "[RangeIndex(start=0, stop=1, step=1),\n",
       " Index(['_time', '_value', 'floored'], dtype='object')]"
      ]
     },
     "execution_count": 75,
     "metadata": {},
     "output_type": "execute_result"
    }
   ],
   "source": [
    "stw_df_s_filler.axes"
   ]
  },
  {
   "cell_type": "code",
   "execution_count": 76,
   "metadata": {},
   "outputs": [],
   "source": [
    "stw_df_s_filler.is_copy = False"
   ]
  },
  {
   "cell_type": "code",
   "execution_count": 77,
   "metadata": {},
   "outputs": [
    {
     "name": "stdout",
     "output_type": "stream",
     "text": [
      "                      _time  _value  floored\n",
      "0 2018-09-28 08:04:47+00:00     NaN     True\n"
     ]
    }
   ],
   "source": [
    "print (stw_df_s_filler)"
   ]
  },
  {
   "cell_type": "code",
   "execution_count": 78,
   "metadata": {},
   "outputs": [],
   "source": [
    "stw_df_s_filled = pd.DataFrame( [[stw_df_s_filler['_time'][0],stw_df_s_filler['_value'][0], \\\n",
    "                                True]], columns = s_columns)"
   ]
  },
  {
   "cell_type": "code",
   "execution_count": 79,
   "metadata": {},
   "outputs": [
    {
     "data": {
      "text/html": [
       "<div>\n",
       "<style scoped>\n",
       "    .dataframe tbody tr th:only-of-type {\n",
       "        vertical-align: middle;\n",
       "    }\n",
       "\n",
       "    .dataframe tbody tr th {\n",
       "        vertical-align: top;\n",
       "    }\n",
       "\n",
       "    .dataframe thead th {\n",
       "        text-align: right;\n",
       "    }\n",
       "</style>\n",
       "<table border=\"1\" class=\"dataframe\">\n",
       "  <thead>\n",
       "    <tr style=\"text-align: right;\">\n",
       "      <th></th>\n",
       "      <th>_time</th>\n",
       "      <th>_value</th>\n",
       "      <th>floored</th>\n",
       "    </tr>\n",
       "  </thead>\n",
       "  <tbody>\n",
       "    <tr>\n",
       "      <th>0</th>\n",
       "      <td>2018-09-28 08:04:47+00:00</td>\n",
       "      <td>NaN</td>\n",
       "      <td>True</td>\n",
       "    </tr>\n",
       "  </tbody>\n",
       "</table>\n",
       "</div>"
      ],
      "text/plain": [
       "                      _time  _value  floored\n",
       "0 2018-09-28 08:04:47+00:00     NaN     True"
      ]
     },
     "execution_count": 79,
     "metadata": {},
     "output_type": "execute_result"
    }
   ],
   "source": [
    "stw_df_s_filled"
   ]
  },
  {
   "cell_type": "code",
   "execution_count": 80,
   "metadata": {},
   "outputs": [],
   "source": [
    "stw_df_s_filled.is_copy = False"
   ]
  },
  {
   "cell_type": "code",
   "execution_count": 81,
   "metadata": {},
   "outputs": [],
   "source": [
    "s_delta = pd.Timedelta(1,unit='seconds')"
   ]
  },
  {
   "cell_type": "code",
   "execution_count": 82,
   "metadata": {},
   "outputs": [
    {
     "data": {
      "text/plain": [
       "Timedelta('0 days 00:00:01')"
      ]
     },
     "execution_count": 82,
     "metadata": {},
     "output_type": "execute_result"
    }
   ],
   "source": [
    "s_delta"
   ]
  },
  {
   "cell_type": "code",
   "execution_count": 83,
   "metadata": {},
   "outputs": [],
   "source": [
    "stw_next_s = stw_prev_s + s_delta"
   ]
  },
  {
   "cell_type": "code",
   "execution_count": 84,
   "metadata": {},
   "outputs": [
    {
     "data": {
      "text/plain": [
       "Timestamp('2018-09-28 08:04:48+0000', tz='tzutc()')"
      ]
     },
     "execution_count": 84,
     "metadata": {},
     "output_type": "execute_result"
    }
   ],
   "source": [
    "stw_next_s"
   ]
  },
  {
   "cell_type": "code",
   "execution_count": 85,
   "metadata": {},
   "outputs": [],
   "source": [
    "s_InjectMax = 0"
   ]
  },
  {
   "cell_type": "code",
   "execution_count": 86,
   "metadata": {},
   "outputs": [
    {
     "name": "stdout",
     "output_type": "stream",
     "text": [
      "s_InjectMax: 5\n"
     ]
    }
   ],
   "source": [
    "stw_df.is_copy = False\n",
    "for index, row in stw_df.iterrows():\n",
    "    # print(row['_time'], row['_value'])\n",
    "    if row['_time'] >= stw_prev_s:\n",
    "        stw_prev_s_next = row['_time'].floor(freq='S')\n",
    "        now_Injecting = 0\n",
    "        while stw_prev_s_next >= stw_next_s:\n",
    "            stw_df_s_filler['_time'][0]   = stw_next_s\n",
    "            stw_df_s_filler['_value'][0]  = np.nan\n",
    "            stw_df_s_filler['floored'][0] = True\n",
    "            stw_df_s_filled = stw_df_s_filled.append(stw_df_s_filler,True)\n",
    "            stw_next_s = stw_next_s + s_delta\n",
    "            now_Injecting = now_Injecting + 1\n",
    "        stw_next_s = stw_next_s - s_delta\n",
    "        if now_Injecting > s_InjectMax:\n",
    "            s_InjectMax = now_Injecting\n",
    "    stw_df_s_filler['_time'][0]   = row['_time']\n",
    "    stw_df_s_filler['_value'][0]  = row['_value']\n",
    "    stw_df_s_filler['floored'][0] = False\n",
    "    stw_df_s_filled = stw_df_s_filled.append(stw_df_s_filler, True)\n",
    "    stw_next_s = stw_next_s + s_delta\n",
    "# This we are going to keep for the interpolation\n",
    "print('s_InjectMax:', s_InjectMax)"
   ]
  },
  {
   "cell_type": "code",
   "execution_count": 87,
   "metadata": {},
   "outputs": [
    {
     "data": {
      "text/html": [
       "<div>\n",
       "<style scoped>\n",
       "    .dataframe tbody tr th:only-of-type {\n",
       "        vertical-align: middle;\n",
       "    }\n",
       "\n",
       "    .dataframe tbody tr th {\n",
       "        vertical-align: top;\n",
       "    }\n",
       "\n",
       "    .dataframe thead th {\n",
       "        text-align: right;\n",
       "    }\n",
       "</style>\n",
       "<table border=\"1\" class=\"dataframe\">\n",
       "  <thead>\n",
       "    <tr style=\"text-align: right;\">\n",
       "      <th></th>\n",
       "      <th>_time</th>\n",
       "      <th>_value</th>\n",
       "      <th>floored</th>\n",
       "    </tr>\n",
       "  </thead>\n",
       "  <tbody>\n",
       "    <tr>\n",
       "      <th>0</th>\n",
       "      <td>2018-09-28 08:04:47+00:00</td>\n",
       "      <td>NaN</td>\n",
       "      <td>True</td>\n",
       "    </tr>\n",
       "    <tr>\n",
       "      <th>1</th>\n",
       "      <td>2018-09-28 08:04:47.186000+00:00</td>\n",
       "      <td>4.9568</td>\n",
       "      <td>False</td>\n",
       "    </tr>\n",
       "    <tr>\n",
       "      <th>2</th>\n",
       "      <td>2018-09-28 08:04:48+00:00</td>\n",
       "      <td>NaN</td>\n",
       "      <td>True</td>\n",
       "    </tr>\n",
       "    <tr>\n",
       "      <th>3</th>\n",
       "      <td>2018-09-28 08:04:49+00:00</td>\n",
       "      <td>NaN</td>\n",
       "      <td>True</td>\n",
       "    </tr>\n",
       "    <tr>\n",
       "      <th>4</th>\n",
       "      <td>2018-09-28 08:04:49.168000+00:00</td>\n",
       "      <td>4.9784</td>\n",
       "      <td>False</td>\n",
       "    </tr>\n",
       "    <tr>\n",
       "      <th>5</th>\n",
       "      <td>2018-09-28 08:04:50+00:00</td>\n",
       "      <td>NaN</td>\n",
       "      <td>True</td>\n",
       "    </tr>\n",
       "    <tr>\n",
       "      <th>6</th>\n",
       "      <td>2018-09-28 08:04:50.331000+00:00</td>\n",
       "      <td>4.9972</td>\n",
       "      <td>False</td>\n",
       "    </tr>\n",
       "    <tr>\n",
       "      <th>7</th>\n",
       "      <td>2018-09-28 08:04:51+00:00</td>\n",
       "      <td>NaN</td>\n",
       "      <td>True</td>\n",
       "    </tr>\n",
       "    <tr>\n",
       "      <th>8</th>\n",
       "      <td>2018-09-28 08:04:52+00:00</td>\n",
       "      <td>NaN</td>\n",
       "      <td>True</td>\n",
       "    </tr>\n",
       "    <tr>\n",
       "      <th>9</th>\n",
       "      <td>2018-09-28 08:04:52.061000+00:00</td>\n",
       "      <td>5.0162</td>\n",
       "      <td>False</td>\n",
       "    </tr>\n",
       "    <tr>\n",
       "      <th>10</th>\n",
       "      <td>2018-09-28 08:04:53+00:00</td>\n",
       "      <td>NaN</td>\n",
       "      <td>True</td>\n",
       "    </tr>\n",
       "    <tr>\n",
       "      <th>11</th>\n",
       "      <td>2018-09-28 08:04:54+00:00</td>\n",
       "      <td>NaN</td>\n",
       "      <td>True</td>\n",
       "    </tr>\n",
       "    <tr>\n",
       "      <th>12</th>\n",
       "      <td>2018-09-28 08:04:54.200000+00:00</td>\n",
       "      <td>5.0192</td>\n",
       "      <td>False</td>\n",
       "    </tr>\n",
       "    <tr>\n",
       "      <th>13</th>\n",
       "      <td>2018-09-28 08:04:55+00:00</td>\n",
       "      <td>NaN</td>\n",
       "      <td>True</td>\n",
       "    </tr>\n",
       "    <tr>\n",
       "      <th>14</th>\n",
       "      <td>2018-09-28 08:04:55.380000+00:00</td>\n",
       "      <td>5.0154</td>\n",
       "      <td>False</td>\n",
       "    </tr>\n",
       "    <tr>\n",
       "      <th>15</th>\n",
       "      <td>2018-09-28 08:04:56+00:00</td>\n",
       "      <td>NaN</td>\n",
       "      <td>True</td>\n",
       "    </tr>\n",
       "    <tr>\n",
       "      <th>16</th>\n",
       "      <td>2018-09-28 08:04:57+00:00</td>\n",
       "      <td>NaN</td>\n",
       "      <td>True</td>\n",
       "    </tr>\n",
       "    <tr>\n",
       "      <th>17</th>\n",
       "      <td>2018-09-28 08:04:57.224000+00:00</td>\n",
       "      <td>5.0278</td>\n",
       "      <td>False</td>\n",
       "    </tr>\n",
       "    <tr>\n",
       "      <th>18</th>\n",
       "      <td>2018-09-28 08:04:58+00:00</td>\n",
       "      <td>NaN</td>\n",
       "      <td>True</td>\n",
       "    </tr>\n",
       "    <tr>\n",
       "      <th>19</th>\n",
       "      <td>2018-09-28 08:04:59+00:00</td>\n",
       "      <td>NaN</td>\n",
       "      <td>True</td>\n",
       "    </tr>\n",
       "  </tbody>\n",
       "</table>\n",
       "</div>"
      ],
      "text/plain": [
       "                              _time  _value  floored\n",
       "0         2018-09-28 08:04:47+00:00     NaN     True\n",
       "1  2018-09-28 08:04:47.186000+00:00  4.9568    False\n",
       "2         2018-09-28 08:04:48+00:00     NaN     True\n",
       "3         2018-09-28 08:04:49+00:00     NaN     True\n",
       "4  2018-09-28 08:04:49.168000+00:00  4.9784    False\n",
       "5         2018-09-28 08:04:50+00:00     NaN     True\n",
       "6  2018-09-28 08:04:50.331000+00:00  4.9972    False\n",
       "7         2018-09-28 08:04:51+00:00     NaN     True\n",
       "8         2018-09-28 08:04:52+00:00     NaN     True\n",
       "9  2018-09-28 08:04:52.061000+00:00  5.0162    False\n",
       "10        2018-09-28 08:04:53+00:00     NaN     True\n",
       "11        2018-09-28 08:04:54+00:00     NaN     True\n",
       "12 2018-09-28 08:04:54.200000+00:00  5.0192    False\n",
       "13        2018-09-28 08:04:55+00:00     NaN     True\n",
       "14 2018-09-28 08:04:55.380000+00:00  5.0154    False\n",
       "15        2018-09-28 08:04:56+00:00     NaN     True\n",
       "16        2018-09-28 08:04:57+00:00     NaN     True\n",
       "17 2018-09-28 08:04:57.224000+00:00  5.0278    False\n",
       "18        2018-09-28 08:04:58+00:00     NaN     True\n",
       "19        2018-09-28 08:04:59+00:00     NaN     True"
      ]
     },
     "execution_count": 87,
     "metadata": {},
     "output_type": "execute_result"
    }
   ],
   "source": [
    "stw_df_s_filled.head(20)"
   ]
  },
  {
   "cell_type": "code",
   "execution_count": 88,
   "metadata": {},
   "outputs": [
    {
     "data": {
      "text/html": [
       "<div>\n",
       "<style scoped>\n",
       "    .dataframe tbody tr th:only-of-type {\n",
       "        vertical-align: middle;\n",
       "    }\n",
       "\n",
       "    .dataframe tbody tr th {\n",
       "        vertical-align: top;\n",
       "    }\n",
       "\n",
       "    .dataframe thead th {\n",
       "        text-align: right;\n",
       "    }\n",
       "</style>\n",
       "<table border=\"1\" class=\"dataframe\">\n",
       "  <thead>\n",
       "    <tr style=\"text-align: right;\">\n",
       "      <th></th>\n",
       "      <th>_time</th>\n",
       "      <th>_value</th>\n",
       "      <th>floored</th>\n",
       "    </tr>\n",
       "  </thead>\n",
       "  <tbody>\n",
       "    <tr>\n",
       "      <th>7452</th>\n",
       "      <td>2018-09-28 09:20:58+00:00</td>\n",
       "      <td>NaN</td>\n",
       "      <td>True</td>\n",
       "    </tr>\n",
       "    <tr>\n",
       "      <th>7453</th>\n",
       "      <td>2018-09-28 09:20:58.078000+00:00</td>\n",
       "      <td>4.0522</td>\n",
       "      <td>False</td>\n",
       "    </tr>\n",
       "    <tr>\n",
       "      <th>7454</th>\n",
       "      <td>2018-09-28 09:20:59+00:00</td>\n",
       "      <td>NaN</td>\n",
       "      <td>True</td>\n",
       "    </tr>\n",
       "    <tr>\n",
       "      <th>7455</th>\n",
       "      <td>2018-09-28 09:21:00+00:00</td>\n",
       "      <td>NaN</td>\n",
       "      <td>True</td>\n",
       "    </tr>\n",
       "    <tr>\n",
       "      <th>7456</th>\n",
       "      <td>2018-09-28 09:21:00.015000+00:00</td>\n",
       "      <td>4.0602</td>\n",
       "      <td>False</td>\n",
       "    </tr>\n",
       "    <tr>\n",
       "      <th>7457</th>\n",
       "      <td>2018-09-28 09:21:01+00:00</td>\n",
       "      <td>NaN</td>\n",
       "      <td>True</td>\n",
       "    </tr>\n",
       "    <tr>\n",
       "      <th>7458</th>\n",
       "      <td>2018-09-28 09:21:01.031000+00:00</td>\n",
       "      <td>4.0564</td>\n",
       "      <td>False</td>\n",
       "    </tr>\n",
       "    <tr>\n",
       "      <th>7459</th>\n",
       "      <td>2018-09-28 09:21:02+00:00</td>\n",
       "      <td>NaN</td>\n",
       "      <td>True</td>\n",
       "    </tr>\n",
       "    <tr>\n",
       "      <th>7460</th>\n",
       "      <td>2018-09-28 09:21:03+00:00</td>\n",
       "      <td>NaN</td>\n",
       "      <td>True</td>\n",
       "    </tr>\n",
       "    <tr>\n",
       "      <th>7461</th>\n",
       "      <td>2018-09-28 09:21:03.016000+00:00</td>\n",
       "      <td>4.0518</td>\n",
       "      <td>False</td>\n",
       "    </tr>\n",
       "    <tr>\n",
       "      <th>7462</th>\n",
       "      <td>2018-09-28 09:21:04+00:00</td>\n",
       "      <td>NaN</td>\n",
       "      <td>True</td>\n",
       "    </tr>\n",
       "    <tr>\n",
       "      <th>7463</th>\n",
       "      <td>2018-09-28 09:21:04.016000+00:00</td>\n",
       "      <td>4.0270</td>\n",
       "      <td>False</td>\n",
       "    </tr>\n",
       "    <tr>\n",
       "      <th>7464</th>\n",
       "      <td>2018-09-28 09:21:05+00:00</td>\n",
       "      <td>NaN</td>\n",
       "      <td>True</td>\n",
       "    </tr>\n",
       "    <tr>\n",
       "      <th>7465</th>\n",
       "      <td>2018-09-28 09:21:06+00:00</td>\n",
       "      <td>NaN</td>\n",
       "      <td>True</td>\n",
       "    </tr>\n",
       "    <tr>\n",
       "      <th>7466</th>\n",
       "      <td>2018-09-28 09:21:06.188000+00:00</td>\n",
       "      <td>4.0330</td>\n",
       "      <td>False</td>\n",
       "    </tr>\n",
       "    <tr>\n",
       "      <th>7467</th>\n",
       "      <td>2018-09-28 09:21:07+00:00</td>\n",
       "      <td>NaN</td>\n",
       "      <td>True</td>\n",
       "    </tr>\n",
       "    <tr>\n",
       "      <th>7468</th>\n",
       "      <td>2018-09-28 09:21:08+00:00</td>\n",
       "      <td>NaN</td>\n",
       "      <td>True</td>\n",
       "    </tr>\n",
       "    <tr>\n",
       "      <th>7469</th>\n",
       "      <td>2018-09-28 09:21:08.047000+00:00</td>\n",
       "      <td>4.0162</td>\n",
       "      <td>False</td>\n",
       "    </tr>\n",
       "    <tr>\n",
       "      <th>7470</th>\n",
       "      <td>2018-09-28 09:21:09+00:00</td>\n",
       "      <td>NaN</td>\n",
       "      <td>True</td>\n",
       "    </tr>\n",
       "    <tr>\n",
       "      <th>7471</th>\n",
       "      <td>2018-09-28 09:21:09.094000+00:00</td>\n",
       "      <td>3.9908</td>\n",
       "      <td>False</td>\n",
       "    </tr>\n",
       "  </tbody>\n",
       "</table>\n",
       "</div>"
      ],
      "text/plain": [
       "                                _time  _value  floored\n",
       "7452        2018-09-28 09:20:58+00:00     NaN     True\n",
       "7453 2018-09-28 09:20:58.078000+00:00  4.0522    False\n",
       "7454        2018-09-28 09:20:59+00:00     NaN     True\n",
       "7455        2018-09-28 09:21:00+00:00     NaN     True\n",
       "7456 2018-09-28 09:21:00.015000+00:00  4.0602    False\n",
       "7457        2018-09-28 09:21:01+00:00     NaN     True\n",
       "7458 2018-09-28 09:21:01.031000+00:00  4.0564    False\n",
       "7459        2018-09-28 09:21:02+00:00     NaN     True\n",
       "7460        2018-09-28 09:21:03+00:00     NaN     True\n",
       "7461 2018-09-28 09:21:03.016000+00:00  4.0518    False\n",
       "7462        2018-09-28 09:21:04+00:00     NaN     True\n",
       "7463 2018-09-28 09:21:04.016000+00:00  4.0270    False\n",
       "7464        2018-09-28 09:21:05+00:00     NaN     True\n",
       "7465        2018-09-28 09:21:06+00:00     NaN     True\n",
       "7466 2018-09-28 09:21:06.188000+00:00  4.0330    False\n",
       "7467        2018-09-28 09:21:07+00:00     NaN     True\n",
       "7468        2018-09-28 09:21:08+00:00     NaN     True\n",
       "7469 2018-09-28 09:21:08.047000+00:00  4.0162    False\n",
       "7470        2018-09-28 09:21:09+00:00     NaN     True\n",
       "7471 2018-09-28 09:21:09.094000+00:00  3.9908    False"
      ]
     },
     "execution_count": 88,
     "metadata": {},
     "output_type": "execute_result"
    }
   ],
   "source": [
    "stw_df_s_filled.tail(20)"
   ]
  },
  {
   "cell_type": "markdown",
   "metadata": {},
   "source": [
    "#### STW Pandas interpolation"
   ]
  },
  {
   "cell_type": "markdown",
   "metadata": {},
   "source": [
    "Now we have a quite \"flat structure\" dataframe which has NaN aues on those items which have an injected floored second value. We know also the maximum number of sequence of those NaN values (there was a hole in the data for a few seconds), by `s_InjectMax`. Now we can try go give a value to those NaN values by fitting a best curve on the valid data:"
   ]
  },
  {
   "cell_type": "code",
   "execution_count": 89,
   "metadata": {},
   "outputs": [],
   "source": [
    "stw_df_s_filled['_value'].interpolate(method='cubic', order=2, \\\n",
    "                                      inplace=True, limit_direction='both')"
   ]
  },
  {
   "cell_type": "code",
   "execution_count": 90,
   "metadata": {},
   "outputs": [
    {
     "name": "stdout",
     "output_type": "stream",
     "text": [
      "                                _time    _value  floored\n",
      "0           2018-09-28 08:04:47+00:00       NaN     True\n",
      "1    2018-09-28 08:04:47.186000+00:00  4.956800    False\n",
      "2           2018-09-28 08:04:48+00:00  4.961812     True\n",
      "3           2018-09-28 08:04:49+00:00  4.969339     True\n",
      "4    2018-09-28 08:04:49.168000+00:00  4.978400    False\n",
      "...                               ...       ...      ...\n",
      "7467        2018-09-28 09:21:07+00:00  4.031996     True\n",
      "7468        2018-09-28 09:21:08+00:00  4.025957     True\n",
      "7469 2018-09-28 09:21:08.047000+00:00  4.016200    False\n",
      "7470        2018-09-28 09:21:09+00:00  4.004042     True\n",
      "7471 2018-09-28 09:21:09.094000+00:00  3.990800    False\n",
      "\n",
      "[7472 rows x 3 columns]\n"
     ]
    }
   ],
   "source": [
    "print(stw_df_s_filled)"
   ]
  },
  {
   "cell_type": "markdown",
   "metadata": {},
   "source": [
    "The NaN values in floored seconds have been filled with interpolated data points. Let's make a copy of the dataframe but only for values which have been floored. We use similar dirty trick looping by rows as before."
   ]
  },
  {
   "cell_type": "code",
   "execution_count": 91,
   "metadata": {},
   "outputs": [],
   "source": [
    "s_columns = ['_time','_value']"
   ]
  },
  {
   "cell_type": "code",
   "execution_count": 92,
   "metadata": {},
   "outputs": [],
   "source": [
    "stw_df_s_filler = pd.DataFrame([[stw_prev_s, np.nan]], columns = s_columns)"
   ]
  },
  {
   "cell_type": "code",
   "execution_count": 93,
   "metadata": {},
   "outputs": [],
   "source": [
    "stw_df_s_filler.is_copy = False"
   ]
  },
  {
   "cell_type": "code",
   "execution_count": 94,
   "metadata": {},
   "outputs": [],
   "source": [
    "stw_df_s = pd.DataFrame( [], columns = s_columns)"
   ]
  },
  {
   "cell_type": "code",
   "execution_count": 95,
   "metadata": {},
   "outputs": [
    {
     "data": {
      "text/html": [
       "<div>\n",
       "<style scoped>\n",
       "    .dataframe tbody tr th:only-of-type {\n",
       "        vertical-align: middle;\n",
       "    }\n",
       "\n",
       "    .dataframe tbody tr th {\n",
       "        vertical-align: top;\n",
       "    }\n",
       "\n",
       "    .dataframe thead th {\n",
       "        text-align: right;\n",
       "    }\n",
       "</style>\n",
       "<table border=\"1\" class=\"dataframe\">\n",
       "  <thead>\n",
       "    <tr style=\"text-align: right;\">\n",
       "      <th></th>\n",
       "      <th>_time</th>\n",
       "      <th>_value</th>\n",
       "    </tr>\n",
       "  </thead>\n",
       "  <tbody>\n",
       "  </tbody>\n",
       "</table>\n",
       "</div>"
      ],
      "text/plain": [
       "Empty DataFrame\n",
       "Columns: [_time, _value]\n",
       "Index: []"
      ]
     },
     "execution_count": 95,
     "metadata": {},
     "output_type": "execute_result"
    }
   ],
   "source": [
    "stw_df_s"
   ]
  },
  {
   "cell_type": "code",
   "execution_count": 96,
   "metadata": {},
   "outputs": [],
   "source": [
    "stw_df_s.is_copy = False"
   ]
  },
  {
   "cell_type": "code",
   "execution_count": 97,
   "metadata": {},
   "outputs": [],
   "source": [
    "for index, row in stw_df_s_filled.iterrows():\n",
    "    # print(row['_time'], row['_value'])\n",
    "    if row['floored'] and not np.isnan(row['_value']):\n",
    "        stw_df_s_filler['_time'][0]   = row['_time']\n",
    "        stw_df_s_filler['_value'][0]  = row['_value']\n",
    "        stw_df_s = stw_df_s.append(stw_df_s_filler, True)"
   ]
  },
  {
   "cell_type": "code",
   "execution_count": 98,
   "metadata": {},
   "outputs": [
    {
     "name": "stdout",
     "output_type": "stream",
     "text": [
      "                         _time    _value\n",
      "0    2018-09-28 08:04:48+00:00  4.961812\n",
      "1    2018-09-28 08:04:49+00:00  4.969339\n",
      "2    2018-09-28 08:04:50+00:00  4.988014\n",
      "3    2018-09-28 08:04:51+00:00  5.005118\n",
      "4    2018-09-28 08:04:52+00:00  5.011495\n",
      "...                        ...       ...\n",
      "4577 2018-09-28 09:21:05+00:00  4.024819\n",
      "4578 2018-09-28 09:21:06+00:00  4.028925\n",
      "4579 2018-09-28 09:21:07+00:00  4.031996\n",
      "4580 2018-09-28 09:21:08+00:00  4.025957\n",
      "4581 2018-09-28 09:21:09+00:00  4.004042\n",
      "\n",
      "[4582 rows x 2 columns]\n"
     ]
    }
   ],
   "source": [
    "print(stw_df_s)"
   ]
  },
  {
   "cell_type": "markdown",
   "metadata": {},
   "source": [
    "Let's compare the original STW curve smoothened by InfluxDB v2.0 at our request at retrieval of the data and the cubic spline estimation of SciPy.signal on it data values, stripped from the original values from the database:"
   ]
  },
  {
   "cell_type": "code",
   "execution_count": 99,
   "metadata": {},
   "outputs": [
    {
     "data": {
      "image/png": "[encoded data removed]",
      "text/plain": [
       "<Figure size 432x288 with 1 Axes>"
      ]
     },
     "metadata": {
      "needs_background": "light"
     },
     "output_type": "display_data"
    }
   ],
   "source": [
    "axes = stw_df.plot(x='_time',y='_value', label='STW', color='grey', linewidth=5)\n",
    "stw_df_s.plot(ax=axes, x='_time',y='_value', label='cubic', color='red', linestyle='--')\n",
    "plt.ylabel('STW[kn]')\n",
    "plt.xlabel('time (UTC)')\n",
    "plt.legend()\n",
    "plt.show()"
   ]
  },
  {
   "cell_type": "markdown",
   "metadata": {},
   "source": [
    "This is pretty good! In fact, we do not need the originals anymore and we can compare the values with other values."
   ]
  },
  {
   "cell_type": "markdown",
   "metadata": {},
   "source": [
    "#### Make interpolation subroutine"
   ]
  },
  {
   "cell_type": "markdown",
   "metadata": {},
   "source": [
    "The below is an adaptation of the above study, _i.e._ not optimized for performance but good enough."
   ]
  },
  {
   "cell_type": "code",
   "execution_count": 100,
   "metadata": {},
   "outputs": [],
   "source": [
    "def interpolateEachSecond( df ) :\n",
    "    pd.options.mode.chained_assignment = None\n",
    "    df.is_copy = False\n",
    "    s_columns = ['_time','_value','floored']\n",
    "    cnv_prev_s = df['_time'][0].floor(freq='S')\n",
    "    cnv_df_s_filler = pd.DataFrame([[cnv_prev_s, np.nan, True]], columns = s_columns)\n",
    "    cnv_df_s_filler.is_copy = False\n",
    "    cnv_df_s_filled = pd.DataFrame( [[cnv_df_s_filler['_time'][0], \\\n",
    "                                      cnv_df_s_filler['_value'][0], \\\n",
    "                                    True]], columns = s_columns)\n",
    "    cnv_df_s_filled.is_copy = False\n",
    "    s_delta = pd.Timedelta(1,unit='seconds')\n",
    "    cnv_next_s = cnv_prev_s + s_delta\n",
    "    s_InjectMax = 0\n",
    "    for index, row in df.iterrows():\n",
    "        if row['_time'] >= cnv_prev_s:\n",
    "            cnv_prev_s_next = row['_time'].floor(freq='S')\n",
    "            now_Injecting = 0\n",
    "            while cnv_prev_s_next >= cnv_next_s:\n",
    "                cnv_df_s_filler['_time'][0]   = cnv_next_s\n",
    "                cnv_df_s_filler['_value'][0]  = np.nan\n",
    "                cnv_df_s_filler['floored'][0] = True\n",
    "                cnv_df_s_filled = cnv_df_s_filled.append(cnv_df_s_filler,True)\n",
    "                cnv_next_s = cnv_next_s + s_delta\n",
    "                now_Injecting = now_Injecting + 1\n",
    "            cnv_next_s = cnv_next_s - s_delta\n",
    "            if now_Injecting > s_InjectMax:\n",
    "                s_InjectMax = now_Injecting\n",
    "        cnv_df_s_filler['_time'][0]   = row['_time']\n",
    "        cnv_df_s_filler['_value'][0]  = row['_value']\n",
    "        cnv_df_s_filler['floored'][0] = False\n",
    "        cnv_df_s_filled = cnv_df_s_filled.append(cnv_df_s_filler, True)\n",
    "        cnv_next_s = cnv_next_s + s_delta\n",
    "    cnv_df_s_filled['_value'].interpolate(method='cubic', order=2, \\\n",
    "                                          inplace=True, limit_direction='both')\n",
    "    s_columns = ['_time','_value']\n",
    "    cnv_df_s_filler = pd.DataFrame([[cnv_prev_s, np.nan]], columns = s_columns)\n",
    "    cnv_df_s_filler.is_copy = False\n",
    "    cnv_df_s = pd.DataFrame( [], columns = s_columns)\n",
    "    cnv_df_s.is_copy = False\n",
    "    for index, row in cnv_df_s_filled.iterrows():\n",
    "        if row['floored'] and not np.isnan(row['_value']):\n",
    "            cnv_df_s_filler['_time'][0]   = row['_time']\n",
    "            cnv_df_s_filler['_value'][0]  = row['_value']\n",
    "            cnv_df_s = cnv_df_s.append(cnv_df_s_filler, True)\n",
    "    cnv_df_s_filled['_value'].interpolate(method='cubic', order=2, \\\n",
    "                                          inplace=True, limit_direction='both')\n",
    "    s_columns = ['_time','_value']\n",
    "    cnv_df_s_filler = pd.DataFrame([[cnv_prev_s, np.nan]], columns = s_columns)\n",
    "    cnv_df_s_filler.is_copy = False\n",
    "    cnv_df_s = pd.DataFrame( [], columns = s_columns)\n",
    "    cnv_df_s.is_copy = False\n",
    "    for index, row in cnv_df_s_filled.iterrows():\n",
    "        if row['floored'] and not np.isnan(row['_value']):\n",
    "            cnv_df_s_filler['_time'][0]   = row['_time']\n",
    "            cnv_df_s_filler['_value'][0]  = row['_value']\n",
    "            cnv_df_s = cnv_df_s.append(cnv_df_s_filler, True)\n",
    "    return cnv_df_s"
   ]
  },
  {
   "cell_type": "markdown",
   "metadata": {},
   "source": [
    "##### Test interpolation routine with STW"
   ]
  },
  {
   "cell_type": "code",
   "execution_count": 101,
   "metadata": {},
   "outputs": [],
   "source": [
    "test_df_s = interpolateEachSecond( stw_df )"
   ]
  },
  {
   "cell_type": "code",
   "execution_count": 102,
   "metadata": {},
   "outputs": [
    {
     "data": {
      "image/png": "[encoded data removed]",
      "text/plain": [
       "<Figure size 432x288 with 1 Axes>"
      ]
     },
     "metadata": {
      "needs_background": "light"
     },
     "output_type": "display_data"
    }
   ],
   "source": [
    "axes = stw_df.plot(x='_time',y='_value', label='STW', color='grey', linewidth=5)\n",
    "test_df_s.plot(ax=axes, x='_time',y='_value', label='cubic', color='blue', linestyle='--')\n",
    "plt.ylabel('STW[kn]')\n",
    "plt.xlabel('time (UTC)')\n",
    "plt.legend()\n",
    "plt.show()"
   ]
  },
  {
   "cell_type": "markdown",
   "metadata": {},
   "source": [
    "Looks alright! Now let's interpolate the TWA/TWS data as well:"
   ]
  },
  {
   "cell_type": "markdown",
   "metadata": {},
   "source": [
    "#### Interpolate TWS data"
   ]
  },
  {
   "cell_type": "code",
   "execution_count": 103,
   "metadata": {},
   "outputs": [],
   "source": [
    "tws_df_s = interpolateEachSecond( tws_df )"
   ]
  },
  {
   "cell_type": "code",
   "execution_count": 104,
   "metadata": {},
   "outputs": [
    {
     "data": {
      "image/png": "[encoded data removed]",
      "text/plain": [
       "<Figure size 432x288 with 1 Axes>"
      ]
     },
     "metadata": {
      "needs_background": "light"
     },
     "output_type": "display_data"
    }
   ],
   "source": [
    "axes = tws_df.plot(x='_time',y='_value', label='TWS', color='grey', linewidth=6)\n",
    "tws_df_s.plot(ax=axes, x='_time',y='_value', label='cubic', color='cyan', linewidth=1 )\n",
    "plt.ylabel('TWS[kn]')\n",
    "plt.xlabel('time (UTC)')\n",
    "plt.legend()\n",
    "plt.show()"
   ]
  },
  {
   "cell_type": "markdown",
   "metadata": {},
   "source": [
    "#### Interpolate TWA data"
   ]
  },
  {
   "cell_type": "code",
   "execution_count": 105,
   "metadata": {},
   "outputs": [],
   "source": [
    "twa_df_s = interpolateEachSecond( twa_df )"
   ]
  },
  {
   "cell_type": "code",
   "execution_count": 106,
   "metadata": {},
   "outputs": [
    {
     "data": {
      "image/png": "[encoded data removed]",
      "text/plain": [
       "<Figure size 432x288 with 1 Axes>"
      ]
     },
     "metadata": {
      "needs_background": "light"
     },
     "output_type": "display_data"
    }
   ],
   "source": [
    "axes = twa_df.plot(x='_time',y='_value', label='TWA', color='grey', linewidth=6)\n",
    "twa_df_s.plot(ax=axes, x='_time',y='_value', label='cubic', color='greenyellow', linewidth=1 )\n",
    "plt.ylabel('TWA[deg]')\n",
    "plt.xlabel('time (UTC)')\n",
    "plt.legend()\n",
    "plt.show()"
   ]
  },
  {
   "cell_type": "markdown",
   "metadata": {},
   "source": [
    "## Performance variation analysis"
   ]
  },
  {
   "cell_type": "markdown",
   "metadata": {},
   "source": [
    "In this example we are not going to make a full 360 degree circle observation area for wind angles since the range is smaller and we would not be able to use the entire real estate area. We probably will have many points to plot. From the above plots:"
   ]
  },
  {
   "cell_type": "code",
   "execution_count": 107,
   "metadata": {},
   "outputs": [],
   "source": [
    "twa_min_theta = 70\n",
    "twa_max_theta = 120"
   ]
  },
  {
   "cell_type": "code",
   "execution_count": 108,
   "metadata": {},
   "outputs": [],
   "source": [
    "twa_min_theta_rad = math.radians(twa_min_theta)\n",
    "twa_max_theta_rad = math.radians(twa_max_theta)"
   ]
  },
  {
   "cell_type": "markdown",
   "metadata": {},
   "source": [
    "Speed values we know, too:"
   ]
  },
  {
   "cell_type": "markdown",
   "metadata": {},
   "source": [
    "stw_min = 2.0\n",
    "stw_max = 6.0"
   ]
  },
  {
   "cell_type": "markdown",
   "metadata": {},
   "source": [
    "tws_min = 7/0\n",
    "tws_max = 12.0"
   ]
  },
  {
   "cell_type": "markdown",
   "metadata": {},
   "source": [
    "### Reference Polar Data"
   ]
  },
  {
   "cell_type": "markdown",
   "metadata": {},
   "source": [
    "Your boat's polar in CSV file (not .pol)"
   ]
  },
  {
   "cell_type": "code",
   "execution_count": 109,
   "metadata": {},
   "outputs": [],
   "source": [
    "pol_df = pd.read_csv(\"ref_polar.csv\", sep=',')"
   ]
  },
  {
   "cell_type": "markdown",
   "metadata": {},
   "source": [
    "#### Subroutine returning polar speed"
   ]
  },
  {
   "cell_type": "markdown",
   "metadata": {},
   "source": [
    "This routine `def getpolspeed( pol_df, twa, tws )` has been developed and discussed in [1_TWA_TWS_STW_from_InfluxDBv2_calc_perf.ipynb](1_TWA_TWS_STW_from_InfluxDBv2_calc_perf.ipynb). It expects and is using the provided example polar file where the TWA column has header `TWA/TWS` (mandatory, used in selecting that column) and all other columns the respective TWS values."
   ]
  },
  {
   "cell_type": "code",
   "execution_count": 110,
   "metadata": {},
   "outputs": [],
   "source": [
    "def getpolspeed( pol_df, twa, tws ) :\n",
    "    # print('twa: ', twa, 'tws: ', tws)\n",
    "    twa_coldf = pol_df['TWA/TWS']\n",
    "    lowertws_coldf = None\n",
    "    lowertws = None\n",
    "    uppertws_coldf = None\n",
    "    uppertws = None\n",
    "\n",
    "    for column_name, item in pol_df.iteritems():\n",
    "        try:\n",
    "            pol_tws = float(column_name)\n",
    "            # print( pol_tws )\n",
    "            if tws >= pol_tws :\n",
    "                lowertws_coldf = item\n",
    "                lowertws = pol_tws\n",
    "            else :\n",
    "                if pol_tws >= tws :\n",
    "                    uppertws_coldf = item\n",
    "                    uppertws = pol_tws\n",
    "                    break\n",
    "        except ValueError:\n",
    "                # float() failure on the first column TWA/TWS\n",
    "            \tcontinue\n",
    "\n",
    "    # print('lowertws: ', lowertws, ' type df: ', type(lowertws_coldf))\n",
    "    # print('uppertws: ', uppertws, ' type df: ', type(uppertws_coldf))\n",
    "\n",
    "    null_stw      = None\n",
    "    lowertwa      = None\n",
    "    uppertwa      = None\n",
    "    lwrtwa_lwrtws = null_stw\n",
    "    uprtwa_lwrtws = null_stw\n",
    "    lwrtwa_uprtws = null_stw\n",
    "    uprtwa_uprtws = null_stw\n",
    "    \n",
    "    for column_name, item in lowertws_coldf.iteritems():\n",
    "        pol_twa = float(twa_coldf[column_name])\n",
    "        # print( pol_twa )\n",
    "        if twa >= pol_twa :\n",
    "            lwrtwa_lwrtws = item\n",
    "            lowertwa = pol_twa;\n",
    "            # print('lowertwa: ', lowertwa, ' lwrtwa_lwrtws: ', lwrtwa_lwrtws)\n",
    "        else :\n",
    "            if pol_twa >= twa :\n",
    "                if type(uprtwa_lwrtws) is type(null_stw) :\n",
    "                    uprtwa_lwrtws = item\n",
    "                    uppertwa = pol_twa;\n",
    "                    # print('uppertwa: ', uppertwa, ' uprtwa_lwrtws: ', \\\n",
    "                    #       uprtwa_lwrtws)\n",
    "                    break\n",
    "\n",
    "    for column_name, item in uppertws_coldf.iteritems():\n",
    "        pol_twa = float(twa_coldf[column_name])\n",
    "        # print(pol_twa)\n",
    "        if twa >= pol_twa :\n",
    "            lwrtwa_uprtws = item\n",
    "            # print('lwrtwa_uprtws: ', lwrtwa_uprtws)\n",
    "        if pol_twa >= twa :\n",
    "            if type(uprtwa_uprtws) is type(null_stw) :\n",
    "                uprtwa_uprtws = item\n",
    "                # print('uprtwa_uprtws: ', uprtwa_uprtws)\n",
    "                break\n",
    "\n",
    "    # Here we have the \"square\" of values in which the extrapolated value is located:\n",
    "\n",
    "    # print('lowertws: ', lowertws)\n",
    "    # print('lowertwa: ', lowertwa)\n",
    "    # print('uppertws: ', uppertws)\n",
    "    # print('uppertwa: ', uppertwa)\n",
    "    # print('lwrtwa_lwrtws: ', lwrtwa_lwrtws)\n",
    "    # print('uprtwa_lwrtws: ', uprtwa_lwrtws)\n",
    "    # print('lwrtwa_uprtws: ', lwrtwa_uprtws)\n",
    "    # print('uprtwa_uprtws: ', uprtwa_uprtws)\n",
    "\n",
    "    # Consider the result being on a 3D plane with four corners, all inequal height.\n",
    "    # There will be a point on that plane, the height of which is the estimated\n",
    "    # polar speed for that point:\n",
    "\n",
    "    # lwrtwa_lwrtws (x)--+-------(x) lwrtwa_uprtws\n",
    "    #                |   |        |\n",
    "    #                |   |        |\n",
    "    #                +--(?)-------+\n",
    "    #                |   |        |\n",
    "    # uprtwa_lwrtws (x)--+-------(x) uprtwa_uprtws\n",
    "\n",
    "    # Taking upper left corner as origin, we will calculate the point's\n",
    "    # projected elevations.\n",
    "\n",
    "    # **NOTE**: We can have planes which are sliding down (negative elevations),\n",
    "    # especially when the wind speed is getting higher and the polar takes average\n",
    "    # of different sail sets.\n",
    "\n",
    "    lwrtwa_lwrtws_orig = 0.0\n",
    "    lwrtwa_uprtws_elev = lwrtwa_uprtws - lwrtwa_lwrtws\n",
    "    # print('lwrtwa_uprtws_elev: ', lwrtwa_uprtws_elev)\n",
    "    uprtwa_lwrtws_elev = uprtwa_lwrtws - lwrtwa_lwrtws\n",
    "    # print('uprtwa_lwrtws_elev: ', uprtwa_lwrtws_elev)\n",
    "    uprtwa_uprtws_elev = uprtwa_uprtws - lwrtwa_lwrtws\n",
    "    # print('uprtwa_uprtws_elev: ', uprtwa_uprtws_elev)\n",
    "\n",
    "    #                    0.0 (x)--+-------(x) 0.2 lwrtwa_uprtws_elev\n",
    "    #                         |   |        |\n",
    "    #                         |   |        |\n",
    "    #                         +--(?)-------+\n",
    "    #                         |   |        |\n",
    "    # uprtwa_lwrtws_elev 0.5 (x)--+-------(x) 0.8 uprtwa_uprtws_elev\n",
    "\n",
    "    tws_ratio = (test_tws - lowertws)/(uppertws - lowertws)\n",
    "    # print('tws_ratio: ', tws_ratio)\n",
    "\n",
    "    twa_ratio = (test_twa - lowertwa)/(uppertwa - lowertwa)\n",
    "    # print('twa_ratio: ', twa_ratio)\n",
    "\n",
    "    y_lwrtws = twa_ratio * uprtwa_lwrtws_elev\n",
    "    # print('y_lwrtws: ', y_lwrtws)\n",
    "\n",
    "    y_uprtws = lwrtwa_uprtws_elev + (twa_ratio * (uprtwa_uprtws_elev - lwrtwa_uprtws_elev))\n",
    "    # c('y_uprtws: ', y_uprtws)\n",
    "\n",
    "    x_lwrtws = tws_ratio * lwrtwa_uprtws_elev\n",
    "    # print('x_lwrtws: ', x_lwrtws)\n",
    "\n",
    "    x_uprtws = uprtwa_lwrtws_elev + (tws_ratio * (uprtwa_uprtws_elev - uprtwa_lwrtws_elev))\n",
    "    # print('x_uprtws: ', x_uprtws)\n",
    "\n",
    "    #                             0.09 x_lwrtws\n",
    "    #                    0.0 (x)--+-------(x) 0.2 lwrtwa_uprtws_elev\n",
    "    #                         |   |        |\n",
    "    #                         |   |        |\n",
    "    #           y_lwrtws 0.22 +--(?)-------+ 0.46 y_uprtws\n",
    "    #                         |   |        |\n",
    "    # uprtwa_lwrtws_elev 0.5 (x)--+-------(x) 0.8 uprtwa_uprtws_elev\n",
    "    #                             0.64 x_uprtws\n",
    "\n",
    "    ##### Result\n",
    "\n",
    "    x_res = x_lwrtws + (x_uprtws - x_lwrtws) * twa_ratio\n",
    "    # print('x_res: ', x_res)\n",
    "    # print('result: ', (lwrtwa_lwrtws + x_res))\n",
    "\n",
    "    ##### Verification\n",
    "\n",
    "    y_res = y_lwrtws + (y_uprtws - y_lwrtws) * tws_ratio\n",
    "    # print('y_res: ', y_res)\n",
    "    if round(y_res,2) != round(x_res,2) :\n",
    "        printf('WARNING: polar explaration function verification fails: ', x_res, y_res)\n",
    "\n",
    "    return round((lwrtwa_lwrtws + x_res),2)"
   ]
  },
  {
   "cell_type": "markdown",
   "metadata": {},
   "source": [
    "##### Test polar speed subroutine"
   ]
  },
  {
   "cell_type": "code",
   "execution_count": 111,
   "metadata": {},
   "outputs": [],
   "source": [
    "test_twa = 37.2\n",
    "test_tws = 10.9"
   ]
  },
  {
   "cell_type": "code",
   "execution_count": 112,
   "metadata": {},
   "outputs": [
    {
     "name": "stdout",
     "output_type": "stream",
     "text": [
      "test_pol_speed:  3.83\n"
     ]
    }
   ],
   "source": [
    "test_pol_speed = getpolspeed( pol_df, test_twa, test_tws )\n",
    "print('test_pol_speed: ', test_pol_speed)\n",
    "if round(test_pol_speed,2) != 3.83 :\n",
    "    print('getpolspeed test FAIL: was expecting 3.83 with the test polar file')"
   ]
  },
  {
   "cell_type": "code",
   "execution_count": 113,
   "metadata": {},
   "outputs": [],
   "source": [
    "test_twa = 60.24671838095237 \n",
    "test_tws = 6.030811476190476"
   ]
  },
  {
   "cell_type": "code",
   "execution_count": 114,
   "metadata": {},
   "outputs": [
    {
     "name": "stdout",
     "output_type": "stream",
     "text": [
      "test_pol_speed:  5.01\n"
     ]
    }
   ],
   "source": [
    "test_pol_speed = getpolspeed( pol_df, test_twa, test_tws )\n",
    "print('test_pol_speed: ', test_pol_speed)\n",
    "if round(test_pol_speed,2) != 5.01 :\n",
    "    print('getpolspeed test FAIL: was expecting 5.01 with the test polar file')"
   ]
  },
  {
   "cell_type": "markdown",
   "metadata": {},
   "source": [
    "### Determine time range"
   ]
  },
  {
   "cell_type": "markdown",
   "metadata": {},
   "source": [
    "Index the dataframes with the time (with one second interval now):"
   ]
  },
  {
   "cell_type": "code",
   "execution_count": 115,
   "metadata": {},
   "outputs": [],
   "source": [
    "tmin = stw_df_s.min()._time"
   ]
  },
  {
   "cell_type": "code",
   "execution_count": 116,
   "metadata": {},
   "outputs": [
    {
     "data": {
      "text/plain": [
       "Timestamp('2018-09-28 08:04:48+0000', tz='tzutc()')"
      ]
     },
     "execution_count": 116,
     "metadata": {},
     "output_type": "execute_result"
    }
   ],
   "source": [
    "tmin"
   ]
  },
  {
   "cell_type": "code",
   "execution_count": 117,
   "metadata": {},
   "outputs": [],
   "source": [
    "tmax = stw_df_s.max()._time"
   ]
  },
  {
   "cell_type": "code",
   "execution_count": 118,
   "metadata": {},
   "outputs": [
    {
     "data": {
      "text/plain": [
       "Timestamp('2018-09-28 09:21:09+0000', tz='tzutc()')"
      ]
     },
     "execution_count": 118,
     "metadata": {},
     "output_type": "execute_result"
    }
   ],
   "source": [
    "tmax"
   ]
  },
  {
   "cell_type": "code",
   "execution_count": 119,
   "metadata": {},
   "outputs": [],
   "source": [
    "stw_df_s.set_index('_time', inplace=True)"
   ]
  },
  {
   "cell_type": "code",
   "execution_count": 120,
   "metadata": {},
   "outputs": [],
   "source": [
    "tws_df_s.set_index('_time',inplace=True)"
   ]
  },
  {
   "cell_type": "code",
   "execution_count": 121,
   "metadata": {},
   "outputs": [],
   "source": [
    "twa_df_s.set_index('_time',inplace=True)"
   ]
  },
  {
   "cell_type": "markdown",
   "metadata": {},
   "source": [
    "### Combine data sets"
   ]
  },
  {
   "cell_type": "code",
   "execution_count": 122,
   "metadata": {},
   "outputs": [],
   "source": [
    "s_columns = ['_time','tws', 'twa', 'twar','stw','pols','perf','pdelta']"
   ]
  },
  {
   "cell_type": "code",
   "execution_count": 123,
   "metadata": {},
   "outputs": [],
   "source": [
    "com_df_s = pd.DataFrame(columns = s_columns, index=['_time'])"
   ]
  },
  {
   "cell_type": "code",
   "execution_count": 124,
   "metadata": {},
   "outputs": [],
   "source": [
    "com_df_s.is_copy = False"
   ]
  },
  {
   "cell_type": "code",
   "execution_count": 125,
   "metadata": {},
   "outputs": [
    {
     "data": {
      "text/html": [
       "<div>\n",
       "<style scoped>\n",
       "    .dataframe tbody tr th:only-of-type {\n",
       "        vertical-align: middle;\n",
       "    }\n",
       "\n",
       "    .dataframe tbody tr th {\n",
       "        vertical-align: top;\n",
       "    }\n",
       "\n",
       "    .dataframe thead th {\n",
       "        text-align: right;\n",
       "    }\n",
       "</style>\n",
       "<table border=\"1\" class=\"dataframe\">\n",
       "  <thead>\n",
       "    <tr style=\"text-align: right;\">\n",
       "      <th></th>\n",
       "      <th>_time</th>\n",
       "      <th>tws</th>\n",
       "      <th>twa</th>\n",
       "      <th>twar</th>\n",
       "      <th>stw</th>\n",
       "      <th>pols</th>\n",
       "      <th>perf</th>\n",
       "      <th>pdelta</th>\n",
       "    </tr>\n",
       "  </thead>\n",
       "  <tbody>\n",
       "    <tr>\n",
       "      <th>_time</th>\n",
       "      <td>NaN</td>\n",
       "      <td>NaN</td>\n",
       "      <td>NaN</td>\n",
       "      <td>NaN</td>\n",
       "      <td>NaN</td>\n",
       "      <td>NaN</td>\n",
       "      <td>NaN</td>\n",
       "      <td>NaN</td>\n",
       "    </tr>\n",
       "  </tbody>\n",
       "</table>\n",
       "</div>"
      ],
      "text/plain": [
       "      _time  tws  twa twar  stw pols perf pdelta\n",
       "_time   NaN  NaN  NaN  NaN  NaN  NaN  NaN    NaN"
      ]
     },
     "execution_count": 125,
     "metadata": {},
     "output_type": "execute_result"
    }
   ],
   "source": [
    "com_df_s"
   ]
  },
  {
   "cell_type": "code",
   "execution_count": 126,
   "metadata": {},
   "outputs": [],
   "source": [
    "sloopval = tmin"
   ]
  },
  {
   "cell_type": "code",
   "execution_count": 127,
   "metadata": {},
   "outputs": [
    {
     "data": {
      "text/plain": [
       "DatetimeIndex(['2018-09-28 08:04:48+00:00'], dtype='datetime64[ns, tzutc()]', name='_time', freq=None)"
      ]
     },
     "execution_count": 127,
     "metadata": {},
     "output_type": "execute_result"
    }
   ],
   "source": [
    "stw_df_s[stw_df_s.index == sloopval].index"
   ]
  },
  {
   "cell_type": "code",
   "execution_count": 128,
   "metadata": {},
   "outputs": [
    {
     "data": {
      "text/plain": [
       "4.961811858893803"
      ]
     },
     "execution_count": 128,
     "metadata": {},
     "output_type": "execute_result"
    }
   ],
   "source": [
    "stw_df_s[stw_df_s.index == sloopval]._value[0]"
   ]
  },
  {
   "cell_type": "code",
   "execution_count": 129,
   "metadata": {},
   "outputs": [],
   "source": [
    "s_delta = pd.Timedelta(1,unit='seconds')"
   ]
  },
  {
   "cell_type": "code",
   "execution_count": 130,
   "metadata": {},
   "outputs": [
    {
     "data": {
      "text/plain": [
       "Timedelta('0 days 00:00:01')"
      ]
     },
     "execution_count": 130,
     "metadata": {},
     "output_type": "execute_result"
    }
   ],
   "source": [
    "s_delta"
   ]
  },
  {
   "cell_type": "code",
   "execution_count": 131,
   "metadata": {},
   "outputs": [],
   "source": [
    "while sloopval <= tmax:\n",
    "    twa  = twa_df_s[twa_df_s.index == sloopval]._value[0]\n",
    "    twar = math.radians(twa)\n",
    "    tws  = tws_df_s[twa_df_s.index == sloopval]._value[0]\n",
    "    stw  = stw_df_s[stw_df_s.index == sloopval]._value[0]\n",
    "    pols = getpolspeed( pol_df, twa, tws )\n",
    "    perf = stw / pols * 100\n",
    "    pdelta = perf - 100\n",
    "    com_df_s.loc[len(com_df_s.index)] = [ sloopval, tws, twa, twar, \\\n",
    "                                         stw, pols, perf, pdelta ]\n",
    "    sloopval = sloopval + s_delta"
   ]
  },
  {
   "cell_type": "code",
   "execution_count": 132,
   "metadata": {},
   "outputs": [
    {
     "data": {
      "text/html": [
       "<div>\n",
       "<style scoped>\n",
       "    .dataframe tbody tr th:only-of-type {\n",
       "        vertical-align: middle;\n",
       "    }\n",
       "\n",
       "    .dataframe tbody tr th {\n",
       "        vertical-align: top;\n",
       "    }\n",
       "\n",
       "    .dataframe thead th {\n",
       "        text-align: right;\n",
       "    }\n",
       "</style>\n",
       "<table border=\"1\" class=\"dataframe\">\n",
       "  <thead>\n",
       "    <tr style=\"text-align: right;\">\n",
       "      <th></th>\n",
       "      <th>_time</th>\n",
       "      <th>tws</th>\n",
       "      <th>twa</th>\n",
       "      <th>twar</th>\n",
       "      <th>stw</th>\n",
       "      <th>pols</th>\n",
       "      <th>perf</th>\n",
       "      <th>pdelta</th>\n",
       "    </tr>\n",
       "  </thead>\n",
       "  <tbody>\n",
       "    <tr>\n",
       "      <th>1</th>\n",
       "      <td>2018-09-28 08:04:48+00:00</td>\n",
       "      <td>9.583894</td>\n",
       "      <td>87.618925</td>\n",
       "      <td>1.529239</td>\n",
       "      <td>4.961812</td>\n",
       "      <td>6.05</td>\n",
       "      <td>82.013419</td>\n",
       "      <td>-17.986581</td>\n",
       "    </tr>\n",
       "    <tr>\n",
       "      <th>2</th>\n",
       "      <td>2018-09-28 08:04:49+00:00</td>\n",
       "      <td>9.579724</td>\n",
       "      <td>87.582874</td>\n",
       "      <td>1.528610</td>\n",
       "      <td>4.969339</td>\n",
       "      <td>6.05</td>\n",
       "      <td>82.137833</td>\n",
       "      <td>-17.862167</td>\n",
       "    </tr>\n",
       "    <tr>\n",
       "      <th>3</th>\n",
       "      <td>2018-09-28 08:04:50+00:00</td>\n",
       "      <td>9.572282</td>\n",
       "      <td>87.662152</td>\n",
       "      <td>1.529993</td>\n",
       "      <td>4.988014</td>\n",
       "      <td>6.05</td>\n",
       "      <td>82.446514</td>\n",
       "      <td>-17.553486</td>\n",
       "    </tr>\n",
       "    <tr>\n",
       "      <th>4</th>\n",
       "      <td>2018-09-28 08:04:51+00:00</td>\n",
       "      <td>9.540858</td>\n",
       "      <td>87.889942</td>\n",
       "      <td>1.533969</td>\n",
       "      <td>5.005118</td>\n",
       "      <td>6.05</td>\n",
       "      <td>82.729227</td>\n",
       "      <td>-17.270773</td>\n",
       "    </tr>\n",
       "    <tr>\n",
       "      <th>5</th>\n",
       "      <td>2018-09-28 08:04:52+00:00</td>\n",
       "      <td>9.485614</td>\n",
       "      <td>87.802333</td>\n",
       "      <td>1.532440</td>\n",
       "      <td>5.011495</td>\n",
       "      <td>6.05</td>\n",
       "      <td>82.834636</td>\n",
       "      <td>-17.165364</td>\n",
       "    </tr>\n",
       "    <tr>\n",
       "      <th>...</th>\n",
       "      <td>...</td>\n",
       "      <td>...</td>\n",
       "      <td>...</td>\n",
       "      <td>...</td>\n",
       "      <td>...</td>\n",
       "      <td>...</td>\n",
       "      <td>...</td>\n",
       "      <td>...</td>\n",
       "    </tr>\n",
       "    <tr>\n",
       "      <th>4578</th>\n",
       "      <td>2018-09-28 09:21:05+00:00</td>\n",
       "      <td>9.173441</td>\n",
       "      <td>106.464346</td>\n",
       "      <td>1.858153</td>\n",
       "      <td>4.024819</td>\n",
       "      <td>4.24</td>\n",
       "      <td>94.924967</td>\n",
       "      <td>-5.075033</td>\n",
       "    </tr>\n",
       "    <tr>\n",
       "      <th>4579</th>\n",
       "      <td>2018-09-28 09:21:06+00:00</td>\n",
       "      <td>9.165927</td>\n",
       "      <td>106.475975</td>\n",
       "      <td>1.858356</td>\n",
       "      <td>4.028925</td>\n",
       "      <td>4.24</td>\n",
       "      <td>95.021821</td>\n",
       "      <td>-4.978179</td>\n",
       "    </tr>\n",
       "    <tr>\n",
       "      <th>4580</th>\n",
       "      <td>2018-09-28 09:21:07+00:00</td>\n",
       "      <td>9.146408</td>\n",
       "      <td>106.313460</td>\n",
       "      <td>1.855520</td>\n",
       "      <td>4.031996</td>\n",
       "      <td>4.24</td>\n",
       "      <td>95.094242</td>\n",
       "      <td>-4.905758</td>\n",
       "    </tr>\n",
       "    <tr>\n",
       "      <th>4581</th>\n",
       "      <td>2018-09-28 09:21:08+00:00</td>\n",
       "      <td>9.109228</td>\n",
       "      <td>105.922157</td>\n",
       "      <td>1.848690</td>\n",
       "      <td>4.025957</td>\n",
       "      <td>4.24</td>\n",
       "      <td>94.951814</td>\n",
       "      <td>-5.048186</td>\n",
       "    </tr>\n",
       "    <tr>\n",
       "      <th>4582</th>\n",
       "      <td>2018-09-28 09:21:09+00:00</td>\n",
       "      <td>9.055415</td>\n",
       "      <td>105.532552</td>\n",
       "      <td>1.841891</td>\n",
       "      <td>4.004042</td>\n",
       "      <td>4.24</td>\n",
       "      <td>94.434955</td>\n",
       "      <td>-5.565045</td>\n",
       "    </tr>\n",
       "  </tbody>\n",
       "</table>\n",
       "<p>4582 rows × 8 columns</p>\n",
       "</div>"
      ],
      "text/plain": [
       "                          _time       tws         twa      twar       stw  \\\n",
       "1     2018-09-28 08:04:48+00:00  9.583894   87.618925  1.529239  4.961812   \n",
       "2     2018-09-28 08:04:49+00:00  9.579724   87.582874  1.528610  4.969339   \n",
       "3     2018-09-28 08:04:50+00:00  9.572282   87.662152  1.529993  4.988014   \n",
       "4     2018-09-28 08:04:51+00:00  9.540858   87.889942  1.533969  5.005118   \n",
       "5     2018-09-28 08:04:52+00:00  9.485614   87.802333  1.532440  5.011495   \n",
       "...                         ...       ...         ...       ...       ...   \n",
       "4578  2018-09-28 09:21:05+00:00  9.173441  106.464346  1.858153  4.024819   \n",
       "4579  2018-09-28 09:21:06+00:00  9.165927  106.475975  1.858356  4.028925   \n",
       "4580  2018-09-28 09:21:07+00:00  9.146408  106.313460  1.855520  4.031996   \n",
       "4581  2018-09-28 09:21:08+00:00  9.109228  105.922157  1.848690  4.025957   \n",
       "4582  2018-09-28 09:21:09+00:00  9.055415  105.532552  1.841891  4.004042   \n",
       "\n",
       "      pols       perf     pdelta  \n",
       "1     6.05  82.013419 -17.986581  \n",
       "2     6.05  82.137833 -17.862167  \n",
       "3     6.05  82.446514 -17.553486  \n",
       "4     6.05  82.729227 -17.270773  \n",
       "5     6.05  82.834636 -17.165364  \n",
       "...    ...        ...        ...  \n",
       "4578  4.24  94.924967  -5.075033  \n",
       "4579  4.24  95.021821  -4.978179  \n",
       "4580  4.24  95.094242  -4.905758  \n",
       "4581  4.24  94.951814  -5.048186  \n",
       "4582  4.24  94.434955  -5.565045  \n",
       "\n",
       "[4582 rows x 8 columns]"
      ]
     },
     "execution_count": 132,
     "metadata": {},
     "output_type": "execute_result"
    }
   ],
   "source": [
    "com_df_s.dropna()"
   ]
  },
  {
   "cell_type": "markdown",
   "metadata": {},
   "source": [
    "Pivot table would be needed if we would continue with a pure matplotlib polar plot. I keep it here for the memory of many failed attempts to bring in similar informative layout than in below `seaborn` library plots!"
   ]
  },
  {
   "cell_type": "code",
   "execution_count": 133,
   "metadata": {},
   "outputs": [],
   "source": [
    "# com_df_s_t = pd.pivot_table(com_df_s, columns=['twar'], values=['pdelta'])\n",
    "# com_df_s_t"
   ]
  },
  {
   "cell_type": "markdown",
   "metadata": {},
   "source": [
    "### Analyze"
   ]
  },
  {
   "cell_type": "markdown",
   "metadata": {},
   "source": [
    "#### Scatter plot"
   ]
  },
  {
   "cell_type": "markdown",
   "metadata": {},
   "source": [
    "It is to be noted that we use here the very informative`seaborn` library, not directly `matplot` as above this line."
   ]
  },
  {
   "cell_type": "code",
   "execution_count": 134,
   "metadata": {},
   "outputs": [
    {
     "data": {
      "image/png": "[encoded data removed]",
      "text/plain": [
       "<Figure size 418.375x360 with 1 Axes>"
      ]
     },
     "metadata": {
      "needs_background": "light"
     },
     "output_type": "display_data"
    }
   ],
   "source": [
    "sns.relplot(x=\"twa\", y=\"pdelta\", hue=\"tws\", data=com_df_s);"
   ]
  },
  {
   "cell_type": "markdown",
   "metadata": {},
   "source": [
    "#### Polar scatter plot"
   ]
  },
  {
   "cell_type": "markdown",
   "metadata": {},
   "source": [
    "Polar plots in matplot are complicated since one needs to use numpy to build the polar in radians and scale the values alike. Life is easier with `seaborn`. Above, we have set (visually, from graphs) some zoom values to better use the real estate area of the plot: `twa_min_theta` and `twa_max_theta`."
   ]
  },
  {
   "cell_type": "code",
   "execution_count": 135,
   "metadata": {},
   "outputs": [
    {
     "data": {
      "image/png": "[encoded data removed]",
      "text/plain": [
       "<Figure size 418.375x360 with 1 Axes>"
      ]
     },
     "metadata": {
      "needs_background": "light"
     },
     "output_type": "display_data"
    }
   ],
   "source": [
    "fg = sns.FacetGrid(com_df_s, subplot_kws=dict(projection='polar'), height=5, \\\n",
    "                   sharex=False, sharey=False, despine=False, \\\n",
    "                   legend_out=True )\n",
    "fg.map_dataframe(sns.scatterplot, x='twar', y='pdelta', hue='tws')\n",
    "fg.add_legend()\n",
    "plt.gca().set_thetamin(twa_min_theta)\n",
    "plt.gca().set_thetamax(twa_max_theta)\n",
    "plt.gca().set_theta_zero_location(\"N\")\n",
    "plt.show()"
   ]
  },
  {
   "cell_type": "markdown",
   "metadata": {},
   "source": [
    "#### Interpretation"
   ]
  },
  {
   "cell_type": "markdown",
   "metadata": {},
   "source": [
    "From the above scatter distribution and comparing that to the timed plots of TWA/TWS we can conclude that we were not sailing very aggressively in the beginning when beating, there is no particular conclusion to make from that, it was just bad sailing... After the wind shift, we were awaken: the polar file and our performance against it are matching. On broad reach we did not do any particular change, just normal adjustments. However, the polar performance was augmented above the polar estimated. The polar, in this case could be pumped up in region of 100 - 120 degree and wind speed 8 - 12 knots by 15 or 20 percent."
   ]
  },
  {
   "cell_type": "markdown",
   "metadata": {},
   "source": [
    "## Conclusion"
   ]
  },
  {
   "cell_type": "markdown",
   "metadata": {},
   "source": [
    "We have demonstrated that regarding the database queries using Flux the overall efficiency of the process, including all the steps that will follow the query is better if the data parameters are requested individually and collected for processsing in individual 2D Pandas DataFrames with only timestamp and the value columns."
   ]
  },
  {
   "cell_type": "markdown",
   "metadata": {},
   "source": [
    "The paper points out that the data rows in Pandas DataFrames must be synchronized in time for reliably compare the values collected in long period of time but coming from instruments which are asynchronously collecting data without common clock and with undeterministic data rates."
   ]
  },
  {
   "cell_type": "markdown",
   "metadata": {},
   "source": [
    "We have defined a method implementing point interpolation in synchronized time tick using cubic spline function to align the collected data in one second interval."
   ]
  },
  {
   "cell_type": "markdown",
   "metadata": {},
   "source": [
    "Two methods of cubic spline function implementations were tested. The GEKKO library method for statistical calculations is promising since one can feed into it an the requested timestamps and it interpolates the values. Unfortunately, it is an on-line service which is doing the calculation remotely - by default - and the service failed to find a solution to the large number of points our data contains. It is possible to compile and install a local server but this was not tested."
   ]
  },
  {
   "cell_type": "markdown",
   "metadata": {},
   "source": [
    "Instead, the SciPy cubic spline function was used through standard functions of Pandas DataFrame. The method proved to be efficient and accurate."
   ]
  },
  {
   "cell_type": "markdown",
   "metadata": {},
   "source": [
    "The resulting, synchronized and re-composed 2D Pandas DataFrame was used by demonstrating the creation of scattered plots for performance data against the polar profile of the boat. For this, `seaborn` statistical plot library was used on top the `matplot` library."
   ]
  },
  {
   "cell_type": "markdown",
   "metadata": {},
   "source": [
    "It produces highly informative data plots, allowing us to come to the final conclusion: we were sailing pretty badly that day!"
   ]
  }
 ],
 "metadata": {
  "kernelspec": {
   "display_name": "Python 3",
   "language": "python",
   "name": "python3"
  },
  "language_info": {
   "codemirror_mode": {
    "name": "ipython",
    "version": 3
   },
   "file_extension": ".py",
   "mimetype": "text/x-python",
   "name": "python",
   "nbconvert_exporter": "python",
   "pygments_lexer": "ipython3",
   "version": "3.8.2"
  },
  "toc-autonumbering": true,
  "toc-showtags": false
 },
 "nbformat": 4,
 "nbformat_minor": 4
}
