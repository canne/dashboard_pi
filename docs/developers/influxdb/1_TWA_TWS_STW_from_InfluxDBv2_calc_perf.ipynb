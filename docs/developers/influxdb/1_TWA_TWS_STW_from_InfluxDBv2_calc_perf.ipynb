{
 "cells": [
  {
   "cell_type": "markdown",
   "metadata": {},
   "source": [
    "# Analyze DashT data off-line"
   ]
  },
  {
   "cell_type": "markdown",
   "metadata": {},
   "source": [
    "<img src=\"img/by-nc.png\" alt=\"Attribution 4.0 International (CC BY 4.0)\" width=\"100\"> [Attribution 4.0 International (CC BY 4.0)](https://creativecommons.org/licenses/by-nc/4.0/) 2021-07-10 by [canne](https://github.com/canne)"
   ]
  },
  {
   "cell_type": "markdown",
   "metadata": {},
   "source": [
    "The purpose of this tutorial is to give an insight how the data stored by [DashT, an OpenCPN chartplotter plug-in](https://dashboard-tactics-pi.readthedocs.io/) can be viewed and analyzed, outside the _DashT_, numerically, without using graphical analysis tools such as [InfluxDB](https://dashboard-tactics-pi.readthedocs.io/en/latest/influxdb/influxdb.html) or [Grafana](https://dashboard-tactics-pi.readthedocs.io/en/latest/influxdb/influxdb.html#Grafana)."
   ]
  },
  {
   "cell_type": "markdown",
   "metadata": {},
   "source": [
    "The simplified example is using [Python 3](https://www.python.org) with [Pandas DataFrame](https://pandas.pydata.org/docs/reference/api/pandas.DataFrame.html)."
   ]
  },
  {
   "cell_type": "markdown",
   "metadata": {},
   "source": [
    ">**JavaScript/TypeScript** is used by _DashT_ in its [Line Chart instrument](https://dashboard-tactics-pi.readthedocs.io/en/latest/linechart/linechart.html) in quite similar manner, please consult the source code available elsewhere in this repository. However, it can be more daunting for understanding..."
   ]
  },
  {
   "cell_type": "markdown",
   "metadata": {},
   "source": [
    "The example is introducing a small error in end results by not taking into account the exact timestamp of each retrieved sample but using indexing, for clarity's sake. The error and how to avoid it is explained in detail in the more complex paper [2_TWA_TWS_STW_from_InfluxDBv2_collect_data_for_polar.ipynb](2_TWA_TWS_STW_from_InfluxDBv2_collect_data_for_polar.ipynb). The error is insignificant in the short period of time, like in a regatta leg. "
   ]
  },
  {
   "cell_type": "markdown",
   "metadata": {},
   "source": [
    "## Retrieve TWA, TWS and STW from InfluxDB v2.0, estimate performance against polar"
   ]
  },
  {
   "cell_type": "markdown",
   "metadata": {},
   "source": [
    "In this example we analyze the data which has been collected in a past event into the InfluxDB v2.0 time series database using DashT database streamer."
   ]
  },
  {
   "cell_type": "markdown",
   "metadata": {},
   "source": [
    "We retrieve True Wind data for speed and angle (TWS and TWA) and speed through water data (STW) from the database during a period of interest."
   ]
  },
  {
   "cell_type": "markdown",
   "metadata": {},
   "source": [
    "We compare the STW value for the optimal polar performance value, provided by a local CSV file. For this purpose we develop a function which return extrapolated polar speed value for given TWS and TWA value."
   ]
  },
  {
   "cell_type": "markdown",
   "metadata": {},
   "source": [
    "Finally, we plot the polar performance percentage during the period of interest."
   ]
  },
  {
   "cell_type": "markdown",
   "metadata": {},
   "source": [
    "This example is executed on the data still on my computer, collected during a training session. DashT InfluxDB output streamer was registering all activated instruments into InfluxDB v2.0."
   ]
  },
  {
   "cell_type": "markdown",
   "metadata": {},
   "source": [
    "I have previously visualized the data on InfluxDB v2.0 web interface explorer and determined that the efficient sail time with a search for performance was from 2021-05-15T11:54:21Z to 2021-05-15T19:30:00Z :"
   ]
  },
  {
   "cell_type": "markdown",
   "metadata": {},
   "source": [
    ">It is good idea to record, while sailing the interesting time period. If you did not remember to it, you can use the InfluxDB's data explorer to find a suitable timeframe region of interest. In this example the Flux query to visualize the TWS data built (you do not have to type it) with InfluxDB 2.0 data explorer user interface is:\n",
    "```\n",
    "from(bucket: \"nmea\")\n",
    "  |> range(start: 2021-05-15T17:30:00Z, stop: 2021-05-15T17:40:00Z)\n",
    "  |> filter(fn: (r) => r[\"_measurement\"] == \"environment\")\n",
    "  |> filter(fn: (r) => r[\"_field\"] == \"wind\")\n",
    "  |> filter(fn: (r) => r[\"prop1\"] == \"speedTrueGround\")\n",
    "  |> filter(fn: (r) => r[\"prop2\"] == \"tws\")\n",
    "  |> aggregateWindow(every: 30s, fn: mean, createEmpty: false)\n",
    "  |> yield(name: \"mean\")\n",
    "```"
   ]
  },
  {
   "cell_type": "markdown",
   "metadata": {},
   "source": [
    "<img src=\"img/s_1_tws_30s_mean.png\"\n",
    "alt=\"InfluxDB showing 30s mean\" width=\"500\">[(zoom)](img/1_tws_30s_mean.png)"
   ]
  },
  {
   "cell_type": "markdown",
   "metadata": {},
   "source": [
    "Here we use simple https://github.com/influxdata/influxdb-client-python#queries method :"
   ]
  },
  {
   "cell_type": "markdown",
   "metadata": {},
   "source": [
    "## Python example"
   ]
  },
  {
   "cell_type": "markdown",
   "metadata": {},
   "source": [
    "This example is executed with Jupyter 2.2.8 and thus with Python 3, making connection to the InfluxDB v2.0 server where the above data is located."
   ]
  },
  {
   "cell_type": "markdown",
   "metadata": {},
   "source": [
    "When opened on an external data retrieval system, this .ipynb file would not execute but shows only the code:\n",
    "* There is a PDF-printout of a run of code, with the plots: [1_TWA_TWS_STW_from_InfluxDBv2_calc_perf.pdf](1_TWA_TWS_STW_from_InfluxDBv2_calc_perf.pdf)\n",
    "* A self-contained HTML-page with table of contents inside [1_TWA_TWS_STW_from_InfluxDBv2_calc_perf.zip](1_TWA_TWS_STW_from_InfluxDBv2_calc_perf.zip)\n",
    "* The Python code does not require Jupyter - it is used for development and documentation purposes"
   ]
  },
  {
   "cell_type": "code",
   "execution_count": 1,
   "metadata": {},
   "outputs": [],
   "source": [
    "import os\n",
    "import sys\n",
    "\n",
    "sys.path.insert(0, os.path.abspath('../'))"
   ]
  },
  {
   "cell_type": "markdown",
   "metadata": {},
   "source": [
    "### Python tools"
   ]
  },
  {
   "cell_type": "markdown",
   "metadata": {},
   "source": [
    "Needed to install:\n",
    "```\n",
    "pip install influxdb_client\n",
    "pip install matplotlib\n",
    "pip install numpy\n",
    "```"
   ]
  },
  {
   "cell_type": "code",
   "execution_count": 2,
   "metadata": {},
   "outputs": [],
   "source": [
    "import matplotlib.pyplot as plt\n",
    "import pandas as pd\n",
    "import numpy as np"
   ]
  },
  {
   "cell_type": "markdown",
   "metadata": {},
   "source": [
    "### InfluxDB Client API"
   ]
  },
  {
   "cell_type": "code",
   "execution_count": 3,
   "metadata": {},
   "outputs": [],
   "source": [
    "from influxdb_client import InfluxDBClient, Point, Dialect\n",
    "from influxdb_client.client.write_api import SYNCHRONOUS"
   ]
  },
  {
   "cell_type": "markdown",
   "metadata": {},
   "source": [
    "### From DashT InfluxDB Out streamer settings"
   ]
  },
  {
   "cell_type": "code",
   "execution_count": 4,
   "metadata": {},
   "outputs": [],
   "source": [
    "client = InfluxDBClient(url='http://127.0.0.1:9999', token='xzB3..ow==', org='myboat')"
   ]
  },
  {
   "cell_type": "markdown",
   "metadata": {},
   "source": [
    "### Data range and aggregation"
   ]
  },
  {
   "cell_type": "code",
   "execution_count": 5,
   "metadata": {},
   "outputs": [],
   "source": [
    "# start_time = '2021-05-15T17:30:00Z'\n",
    "# stop_time = '2021-05-15T17:40:00Z'\n",
    "start_time = '2021-05-15T11:54:21Z'\n",
    "stop_time = '2021-05-15T19:30:00Z'\n",
    "aggregate_window = '10s'\n",
    "aggregate_function = 'mean'"
   ]
  },
  {
   "cell_type": "code",
   "execution_count": 6,
   "metadata": {},
   "outputs": [],
   "source": [
    "query_api = client.query_api()"
   ]
  },
  {
   "cell_type": "markdown",
   "metadata": {},
   "source": [
    "#### True Wind Speed Data"
   ]
  },
  {
   "cell_type": "code",
   "execution_count": 7,
   "metadata": {},
   "outputs": [],
   "source": [
    "tws_flux = '''\n",
    "    from(bucket: \"nmea\")\n",
    "        |> range\n",
    "''' +   '(start: ' + start_time + ', stop: ' + stop_time + ')' + '''\n",
    "        |> filter(fn: (r) => r[\"_measurement\"] == \"environment\")\n",
    "        |> filter(fn: (r) => r[\"_field\"] == \"wind\")\n",
    "        |> filter(fn: (r) => r[\"prop1\"] == \"speedTrueGround\")\n",
    "        |> filter(fn: (r) => r[\"prop2\"] == \"tws\")\n",
    "        |> keep(columns: [\"_time\", \"_value\"])\n",
    "        |> aggregateWindow(every: \n",
    "''' +     aggregate_window + ', fn: ' + aggregate_function + ','  + '''\n",
    "           createEmpty: false)\n",
    "'''"
   ]
  },
  {
   "cell_type": "markdown",
   "metadata": {},
   "source": [
    "Record format query"
   ]
  },
  {
   "cell_type": "code",
   "execution_count": 8,
   "metadata": {},
   "outputs": [],
   "source": [
    "# tws_flux"
   ]
  },
  {
   "cell_type": "code",
   "execution_count": 9,
   "metadata": {},
   "outputs": [],
   "source": [
    "# records = query_api.query_stream( tws_flux )"
   ]
  },
  {
   "cell_type": "code",
   "execution_count": 10,
   "metadata": {},
   "outputs": [],
   "source": [
    "# for record in records:\n",
    "#    print(f'TWS in {record[\"_time\"]} is {record[\"_value\"]}')"
   ]
  },
  {
   "cell_type": "markdown",
   "metadata": {},
   "source": [
    "Panda DataFrame"
   ]
  },
  {
   "cell_type": "code",
   "execution_count": 11,
   "metadata": {},
   "outputs": [],
   "source": [
    "tws_df = query_api.query_data_frame( tws_flux )"
   ]
  },
  {
   "cell_type": "code",
   "execution_count": 12,
   "metadata": {},
   "outputs": [
    {
     "data": {
      "text/html": [
       "<div>\n",
       "<style scoped>\n",
       "    .dataframe tbody tr th:only-of-type {\n",
       "        vertical-align: middle;\n",
       "    }\n",
       "\n",
       "    .dataframe tbody tr th {\n",
       "        vertical-align: top;\n",
       "    }\n",
       "\n",
       "    .dataframe thead th {\n",
       "        text-align: right;\n",
       "    }\n",
       "</style>\n",
       "<table border=\"1\" class=\"dataframe\">\n",
       "  <thead>\n",
       "    <tr style=\"text-align: right;\">\n",
       "      <th></th>\n",
       "      <th>result</th>\n",
       "      <th>table</th>\n",
       "      <th>_start</th>\n",
       "      <th>_stop</th>\n",
       "      <th>_value</th>\n",
       "      <th>_time</th>\n",
       "    </tr>\n",
       "  </thead>\n",
       "  <tbody>\n",
       "    <tr>\n",
       "      <th>0</th>\n",
       "      <td>_result</td>\n",
       "      <td>0</td>\n",
       "      <td>2021-05-15 11:54:21+00:00</td>\n",
       "      <td>2021-05-15 19:30:00+00:00</td>\n",
       "      <td>6.451623</td>\n",
       "      <td>2021-05-15 11:54:30+00:00</td>\n",
       "    </tr>\n",
       "    <tr>\n",
       "      <th>1</th>\n",
       "      <td>_result</td>\n",
       "      <td>0</td>\n",
       "      <td>2021-05-15 11:54:21+00:00</td>\n",
       "      <td>2021-05-15 19:30:00+00:00</td>\n",
       "      <td>6.573691</td>\n",
       "      <td>2021-05-15 11:54:40+00:00</td>\n",
       "    </tr>\n",
       "    <tr>\n",
       "      <th>2</th>\n",
       "      <td>_result</td>\n",
       "      <td>0</td>\n",
       "      <td>2021-05-15 11:54:21+00:00</td>\n",
       "      <td>2021-05-15 19:30:00+00:00</td>\n",
       "      <td>6.382371</td>\n",
       "      <td>2021-05-15 11:54:50+00:00</td>\n",
       "    </tr>\n",
       "    <tr>\n",
       "      <th>3</th>\n",
       "      <td>_result</td>\n",
       "      <td>0</td>\n",
       "      <td>2021-05-15 11:54:21+00:00</td>\n",
       "      <td>2021-05-15 19:30:00+00:00</td>\n",
       "      <td>6.291570</td>\n",
       "      <td>2021-05-15 11:55:00+00:00</td>\n",
       "    </tr>\n",
       "    <tr>\n",
       "      <th>4</th>\n",
       "      <td>_result</td>\n",
       "      <td>0</td>\n",
       "      <td>2021-05-15 11:54:21+00:00</td>\n",
       "      <td>2021-05-15 19:30:00+00:00</td>\n",
       "      <td>7.098524</td>\n",
       "      <td>2021-05-15 11:55:10+00:00</td>\n",
       "    </tr>\n",
       "  </tbody>\n",
       "</table>\n",
       "</div>"
      ],
      "text/plain": [
       "    result table                    _start                     _stop  \\\n",
       "0  _result     0 2021-05-15 11:54:21+00:00 2021-05-15 19:30:00+00:00   \n",
       "1  _result     0 2021-05-15 11:54:21+00:00 2021-05-15 19:30:00+00:00   \n",
       "2  _result     0 2021-05-15 11:54:21+00:00 2021-05-15 19:30:00+00:00   \n",
       "3  _result     0 2021-05-15 11:54:21+00:00 2021-05-15 19:30:00+00:00   \n",
       "4  _result     0 2021-05-15 11:54:21+00:00 2021-05-15 19:30:00+00:00   \n",
       "\n",
       "     _value                     _time  \n",
       "0  6.451623 2021-05-15 11:54:30+00:00  \n",
       "1  6.573691 2021-05-15 11:54:40+00:00  \n",
       "2  6.382371 2021-05-15 11:54:50+00:00  \n",
       "3  6.291570 2021-05-15 11:55:00+00:00  \n",
       "4  7.098524 2021-05-15 11:55:10+00:00  "
      ]
     },
     "execution_count": 12,
     "metadata": {},
     "output_type": "execute_result"
    }
   ],
   "source": [
    "tws_df.head()"
   ]
  },
  {
   "cell_type": "code",
   "execution_count": 13,
   "metadata": {},
   "outputs": [
    {
     "data": {
      "image/png": "[encoded data removed]",
      "text/plain": [
       "<Figure size 432x288 with 1 Axes>"
      ]
     },
     "metadata": {
      "needs_background": "light"
     },
     "output_type": "display_data"
    }
   ],
   "source": [
    "tws_df.plot(x='_time',y='_value', label='TWS')\n",
    "plt.ylabel('TWS[kn]')\n",
    "plt.xlabel('time (UTC)')\n",
    "plt.legend()\n",
    "plt.show()"
   ]
  },
  {
   "cell_type": "markdown",
   "metadata": {},
   "source": [
    "### True Wind Angle Data"
   ]
  },
  {
   "cell_type": "code",
   "execution_count": 14,
   "metadata": {},
   "outputs": [],
   "source": [
    "twa_flux = '''\n",
    "    from(bucket: \"nmea\")\n",
    "        |> range\n",
    "''' +   '(start: ' + start_time + ', stop: ' + stop_time + ')' + '''\n",
    "        |> filter(fn: (r) => r[\"_measurement\"] == \"environment\")\n",
    "        |> filter(fn: (r) => r[\"_field\"] == \"wind\")\n",
    "        |> filter(fn: (r) => r[\"prop1\"] == \"angleTrue\")\n",
    "        |> keep(columns: [\"_time\", \"_value\"])\n",
    "        |> aggregateWindow(every: \n",
    "''' +     aggregate_window + ', fn: ' + aggregate_function + ','  + '''\n",
    "           createEmpty: false)\n",
    "'''"
   ]
  },
  {
   "cell_type": "code",
   "execution_count": 15,
   "metadata": {},
   "outputs": [],
   "source": [
    "twa_df = query_api.query_data_frame( twa_flux )"
   ]
  },
  {
   "cell_type": "code",
   "execution_count": 16,
   "metadata": {},
   "outputs": [
    {
     "data": {
      "text/html": [
       "<div>\n",
       "<style scoped>\n",
       "    .dataframe tbody tr th:only-of-type {\n",
       "        vertical-align: middle;\n",
       "    }\n",
       "\n",
       "    .dataframe tbody tr th {\n",
       "        vertical-align: top;\n",
       "    }\n",
       "\n",
       "    .dataframe thead th {\n",
       "        text-align: right;\n",
       "    }\n",
       "</style>\n",
       "<table border=\"1\" class=\"dataframe\">\n",
       "  <thead>\n",
       "    <tr style=\"text-align: right;\">\n",
       "      <th></th>\n",
       "      <th>result</th>\n",
       "      <th>table</th>\n",
       "      <th>_start</th>\n",
       "      <th>_stop</th>\n",
       "      <th>_value</th>\n",
       "      <th>_time</th>\n",
       "    </tr>\n",
       "  </thead>\n",
       "  <tbody>\n",
       "    <tr>\n",
       "      <th>0</th>\n",
       "      <td>_result</td>\n",
       "      <td>0</td>\n",
       "      <td>2021-05-15 11:54:21+00:00</td>\n",
       "      <td>2021-05-15 19:30:00+00:00</td>\n",
       "      <td>5.576830</td>\n",
       "      <td>2021-05-15 11:54:30+00:00</td>\n",
       "    </tr>\n",
       "    <tr>\n",
       "      <th>1</th>\n",
       "      <td>_result</td>\n",
       "      <td>0</td>\n",
       "      <td>2021-05-15 11:54:21+00:00</td>\n",
       "      <td>2021-05-15 19:30:00+00:00</td>\n",
       "      <td>5.622653</td>\n",
       "      <td>2021-05-15 11:54:40+00:00</td>\n",
       "    </tr>\n",
       "    <tr>\n",
       "      <th>2</th>\n",
       "      <td>_result</td>\n",
       "      <td>0</td>\n",
       "      <td>2021-05-15 11:54:21+00:00</td>\n",
       "      <td>2021-05-15 19:30:00+00:00</td>\n",
       "      <td>6.231672</td>\n",
       "      <td>2021-05-15 11:54:50+00:00</td>\n",
       "    </tr>\n",
       "    <tr>\n",
       "      <th>3</th>\n",
       "      <td>_result</td>\n",
       "      <td>0</td>\n",
       "      <td>2021-05-15 11:54:21+00:00</td>\n",
       "      <td>2021-05-15 19:30:00+00:00</td>\n",
       "      <td>5.942707</td>\n",
       "      <td>2021-05-15 11:55:00+00:00</td>\n",
       "    </tr>\n",
       "    <tr>\n",
       "      <th>4</th>\n",
       "      <td>_result</td>\n",
       "      <td>0</td>\n",
       "      <td>2021-05-15 11:54:21+00:00</td>\n",
       "      <td>2021-05-15 19:30:00+00:00</td>\n",
       "      <td>9.956448</td>\n",
       "      <td>2021-05-15 11:55:10+00:00</td>\n",
       "    </tr>\n",
       "  </tbody>\n",
       "</table>\n",
       "</div>"
      ],
      "text/plain": [
       "    result table                    _start                     _stop  \\\n",
       "0  _result     0 2021-05-15 11:54:21+00:00 2021-05-15 19:30:00+00:00   \n",
       "1  _result     0 2021-05-15 11:54:21+00:00 2021-05-15 19:30:00+00:00   \n",
       "2  _result     0 2021-05-15 11:54:21+00:00 2021-05-15 19:30:00+00:00   \n",
       "3  _result     0 2021-05-15 11:54:21+00:00 2021-05-15 19:30:00+00:00   \n",
       "4  _result     0 2021-05-15 11:54:21+00:00 2021-05-15 19:30:00+00:00   \n",
       "\n",
       "     _value                     _time  \n",
       "0  5.576830 2021-05-15 11:54:30+00:00  \n",
       "1  5.622653 2021-05-15 11:54:40+00:00  \n",
       "2  6.231672 2021-05-15 11:54:50+00:00  \n",
       "3  5.942707 2021-05-15 11:55:00+00:00  \n",
       "4  9.956448 2021-05-15 11:55:10+00:00  "
      ]
     },
     "execution_count": 16,
     "metadata": {},
     "output_type": "execute_result"
    }
   ],
   "source": [
    "twa_df.head()"
   ]
  },
  {
   "cell_type": "code",
   "execution_count": 17,
   "metadata": {},
   "outputs": [
    {
     "data": {
      "image/png": "[encoded data removed]",
      "text/plain": [
       "<Figure size 432x288 with 1 Axes>"
      ]
     },
     "metadata": {
      "needs_background": "light"
     },
     "output_type": "display_data"
    }
   ],
   "source": [
    "twa_df.plot(x='_time',y='_value', label='TWA')\n",
    "plt.ylabel('TWA[deg]')\n",
    "plt.xlabel('time (UTC)')\n",
    "plt.legend()\n",
    "plt.show()"
   ]
  },
  {
   "cell_type": "markdown",
   "metadata": {},
   "source": [
    "### Speed Through Water Data"
   ]
  },
  {
   "cell_type": "code",
   "execution_count": 18,
   "metadata": {},
   "outputs": [],
   "source": [
    "stw_flux = '''\n",
    "    from(bucket: \"nmea\")\n",
    "        |> range\n",
    "''' +   '(start: ' + start_time + ', stop: ' + stop_time + ')' + '''\n",
    "        |> filter(fn: (r) => r[\"_measurement\"] == \"navigation\")\n",
    "        |> filter(fn: (r) => r[\"_field\"] == \"speedThroughWater\")\n",
    "        |> keep(columns: [\"_time\", \"_value\"])\n",
    "        |> aggregateWindow(every: \n",
    "''' +     aggregate_window + ', fn: ' + aggregate_function + ','  + '''\n",
    "           createEmpty: false)\n",
    "'''"
   ]
  },
  {
   "cell_type": "code",
   "execution_count": 19,
   "metadata": {},
   "outputs": [],
   "source": [
    "stw_df = query_api.query_data_frame( stw_flux )"
   ]
  },
  {
   "cell_type": "code",
   "execution_count": 20,
   "metadata": {},
   "outputs": [
    {
     "data": {
      "text/html": [
       "<div>\n",
       "<style scoped>\n",
       "    .dataframe tbody tr th:only-of-type {\n",
       "        vertical-align: middle;\n",
       "    }\n",
       "\n",
       "    .dataframe tbody tr th {\n",
       "        vertical-align: top;\n",
       "    }\n",
       "\n",
       "    .dataframe thead th {\n",
       "        text-align: right;\n",
       "    }\n",
       "</style>\n",
       "<table border=\"1\" class=\"dataframe\">\n",
       "  <thead>\n",
       "    <tr style=\"text-align: right;\">\n",
       "      <th></th>\n",
       "      <th>result</th>\n",
       "      <th>table</th>\n",
       "      <th>_start</th>\n",
       "      <th>_stop</th>\n",
       "      <th>_value</th>\n",
       "      <th>_time</th>\n",
       "    </tr>\n",
       "  </thead>\n",
       "  <tbody>\n",
       "    <tr>\n",
       "      <th>0</th>\n",
       "      <td>_result</td>\n",
       "      <td>0</td>\n",
       "      <td>2021-05-15 11:54:21+00:00</td>\n",
       "      <td>2021-05-15 19:30:00+00:00</td>\n",
       "      <td>2.410000</td>\n",
       "      <td>2021-05-15 11:54:30+00:00</td>\n",
       "    </tr>\n",
       "    <tr>\n",
       "      <th>1</th>\n",
       "      <td>_result</td>\n",
       "      <td>0</td>\n",
       "      <td>2021-05-15 11:54:21+00:00</td>\n",
       "      <td>2021-05-15 19:30:00+00:00</td>\n",
       "      <td>2.370000</td>\n",
       "      <td>2021-05-15 11:54:40+00:00</td>\n",
       "    </tr>\n",
       "    <tr>\n",
       "      <th>2</th>\n",
       "      <td>_result</td>\n",
       "      <td>0</td>\n",
       "      <td>2021-05-15 11:54:21+00:00</td>\n",
       "      <td>2021-05-15 19:30:00+00:00</td>\n",
       "      <td>2.512857</td>\n",
       "      <td>2021-05-15 11:54:50+00:00</td>\n",
       "    </tr>\n",
       "    <tr>\n",
       "      <th>3</th>\n",
       "      <td>_result</td>\n",
       "      <td>0</td>\n",
       "      <td>2021-05-15 11:54:21+00:00</td>\n",
       "      <td>2021-05-15 19:30:00+00:00</td>\n",
       "      <td>2.254286</td>\n",
       "      <td>2021-05-15 11:55:00+00:00</td>\n",
       "    </tr>\n",
       "    <tr>\n",
       "      <th>4</th>\n",
       "      <td>_result</td>\n",
       "      <td>0</td>\n",
       "      <td>2021-05-15 11:54:21+00:00</td>\n",
       "      <td>2021-05-15 19:30:00+00:00</td>\n",
       "      <td>2.211667</td>\n",
       "      <td>2021-05-15 11:55:10+00:00</td>\n",
       "    </tr>\n",
       "  </tbody>\n",
       "</table>\n",
       "</div>"
      ],
      "text/plain": [
       "    result table                    _start                     _stop  \\\n",
       "0  _result     0 2021-05-15 11:54:21+00:00 2021-05-15 19:30:00+00:00   \n",
       "1  _result     0 2021-05-15 11:54:21+00:00 2021-05-15 19:30:00+00:00   \n",
       "2  _result     0 2021-05-15 11:54:21+00:00 2021-05-15 19:30:00+00:00   \n",
       "3  _result     0 2021-05-15 11:54:21+00:00 2021-05-15 19:30:00+00:00   \n",
       "4  _result     0 2021-05-15 11:54:21+00:00 2021-05-15 19:30:00+00:00   \n",
       "\n",
       "     _value                     _time  \n",
       "0  2.410000 2021-05-15 11:54:30+00:00  \n",
       "1  2.370000 2021-05-15 11:54:40+00:00  \n",
       "2  2.512857 2021-05-15 11:54:50+00:00  \n",
       "3  2.254286 2021-05-15 11:55:00+00:00  \n",
       "4  2.211667 2021-05-15 11:55:10+00:00  "
      ]
     },
     "execution_count": 20,
     "metadata": {},
     "output_type": "execute_result"
    }
   ],
   "source": [
    "stw_df.head()"
   ]
  },
  {
   "cell_type": "code",
   "execution_count": 21,
   "metadata": {},
   "outputs": [
    {
     "data": {
      "image/png": "[encoded data removed]",
      "text/plain": [
       "<Figure size 432x288 with 1 Axes>"
      ]
     },
     "metadata": {
      "needs_background": "light"
     },
     "output_type": "display_data"
    }
   ],
   "source": [
    "stw_df.plot(x='_time',y='_value', label='STW')\n",
    "plt.ylabel('STW[kn]')\n",
    "plt.xlabel('time (UTC)')\n",
    "plt.legend()\n",
    "plt.show()"
   ]
  },
  {
   "cell_type": "markdown",
   "metadata": {},
   "source": [
    "##### Close database streaming connection"
   ]
  },
  {
   "cell_type": "code",
   "execution_count": 22,
   "metadata": {},
   "outputs": [],
   "source": [
    "client.close()"
   ]
  },
  {
   "cell_type": "markdown",
   "metadata": {},
   "source": [
    "### Reference Polar Data"
   ]
  },
  {
   "cell_type": "markdown",
   "metadata": {},
   "source": [
    "Your boat's polar in CSV file (not .pol)"
   ]
  },
  {
   "cell_type": "code",
   "execution_count": 23,
   "metadata": {},
   "outputs": [],
   "source": [
    "pol_df = pd.read_csv(\"ref_polar.csv\", sep=',')"
   ]
  },
  {
   "cell_type": "markdown",
   "metadata": {},
   "source": [
    "#### Inspecting Polar DataFrame"
   ]
  },
  {
   "cell_type": "markdown",
   "metadata": {},
   "source": [
    ">**NOTE**: it is a good idea to look how the Panda DataFrame is indexed now: we need to be able to find a label for the column of TWA values. In our example it is `TWA/TWS` while it can be as well something else, like `0` (for 0 kn Wind Speed...) - there is no real standard for this. The example is coming out from Adrena navigation software. You can skip this study once you know your polar file resulting index key."
   ]
  },
  {
   "cell_type": "code",
   "execution_count": 24,
   "metadata": {},
   "outputs": [
    {
     "data": {
      "text/html": [
       "<div>\n",
       "<style scoped>\n",
       "    .dataframe tbody tr th:only-of-type {\n",
       "        vertical-align: middle;\n",
       "    }\n",
       "\n",
       "    .dataframe tbody tr th {\n",
       "        vertical-align: top;\n",
       "    }\n",
       "\n",
       "    .dataframe thead th {\n",
       "        text-align: right;\n",
       "    }\n",
       "</style>\n",
       "<table border=\"1\" class=\"dataframe\">\n",
       "  <thead>\n",
       "    <tr style=\"text-align: right;\">\n",
       "      <th></th>\n",
       "      <th>TWA/TWS</th>\n",
       "      <th>2</th>\n",
       "      <th>4</th>\n",
       "      <th>6</th>\n",
       "      <th>8</th>\n",
       "      <th>10</th>\n",
       "      <th>12</th>\n",
       "      <th>14</th>\n",
       "      <th>16</th>\n",
       "      <th>18</th>\n",
       "      <th>...</th>\n",
       "      <th>24</th>\n",
       "      <th>26</th>\n",
       "      <th>28</th>\n",
       "      <th>30</th>\n",
       "      <th>32</th>\n",
       "      <th>34</th>\n",
       "      <th>36</th>\n",
       "      <th>38</th>\n",
       "      <th>40</th>\n",
       "      <th>60</th>\n",
       "    </tr>\n",
       "  </thead>\n",
       "  <tbody>\n",
       "    <tr>\n",
       "      <th>0</th>\n",
       "      <td>0</td>\n",
       "      <td>0.00</td>\n",
       "      <td>0.00</td>\n",
       "      <td>0.0</td>\n",
       "      <td>0.0</td>\n",
       "      <td>0.0</td>\n",
       "      <td>0.0</td>\n",
       "      <td>0.0</td>\n",
       "      <td>0.0</td>\n",
       "      <td>0.0</td>\n",
       "      <td>...</td>\n",
       "      <td>0.0</td>\n",
       "      <td>0.0</td>\n",
       "      <td>0.0</td>\n",
       "      <td>0.0</td>\n",
       "      <td>0.0</td>\n",
       "      <td>0.0</td>\n",
       "      <td>0.0</td>\n",
       "      <td>0.0</td>\n",
       "      <td>0.0</td>\n",
       "      <td>0.0</td>\n",
       "    </tr>\n",
       "    <tr>\n",
       "      <th>1</th>\n",
       "      <td>25</td>\n",
       "      <td>0.70</td>\n",
       "      <td>0.80</td>\n",
       "      <td>0.4</td>\n",
       "      <td>0.4</td>\n",
       "      <td>0.5</td>\n",
       "      <td>0.6</td>\n",
       "      <td>0.7</td>\n",
       "      <td>0.8</td>\n",
       "      <td>0.7</td>\n",
       "      <td>...</td>\n",
       "      <td>1.0</td>\n",
       "      <td>1.1</td>\n",
       "      <td>1.2</td>\n",
       "      <td>1.4</td>\n",
       "      <td>1.5</td>\n",
       "      <td>1.7</td>\n",
       "      <td>1.9</td>\n",
       "      <td>0.0</td>\n",
       "      <td>0.0</td>\n",
       "      <td>0.0</td>\n",
       "    </tr>\n",
       "    <tr>\n",
       "      <th>2</th>\n",
       "      <td>30</td>\n",
       "      <td>2.10</td>\n",
       "      <td>2.90</td>\n",
       "      <td>1.4</td>\n",
       "      <td>1.4</td>\n",
       "      <td>1.7</td>\n",
       "      <td>1.8</td>\n",
       "      <td>1.9</td>\n",
       "      <td>2.0</td>\n",
       "      <td>1.9</td>\n",
       "      <td>...</td>\n",
       "      <td>2.2</td>\n",
       "      <td>2.4</td>\n",
       "      <td>2.5</td>\n",
       "      <td>2.9</td>\n",
       "      <td>3.1</td>\n",
       "      <td>3.6</td>\n",
       "      <td>4.1</td>\n",
       "      <td>0.0</td>\n",
       "      <td>0.0</td>\n",
       "      <td>0.0</td>\n",
       "    </tr>\n",
       "    <tr>\n",
       "      <th>3</th>\n",
       "      <td>35</td>\n",
       "      <td>2.45</td>\n",
       "      <td>3.00</td>\n",
       "      <td>2.8</td>\n",
       "      <td>2.9</td>\n",
       "      <td>3.5</td>\n",
       "      <td>3.7</td>\n",
       "      <td>3.9</td>\n",
       "      <td>4.0</td>\n",
       "      <td>3.9</td>\n",
       "      <td>...</td>\n",
       "      <td>4.4</td>\n",
       "      <td>4.9</td>\n",
       "      <td>5.1</td>\n",
       "      <td>5.8</td>\n",
       "      <td>6.0</td>\n",
       "      <td>6.5</td>\n",
       "      <td>7.0</td>\n",
       "      <td>0.0</td>\n",
       "      <td>0.0</td>\n",
       "      <td>0.0</td>\n",
       "    </tr>\n",
       "    <tr>\n",
       "      <th>4</th>\n",
       "      <td>40</td>\n",
       "      <td>2.50</td>\n",
       "      <td>3.05</td>\n",
       "      <td>3.6</td>\n",
       "      <td>3.7</td>\n",
       "      <td>4.0</td>\n",
       "      <td>4.3</td>\n",
       "      <td>4.4</td>\n",
       "      <td>4.5</td>\n",
       "      <td>4.4</td>\n",
       "      <td>...</td>\n",
       "      <td>5.8</td>\n",
       "      <td>6.1</td>\n",
       "      <td>6.6</td>\n",
       "      <td>7.1</td>\n",
       "      <td>7.3</td>\n",
       "      <td>7.8</td>\n",
       "      <td>8.3</td>\n",
       "      <td>0.0</td>\n",
       "      <td>0.0</td>\n",
       "      <td>0.0</td>\n",
       "    </tr>\n",
       "  </tbody>\n",
       "</table>\n",
       "<p>5 rows × 22 columns</p>\n",
       "</div>"
      ],
      "text/plain": [
       "   TWA/TWS     2     4    6    8   10   12   14   16   18  ...   24   26   28  \\\n",
       "0        0  0.00  0.00  0.0  0.0  0.0  0.0  0.0  0.0  0.0  ...  0.0  0.0  0.0   \n",
       "1       25  0.70  0.80  0.4  0.4  0.5  0.6  0.7  0.8  0.7  ...  1.0  1.1  1.2   \n",
       "2       30  2.10  2.90  1.4  1.4  1.7  1.8  1.9  2.0  1.9  ...  2.2  2.4  2.5   \n",
       "3       35  2.45  3.00  2.8  2.9  3.5  3.7  3.9  4.0  3.9  ...  4.4  4.9  5.1   \n",
       "4       40  2.50  3.05  3.6  3.7  4.0  4.3  4.4  4.5  4.4  ...  5.8  6.1  6.6   \n",
       "\n",
       "    30   32   34   36   38   40   60  \n",
       "0  0.0  0.0  0.0  0.0  0.0  0.0  0.0  \n",
       "1  1.4  1.5  1.7  1.9  0.0  0.0  0.0  \n",
       "2  2.9  3.1  3.6  4.1  0.0  0.0  0.0  \n",
       "3  5.8  6.0  6.5  7.0  0.0  0.0  0.0  \n",
       "4  7.1  7.3  7.8  8.3  0.0  0.0  0.0  \n",
       "\n",
       "[5 rows x 22 columns]"
      ]
     },
     "execution_count": 24,
     "metadata": {},
     "output_type": "execute_result"
    }
   ],
   "source": [
    "pol_df.head()"
   ]
  },
  {
   "cell_type": "markdown",
   "metadata": {},
   "source": [
    "for column_name, item in pol_df.iteritems():\n",
    "    print(type(column_name))\n",
    "    print(column_name)\n",
    "    print('~~~~~~')\n",
    "\n",
    "    print(type(item))\n",
    "    print(item)\n",
    "    print('------')"
   ]
  },
  {
   "cell_type": "code",
   "execution_count": 25,
   "metadata": {},
   "outputs": [],
   "source": [
    "pol_df = pd.read_csv(\"ref_polar.csv\", sep=',', header=0, index_col='TWA/TWS')"
   ]
  },
  {
   "cell_type": "code",
   "execution_count": 26,
   "metadata": {},
   "outputs": [
    {
     "data": {
      "text/html": [
       "<div>\n",
       "<style scoped>\n",
       "    .dataframe tbody tr th:only-of-type {\n",
       "        vertical-align: middle;\n",
       "    }\n",
       "\n",
       "    .dataframe tbody tr th {\n",
       "        vertical-align: top;\n",
       "    }\n",
       "\n",
       "    .dataframe thead th {\n",
       "        text-align: right;\n",
       "    }\n",
       "</style>\n",
       "<table border=\"1\" class=\"dataframe\">\n",
       "  <thead>\n",
       "    <tr style=\"text-align: right;\">\n",
       "      <th></th>\n",
       "      <th>2</th>\n",
       "      <th>4</th>\n",
       "      <th>6</th>\n",
       "      <th>8</th>\n",
       "      <th>10</th>\n",
       "      <th>12</th>\n",
       "      <th>14</th>\n",
       "      <th>16</th>\n",
       "      <th>18</th>\n",
       "      <th>20</th>\n",
       "      <th>...</th>\n",
       "      <th>24</th>\n",
       "      <th>26</th>\n",
       "      <th>28</th>\n",
       "      <th>30</th>\n",
       "      <th>32</th>\n",
       "      <th>34</th>\n",
       "      <th>36</th>\n",
       "      <th>38</th>\n",
       "      <th>40</th>\n",
       "      <th>60</th>\n",
       "    </tr>\n",
       "    <tr>\n",
       "      <th>TWA/TWS</th>\n",
       "      <th></th>\n",
       "      <th></th>\n",
       "      <th></th>\n",
       "      <th></th>\n",
       "      <th></th>\n",
       "      <th></th>\n",
       "      <th></th>\n",
       "      <th></th>\n",
       "      <th></th>\n",
       "      <th></th>\n",
       "      <th></th>\n",
       "      <th></th>\n",
       "      <th></th>\n",
       "      <th></th>\n",
       "      <th></th>\n",
       "      <th></th>\n",
       "      <th></th>\n",
       "      <th></th>\n",
       "      <th></th>\n",
       "      <th></th>\n",
       "      <th></th>\n",
       "    </tr>\n",
       "  </thead>\n",
       "  <tbody>\n",
       "    <tr>\n",
       "      <th>0</th>\n",
       "      <td>0.00</td>\n",
       "      <td>0.00</td>\n",
       "      <td>0.0</td>\n",
       "      <td>0.0</td>\n",
       "      <td>0.0</td>\n",
       "      <td>0.0</td>\n",
       "      <td>0.0</td>\n",
       "      <td>0.0</td>\n",
       "      <td>0.0</td>\n",
       "      <td>0.0</td>\n",
       "      <td>...</td>\n",
       "      <td>0.0</td>\n",
       "      <td>0.0</td>\n",
       "      <td>0.0</td>\n",
       "      <td>0.0</td>\n",
       "      <td>0.0</td>\n",
       "      <td>0.0</td>\n",
       "      <td>0.0</td>\n",
       "      <td>0.0</td>\n",
       "      <td>0.0</td>\n",
       "      <td>0.0</td>\n",
       "    </tr>\n",
       "    <tr>\n",
       "      <th>25</th>\n",
       "      <td>0.70</td>\n",
       "      <td>0.80</td>\n",
       "      <td>0.4</td>\n",
       "      <td>0.4</td>\n",
       "      <td>0.5</td>\n",
       "      <td>0.6</td>\n",
       "      <td>0.7</td>\n",
       "      <td>0.8</td>\n",
       "      <td>0.7</td>\n",
       "      <td>0.8</td>\n",
       "      <td>...</td>\n",
       "      <td>1.0</td>\n",
       "      <td>1.1</td>\n",
       "      <td>1.2</td>\n",
       "      <td>1.4</td>\n",
       "      <td>1.5</td>\n",
       "      <td>1.7</td>\n",
       "      <td>1.9</td>\n",
       "      <td>0.0</td>\n",
       "      <td>0.0</td>\n",
       "      <td>0.0</td>\n",
       "    </tr>\n",
       "    <tr>\n",
       "      <th>30</th>\n",
       "      <td>2.10</td>\n",
       "      <td>2.90</td>\n",
       "      <td>1.4</td>\n",
       "      <td>1.4</td>\n",
       "      <td>1.7</td>\n",
       "      <td>1.8</td>\n",
       "      <td>1.9</td>\n",
       "      <td>2.0</td>\n",
       "      <td>1.9</td>\n",
       "      <td>2.0</td>\n",
       "      <td>...</td>\n",
       "      <td>2.2</td>\n",
       "      <td>2.4</td>\n",
       "      <td>2.5</td>\n",
       "      <td>2.9</td>\n",
       "      <td>3.1</td>\n",
       "      <td>3.6</td>\n",
       "      <td>4.1</td>\n",
       "      <td>0.0</td>\n",
       "      <td>0.0</td>\n",
       "      <td>0.0</td>\n",
       "    </tr>\n",
       "    <tr>\n",
       "      <th>35</th>\n",
       "      <td>2.45</td>\n",
       "      <td>3.00</td>\n",
       "      <td>2.8</td>\n",
       "      <td>2.9</td>\n",
       "      <td>3.5</td>\n",
       "      <td>3.7</td>\n",
       "      <td>3.9</td>\n",
       "      <td>4.0</td>\n",
       "      <td>3.9</td>\n",
       "      <td>4.1</td>\n",
       "      <td>...</td>\n",
       "      <td>4.4</td>\n",
       "      <td>4.9</td>\n",
       "      <td>5.1</td>\n",
       "      <td>5.8</td>\n",
       "      <td>6.0</td>\n",
       "      <td>6.5</td>\n",
       "      <td>7.0</td>\n",
       "      <td>0.0</td>\n",
       "      <td>0.0</td>\n",
       "      <td>0.0</td>\n",
       "    </tr>\n",
       "    <tr>\n",
       "      <th>40</th>\n",
       "      <td>2.50</td>\n",
       "      <td>3.05</td>\n",
       "      <td>3.6</td>\n",
       "      <td>3.7</td>\n",
       "      <td>4.0</td>\n",
       "      <td>4.3</td>\n",
       "      <td>4.4</td>\n",
       "      <td>4.5</td>\n",
       "      <td>4.4</td>\n",
       "      <td>4.9</td>\n",
       "      <td>...</td>\n",
       "      <td>5.8</td>\n",
       "      <td>6.1</td>\n",
       "      <td>6.6</td>\n",
       "      <td>7.1</td>\n",
       "      <td>7.3</td>\n",
       "      <td>7.8</td>\n",
       "      <td>8.3</td>\n",
       "      <td>0.0</td>\n",
       "      <td>0.0</td>\n",
       "      <td>0.0</td>\n",
       "    </tr>\n",
       "  </tbody>\n",
       "</table>\n",
       "<p>5 rows × 21 columns</p>\n",
       "</div>"
      ],
      "text/plain": [
       "            2     4    6    8   10   12   14   16   18   20  ...   24   26  \\\n",
       "TWA/TWS                                                      ...             \n",
       "0        0.00  0.00  0.0  0.0  0.0  0.0  0.0  0.0  0.0  0.0  ...  0.0  0.0   \n",
       "25       0.70  0.80  0.4  0.4  0.5  0.6  0.7  0.8  0.7  0.8  ...  1.0  1.1   \n",
       "30       2.10  2.90  1.4  1.4  1.7  1.8  1.9  2.0  1.9  2.0  ...  2.2  2.4   \n",
       "35       2.45  3.00  2.8  2.9  3.5  3.7  3.9  4.0  3.9  4.1  ...  4.4  4.9   \n",
       "40       2.50  3.05  3.6  3.7  4.0  4.3  4.4  4.5  4.4  4.9  ...  5.8  6.1   \n",
       "\n",
       "          28   30   32   34   36   38   40   60  \n",
       "TWA/TWS                                          \n",
       "0        0.0  0.0  0.0  0.0  0.0  0.0  0.0  0.0  \n",
       "25       1.2  1.4  1.5  1.7  1.9  0.0  0.0  0.0  \n",
       "30       2.5  2.9  3.1  3.6  4.1  0.0  0.0  0.0  \n",
       "35       5.1  5.8  6.0  6.5  7.0  0.0  0.0  0.0  \n",
       "40       6.6  7.1  7.3  7.8  8.3  0.0  0.0  0.0  \n",
       "\n",
       "[5 rows x 21 columns]"
      ]
     },
     "execution_count": 26,
     "metadata": {},
     "output_type": "execute_result"
    }
   ],
   "source": [
    "pol_df.head()"
   ]
  },
  {
   "cell_type": "markdown",
   "metadata": {},
   "source": [
    "The below block is only needed for better understanding if you so wish"
   ]
  },
  {
   "cell_type": "code",
   "execution_count": 27,
   "metadata": {},
   "outputs": [],
   "source": [
    "# for column_name, item in pol_df.iteritems():\n",
    "#     print(type(column_name))\n",
    "#     print(column_name)\n",
    "#     print('~~~~~~')\n",
    "\n",
    "#     print(type(item))\n",
    "#     print(item)\n",
    "#     print('------')"
   ]
  },
  {
   "cell_type": "markdown",
   "metadata": {},
   "source": [
    "We have now clear column (wind) and row (angle) indices obtained from the polar file and not those sequentially autogenerated by Panda."
   ]
  },
  {
   "cell_type": "markdown",
   "metadata": {},
   "source": [
    "#### Plotting out TWA/STW polar curves"
   ]
  },
  {
   "cell_type": "code",
   "execution_count": 28,
   "metadata": {},
   "outputs": [
    {
     "data": {
      "image/png": "[encoded data removed]",
      "text/plain": [
       "<Figure size 432x288 with 1 Axes>"
      ]
     },
     "metadata": {
      "needs_background": "light"
     },
     "output_type": "display_data"
    }
   ],
   "source": [
    "pol_df.plot(label='Polar')\n",
    "plt.ylabel('STW[kn]')\n",
    "plt.xlabel('TWA [deg]')\n",
    "plt.legend()\n",
    "plt.show()"
   ]
  },
  {
   "cell_type": "markdown",
   "metadata": {},
   "source": [
    "#### Looking up STW values from the polar DataFrame"
   ]
  },
  {
   "cell_type": "markdown",
   "metadata": {},
   "source": [
    "We will hardly get values which will fall spot on a cell of the polar file. We need to find group of cells which allows us to extrapolate by averaging the polar value against the floating value measurement value. Below we select test values to develop that:"
   ]
  },
  {
   "cell_type": "markdown",
   "metadata": {},
   "source": [
    "### Make a subroutine returning polar speed"
   ]
  },
  {
   "cell_type": "markdown",
   "metadata": {},
   "source": [
    "Note that for performance reasons we expect the polar data having been read from the CSV-file into a Panda DataFrame as explained above - there is no need to open the file for every single TWA and TWS tuple. The routing expects and is using the provided example polar file where the TWA column has header `TWA/TWS` (mandatory for his routine, used in selecting that column) and all other columns the respective TWS values."
   ]
  },
  {
   "cell_type": "markdown",
   "metadata": {},
   "source": [
    ">**NOTE**The understanding of how this routine works is not required to understand the rest of the tutorial, provided that you use the example CSV-file."
   ]
  },
  {
   "cell_type": "code",
   "execution_count": 237,
   "metadata": {},
   "outputs": [],
   "source": [
    "def getpolspeed( pol_df, twa, tws ) :\n",
    "    # print('twa: ', twa, 'tws: ', tws)\n",
    "    twa_coldf = pol_df['TWA/TWS']\n",
    "    lowertws_coldf = None\n",
    "    lowertws = None\n",
    "    uppertws_coldf = None\n",
    "    uppertws = None\n",
    "\n",
    "    for column_name, item in pol_df.iteritems():\n",
    "        try:\n",
    "            pol_tws = float(column_name)\n",
    "            # print( pol_tws )\n",
    "            if tws >= pol_tws :\n",
    "                lowertws_coldf = item\n",
    "                lowertws = pol_tws\n",
    "            else :\n",
    "                if pol_tws >= tws :\n",
    "                    uppertws_coldf = item\n",
    "                    uppertws = pol_tws\n",
    "                    break\n",
    "        except ValueError:\n",
    "                # float() failure on the first column TWA/TWS\n",
    "            \tcontinue\n",
    "\n",
    "    # print('lowertws: ', lowertws, ' type df: ', type(lowertws_coldf))\n",
    "    # print('uppertws: ', uppertws, ' type df: ', type(uppertws_coldf))\n",
    "\n",
    "    null_stw      = None\n",
    "    lowertwa      = None\n",
    "    uppertwa      = None\n",
    "    lwrtwa_lwrtws = null_stw\n",
    "    uprtwa_lwrtws = null_stw\n",
    "    lwrtwa_uprtws = null_stw\n",
    "    uprtwa_uprtws = null_stw\n",
    "    \n",
    "    for column_name, item in lowertws_coldf.iteritems():\n",
    "        pol_twa = float(twa_coldf[column_name])\n",
    "        # print( pol_twa )\n",
    "        if twa >= pol_twa :\n",
    "            lwrtwa_lwrtws = item\n",
    "            lowertwa = pol_twa;\n",
    "            # print('lowertwa: ', lowertwa, ' lwrtwa_lwrtws: ', lwrtwa_lwrtws)\n",
    "        else :\n",
    "            if pol_twa >= twa :\n",
    "                if type(uprtwa_lwrtws) is type(null_stw) :\n",
    "                    uprtwa_lwrtws = item\n",
    "                    uppertwa = pol_twa;\n",
    "                    # print('uppertwa: ', uppertwa, ' uprtwa_lwrtws: ', \\\n",
    "                    #       uprtwa_lwrtws)\n",
    "                    break\n",
    "\n",
    "    for column_name, item in uppertws_coldf.iteritems():\n",
    "        pol_twa = float(twa_coldf[column_name])\n",
    "        # print(pol_twa)\n",
    "        if twa >= pol_twa :\n",
    "            lwrtwa_uprtws = item\n",
    "            # print('lwrtwa_uprtws: ', lwrtwa_uprtws)\n",
    "        if pol_twa >= twa :\n",
    "            if type(uprtwa_uprtws) is type(null_stw) :\n",
    "                uprtwa_uprtws = item\n",
    "                # print('uprtwa_uprtws: ', uprtwa_uprtws)\n",
    "                break\n",
    "\n",
    "    # Here we have the \"square\" of values in which the extrapolated value is located:\n",
    "\n",
    "    # print('lowertws: ', lowertws)\n",
    "    # print('lowertwa: ', lowertwa)\n",
    "    # print('uppertws: ', uppertws)\n",
    "    # print('uppertwa: ', uppertwa)\n",
    "    # print('lwrtwa_lwrtws: ', lwrtwa_lwrtws)\n",
    "    # print('uprtwa_lwrtws: ', uprtwa_lwrtws)\n",
    "    # print('lwrtwa_uprtws: ', lwrtwa_uprtws)\n",
    "    # print('uprtwa_uprtws: ', uprtwa_uprtws)\n",
    "\n",
    "    # Consider the result being on a 3D plane with four corners, all inequal height.\n",
    "    # There will be a point on that plane, the height of which is the estimated\n",
    "    # polar speed for that point:\n",
    "\n",
    "    # lwrtwa_lwrtws (x)--+-------(x) lwrtwa_uprtws\n",
    "    #                |   |        |\n",
    "    #                |   |        |\n",
    "    #                +--(?)-------+\n",
    "    #                |   |        |\n",
    "    # uprtwa_lwrtws (x)--+-------(x) uprtwa_uprtws\n",
    "\n",
    "    # Taking upper left corner as origin, we will calculate the point's\n",
    "    # projected elevations.\n",
    "\n",
    "    # **NOTE**: We can have planes which are sliding down (negative elevations),\n",
    "    # especially when the wind speed is getting higher and the polar takes average\n",
    "    # of different sail sets.\n",
    "\n",
    "    lwrtwa_lwrtws_orig = 0.0\n",
    "    lwrtwa_uprtws_elev = lwrtwa_uprtws - lwrtwa_lwrtws\n",
    "    # print('lwrtwa_uprtws_elev: ', lwrtwa_uprtws_elev)\n",
    "    uprtwa_lwrtws_elev = uprtwa_lwrtws - lwrtwa_lwrtws\n",
    "    # print('uprtwa_lwrtws_elev: ', uprtwa_lwrtws_elev)\n",
    "    uprtwa_uprtws_elev = uprtwa_uprtws - lwrtwa_lwrtws\n",
    "    # print('uprtwa_uprtws_elev: ', uprtwa_uprtws_elev)\n",
    "\n",
    "    #                    0.0 (x)--+-------(x) 0.2 lwrtwa_uprtws_elev\n",
    "    #                         |   |        |\n",
    "    #                         |   |        |\n",
    "    #                         +--(?)-------+\n",
    "    #                         |   |        |\n",
    "    # uprtwa_lwrtws_elev 0.5 (x)--+-------(x) 0.8 uprtwa_uprtws_elev\n",
    "\n",
    "    tws_ratio = (test_tws - lowertws)/(uppertws - lowertws)\n",
    "    # print('tws_ratio: ', tws_ratio)\n",
    "\n",
    "    twa_ratio = (test_twa - lowertwa)/(uppertwa - lowertwa)\n",
    "    # print('twa_ratio: ', twa_ratio)\n",
    "\n",
    "    y_lwrtws = twa_ratio * uprtwa_lwrtws_elev\n",
    "    # print('y_lwrtws: ', y_lwrtws)\n",
    "\n",
    "    y_uprtws = lwrtwa_uprtws_elev + (twa_ratio * (uprtwa_uprtws_elev - lwrtwa_uprtws_elev))\n",
    "    # c('y_uprtws: ', y_uprtws)\n",
    "\n",
    "    x_lwrtws = tws_ratio * lwrtwa_uprtws_elev\n",
    "    # print('x_lwrtws: ', x_lwrtws)\n",
    "\n",
    "    x_uprtws = uprtwa_lwrtws_elev + (tws_ratio * (uprtwa_uprtws_elev - uprtwa_lwrtws_elev))\n",
    "    # print('x_uprtws: ', x_uprtws)\n",
    "\n",
    "    #                             0.09 x_lwrtws\n",
    "    #                    0.0 (x)--+-------(x) 0.2 lwrtwa_uprtws_elev\n",
    "    #                         |   |        |\n",
    "    #                         |   |        |\n",
    "    #           y_lwrtws 0.22 +--(?)-------+ 0.46 y_uprtws\n",
    "    #                         |   |        |\n",
    "    # uprtwa_lwrtws_elev 0.5 (x)--+-------(x) 0.8 uprtwa_uprtws_elev\n",
    "    #                             0.64 x_uprtws\n",
    "\n",
    "    ##### Result\n",
    "\n",
    "    x_res = x_lwrtws + (x_uprtws - x_lwrtws) * twa_ratio\n",
    "    # print('x_res: ', x_res)\n",
    "    # print('result: ', (lwrtwa_lwrtws + x_res))\n",
    "\n",
    "    ##### Verification\n",
    "\n",
    "    y_res = y_lwrtws + (y_uprtws - y_lwrtws) * tws_ratio\n",
    "    # print('y_res: ', y_res)\n",
    "    if round(y_res,2) != round(x_res,2) :\n",
    "        printf('WARNING: polar explaration function verification fails: ', x_res, y_res)\n",
    "\n",
    "    return round((lwrtwa_lwrtws + x_res),2)"
   ]
  },
  {
   "cell_type": "markdown",
   "metadata": {},
   "source": [
    "##### Test subroutine"
   ]
  },
  {
   "cell_type": "code",
   "execution_count": 30,
   "metadata": {},
   "outputs": [],
   "source": [
    "test_twa = 37.2\n",
    "test_tws = 10.9"
   ]
  },
  {
   "cell_type": "code",
   "execution_count": 31,
   "metadata": {},
   "outputs": [
    {
     "name": "stdout",
     "output_type": "stream",
     "text": [
      "test_pol_speed:  3.83\n"
     ]
    }
   ],
   "source": [
    "test_pol_speed = getpolspeed( pol_df, test_twa, test_tws )\n",
    "print('test_pol_speed: ', test_pol_speed)\n",
    "if round(test_pol_speed,2) != 3.83 :\n",
    "    print('getpolspeed test FAIL: was expecting 3.83 with the test polar file')"
   ]
  },
  {
   "cell_type": "code",
   "execution_count": 32,
   "metadata": {},
   "outputs": [],
   "source": [
    "test_twa = 60.24671838095237 \n",
    "test_tws = 6.030811476190476"
   ]
  },
  {
   "cell_type": "code",
   "execution_count": 33,
   "metadata": {},
   "outputs": [
    {
     "name": "stdout",
     "output_type": "stream",
     "text": [
      "test_pol_speed:  5.01\n"
     ]
    }
   ],
   "source": [
    "test_pol_speed = getpolspeed( pol_df, test_twa, test_tws )\n",
    "print('test_pol_speed: ', test_pol_speed)\n",
    "if round(test_pol_speed,2) != 5.01 :\n",
    "    print('getpolspeed test FAIL: was expecting 5.01 with the test polar file')"
   ]
  },
  {
   "cell_type": "markdown",
   "metadata": {},
   "source": [
    "### Compare STW dataset to polar values resulting from TWA/TWS values "
   ]
  },
  {
   "cell_type": "markdown",
   "metadata": {},
   "source": [
    "Below block can be used to dump-list the data for debugging purposes but its main purpose is to compose a new Panda DataFrame, which will contain the data to be plotted from the retreived and from the processed data, in this case we compare STW to the polar speed."
   ]
  },
  {
   "cell_type": "code",
   "execution_count": 34,
   "metadata": {},
   "outputs": [],
   "source": [
    "idx = 0\n",
    "stwpol_df = pd.DataFrame(columns=['_time', 'stw', 'pol', 'per'])\n",
    "for row in stw_df.iterrows() :\n",
    "    # print(twa_df['_time'][idx],' ', twa_df['_value'][idx],' ', tws_df['_value'][idx],' ', )\n",
    "    polspeed = getpolspeed( pol_df, twa_df['_value'][idx], tws_df['_value'][idx] );\n",
    "    stwspeed = stw_df['_value'][idx]\n",
    "    performance = stwspeed / polspeed * 100\n",
    "    # Something is wrong with the polar or a typhoon hit us if performance is over 120%?\n",
    "    if performance > 120 :\n",
    "        performance = None\n",
    "    else :\n",
    "        performacne = int(performance)\n",
    "    stwpol_df =stwpol_df.append({'_time': twa_df['_time'][idx], 'stw': round(stwspeed,2), \\\n",
    "                                 'pol': polspeed, 'per': performance},\\\n",
    "                                 ignore_index=True)\n",
    "    idx = idx + 1"
   ]
  },
  {
   "cell_type": "code",
   "execution_count": 35,
   "metadata": {},
   "outputs": [
    {
     "data": {
      "text/html": [
       "<div>\n",
       "<style scoped>\n",
       "    .dataframe tbody tr th:only-of-type {\n",
       "        vertical-align: middle;\n",
       "    }\n",
       "\n",
       "    .dataframe tbody tr th {\n",
       "        vertical-align: top;\n",
       "    }\n",
       "\n",
       "    .dataframe thead th {\n",
       "        text-align: right;\n",
       "    }\n",
       "</style>\n",
       "<table border=\"1\" class=\"dataframe\">\n",
       "  <thead>\n",
       "    <tr style=\"text-align: right;\">\n",
       "      <th></th>\n",
       "      <th>_time</th>\n",
       "      <th>stw</th>\n",
       "      <th>pol</th>\n",
       "      <th>per</th>\n",
       "    </tr>\n",
       "  </thead>\n",
       "  <tbody>\n",
       "    <tr>\n",
       "      <th>0</th>\n",
       "      <td>2021-05-15 11:54:30+00:00</td>\n",
       "      <td>2.41</td>\n",
       "      <td>0.96</td>\n",
       "      <td>NaN</td>\n",
       "    </tr>\n",
       "    <tr>\n",
       "      <th>1</th>\n",
       "      <td>2021-05-15 11:54:40+00:00</td>\n",
       "      <td>2.37</td>\n",
       "      <td>0.96</td>\n",
       "      <td>NaN</td>\n",
       "    </tr>\n",
       "    <tr>\n",
       "      <th>2</th>\n",
       "      <td>2021-05-15 11:54:50+00:00</td>\n",
       "      <td>2.51</td>\n",
       "      <td>0.96</td>\n",
       "      <td>NaN</td>\n",
       "    </tr>\n",
       "    <tr>\n",
       "      <th>3</th>\n",
       "      <td>2021-05-15 11:55:00+00:00</td>\n",
       "      <td>2.25</td>\n",
       "      <td>0.96</td>\n",
       "      <td>NaN</td>\n",
       "    </tr>\n",
       "    <tr>\n",
       "      <th>4</th>\n",
       "      <td>2021-05-15 11:55:10+00:00</td>\n",
       "      <td>2.21</td>\n",
       "      <td>0.96</td>\n",
       "      <td>NaN</td>\n",
       "    </tr>\n",
       "  </tbody>\n",
       "</table>\n",
       "</div>"
      ],
      "text/plain": [
       "                      _time   stw   pol  per\n",
       "0 2021-05-15 11:54:30+00:00  2.41  0.96  NaN\n",
       "1 2021-05-15 11:54:40+00:00  2.37  0.96  NaN\n",
       "2 2021-05-15 11:54:50+00:00  2.51  0.96  NaN\n",
       "3 2021-05-15 11:55:00+00:00  2.25  0.96  NaN\n",
       "4 2021-05-15 11:55:10+00:00  2.21  0.96  NaN"
      ]
     },
     "execution_count": 35,
     "metadata": {},
     "output_type": "execute_result"
    }
   ],
   "source": [
    "stwpol_df.head()"
   ]
  },
  {
   "cell_type": "code",
   "execution_count": 36,
   "metadata": {},
   "outputs": [
    {
     "data": {
      "image/png": "[encoded data removed]",
      "text/plain": [
       "<Figure size 432x288 with 1 Axes>"
      ]
     },
     "metadata": {
      "needs_background": "light"
     },
     "output_type": "display_data"
    }
   ],
   "source": [
    "stwpol_df.plot(x='_time',y='per', label='STW vs polar speed')\n",
    "plt.ylabel('performance [%]')\n",
    "plt.xlabel('time (UTC)')\n",
    "plt.legend()\n",
    "plt.show()"
   ]
  }
 ],
 "metadata": {
  "kernelspec": {
   "display_name": "Python 3",
   "language": "python",
   "name": "python3"
  },
  "language_info": {
   "codemirror_mode": {
    "name": "ipython",
    "version": 3
   },
   "file_extension": ".py",
   "mimetype": "text/x-python",
   "name": "python",
   "nbconvert_exporter": "python",
   "pygments_lexer": "ipython3",
   "version": "3.8.2"
  }
 },
 "nbformat": 4,
 "nbformat_minor": 4
}
